{
 "cells": [
  {
   "cell_type": "markdown",
   "id": "c6a98b2c-2729-43e9-9066-d01f48ed96e0",
   "metadata": {},
   "source": [
    "Chapter 03\n",
    "\n",
    "# 用热图可视化矩阵乘法第二视角\n",
    "《线性代数》 | 鸢尾花书：数学不难"
   ]
  },
  {
   "cell_type": "markdown",
   "id": "1e8ec2c7-8379-4bf6-a9a8-ffd5f7930a48",
   "metadata": {},
   "source": [
    "这段代码主要实现了**两个随机矩阵的乘法**，并通过**热图（heatmap）**可视化矩阵及其计算过程，最后通过**逐项可视化矩阵乘法的计算过程**来展示矩阵乘法的构成。\n",
    "\n",
    "---\n",
    "\n",
    "### **1. 生成随机矩阵**\n",
    "代码首先创建了两个随机矩阵 $A$ 和 $B$，其中：\n",
    "- 矩阵 $A$ 是一个 $5 \\times 12$ 的随机矩阵，其元素均在 $[-1,1]$ 之间：\n",
    "  $$\n",
    "  A = \\begin{bmatrix} \n",
    "  a_{11} & a_{12} & \\cdots & a_{1,12} \\\\ \n",
    "  a_{21} & a_{22} & \\cdots & a_{2,12} \\\\ \n",
    "  a_{31} & a_{32} & \\cdots & a_{3,12} \\\\ \n",
    "  a_{41} & a_{42} & \\cdots & a_{4,12} \\\\ \n",
    "  a_{51} & a_{52} & \\cdots & a_{5,12} \n",
    "  \\end{bmatrix}\n",
    "  $$\n",
    "- 矩阵 $B$ 是一个 $12 \\times 8$ 的随机矩阵，其元素同样在 $[-1,1]$ 之间：\n",
    "  $$\n",
    "  B = \\begin{bmatrix} \n",
    "  b_{11} & b_{12} & \\cdots & b_{1,8} \\\\ \n",
    "  b_{21} & b_{22} & \\cdots & b_{2,8} \\\\ \n",
    "  \\vdots & \\vdots & \\ddots & \\vdots \\\\ \n",
    "  b_{12,1} & b_{12,2} & \\cdots & b_{12,8} \n",
    "  \\end{bmatrix}\n",
    "  $$\n",
    "\n",
    "**可视化**：用 `seaborn.heatmap` 生成两个矩阵的热图，使数据的大小通过颜色直观呈现。\n",
    "\n",
    "---\n",
    "\n",
    "### **2. 计算矩阵乘法**\n",
    "矩阵乘法定义为：\n",
    "$$\n",
    "C = A \\cdot B\n",
    "$$\n",
    "其中：\n",
    "- $A$ 的**列数**（12）必须等于 $B$ 的**行数**（12）。\n",
    "- 结果矩阵 $C$ 的**形状**是 $5 \\times 8$，即：\n",
    "  $$\n",
    "  C = \\begin{bmatrix} \n",
    "  c_{11} & c_{12} & \\cdots & c_{1,8} \\\\ \n",
    "  c_{21} & c_{22} & \\cdots & c_{2,8} \\\\ \n",
    "  c_{31} & c_{32} & \\cdots & c_{3,8} \\\\ \n",
    "  c_{41} & c_{42} & \\cdots & c_{4,8} \\\\ \n",
    "  c_{51} & c_{52} & \\cdots & c_{5,8} \n",
    "  \\end{bmatrix}\n",
    "  $$\n",
    "  其中：\n",
    "  $$\n",
    "  c_{ij} = \\sum_{k=1}^{12} a_{ik} \\cdot b_{kj}\n",
    "  $$\n",
    "  也就是说，每个元素 $c_{ij}$ 由 $A$ 的第 $i$ 行与 $B$ 的第 $j$ 列对应元素相乘后求和得到：\n",
    "  $$\n",
    "  C = A B = \\left[\n",
    "  \\begin{array}{ccc}\n",
    "  \\sum_{k=1}^{12} a_{1k} b_{k1} & \\sum_{k=1}^{12} a_{1k} b_{k2} & \\cdots \\\\\n",
    "  \\sum_{k=1}^{12} a_{2k} b_{k1} & \\sum_{k=1}^{12} a_{2k} b_{k2} & \\cdots \\\\\n",
    "  \\vdots & \\vdots & \\ddots\n",
    "  \\end{array}\n",
    "  \\right]\n",
    "  $$\n",
    "\n",
    "**可视化**：\n",
    "- 结果矩阵 $C$ 也被绘制成**热图**，显示计算后的矩阵值。\n",
    "- 通过 `matplotlib`，结果矩阵 $C$ 的热图与运算符（=，@）并排显示，方便理解矩阵计算过程。\n",
    "\n",
    "---\n",
    "\n",
    "### **3. 逐步分解矩阵乘法**\n",
    "矩阵乘法的计算本质上是逐列计算 $A$ 和逐行计算 $B$ 的**向量点积**。  \n",
    "代码通过 `C_k = A[:,[k]] @ B [[k],:]` 逐列计算 $A$ 的每一列和 $B$ 的每一行的**外积**，即：\n",
    "$$\n",
    "C_k = A_{[:,k]} B_{[k,:]}\n",
    "$$\n",
    "其中：\n",
    "- $A_{[:,k]}$ 是 $A$ 的第 $k$ 列，形状为 $5 \\times 1$。\n",
    "- $B_{[k,:]}$ 是 $B$ 的第 $k$ 行，形状为 $1 \\times 8$。\n",
    "- 结果 $C_k$ 具有形状 $5 \\times 8$，表示 $A$ 的第 $k$ 列与 $B$ 的第 $k$ 行的外积。\n",
    "\n",
    "最终，所有 $C_k$ **逐项相加**，得出最终的 $C$：\n",
    "$$\n",
    "C = \\sum_{k=1}^{12} C_k\n",
    "$$\n",
    "\n",
    "**可视化**：\n",
    "- 代码使用 `matplotlib` 创建了一个 $3 \\times 4$ 的子图，每个子图对应一个 $C_k$，展示了矩阵乘法的逐步构成过程。\n",
    "\n",
    "---\n",
    "\n",
    "### **4. 结论**\n",
    "这段代码展示了**矩阵乘法的直观计算过程**：\n",
    "- 通过 `numpy` 生成随机矩阵 $A$ 和 $B$，并可视化它们。\n",
    "- 计算矩阵乘积 $C = A B$，并绘制 $C$ 的热图。\n",
    "- 逐步拆解矩阵乘法的构成，展示 $C_k$ 的累积贡献，使矩阵乘法的过程更加透明直观。\n",
    "\n",
    "这一过程符合**线性代数**中的矩阵运算规则，并通过图像方式直观展示了矩阵计算的步骤，适用于**教学和理解矩阵乘法的计算过程**。"
   ]
  },
  {
   "cell_type": "markdown",
   "id": "ece0de0f-22f5-4e81-b7a1-52ba9c655323",
   "metadata": {},
   "source": [
    "## 初始化"
   ]
  },
  {
   "cell_type": "code",
   "execution_count": 3,
   "id": "e7785bcb-527f-4d48-bfd6-f96aa060144c",
   "metadata": {},
   "outputs": [],
   "source": [
    "import numpy as np  # 导入数值计算库\n",
    "import seaborn as sns  # 导入数据可视化库\n",
    "from matplotlib import pyplot as plt  # 导入绘图库"
   ]
  },
  {
   "cell_type": "markdown",
   "id": "6a508235-6982-4cb3-98ea-5cb1cdf7dd41",
   "metadata": {},
   "source": [
    "## 创建矩阵A和B"
   ]
  },
  {
   "cell_type": "code",
   "execution_count": 5,
   "id": "d54c24ce-a341-4258-bb2e-495012d34e83",
   "metadata": {},
   "outputs": [
    {
     "data": {
      "text/plain": [
       "array([[ 0.2951021 ,  0.01429938,  0.05668276,  0.79257041,  0.39998238,\n",
       "         0.4285942 ,  0.43467676, -0.55436108, -0.64969095, -0.08631702,\n",
       "         0.85747686, -0.98022823],\n",
       "       [-0.82015561,  0.70040054, -0.02875788,  0.75367118, -0.38533212,\n",
       "        -0.22406891,  0.16289149, -0.77262564,  0.53576037, -0.37486792,\n",
       "         0.29202092, -0.93460217],\n",
       "       [-0.66720885, -0.13939394, -0.54438706,  0.93261493,  0.80987882,\n",
       "         0.73132583, -0.93567444,  0.5989955 ,  0.81231102,  0.40786666,\n",
       "        -0.54057511, -0.1771288 ],\n",
       "       [ 0.95728792, -0.34190808,  0.19105814,  0.07169268, -0.07780809,\n",
       "        -0.54840068,  0.84110593,  0.22164568, -0.55981616, -0.9214308 ,\n",
       "         0.09577916, -0.81962657],\n",
       "       [ 0.63613656,  0.36713916,  0.87165598, -0.82017787, -0.97328478,\n",
       "        -0.56777511, -0.23258517,  0.47506735, -0.48989147, -0.48920298,\n",
       "        -0.52213956, -0.78695798]])"
      ]
     },
     "execution_count": 5,
     "metadata": {},
     "output_type": "execute_result"
    }
   ],
   "source": [
    "np.random.seed(88)  # 保证每次运行生成相同的随机数\n",
    "A = np.random.uniform(-1, 1, (5, 12))\n",
    "# 生成一个 5×12 的随机整数矩阵（数值范围 0~10）\n",
    "A"
   ]
  },
  {
   "cell_type": "code",
   "execution_count": 6,
   "id": "c67d8ec4-5bb6-4d83-9e05-d35990ea25c3",
   "metadata": {},
   "outputs": [
    {
     "data": {
      "text/plain": [
       "<Axes: >"
      ]
     },
     "execution_count": 6,
     "metadata": {},
     "output_type": "execute_result"
    },
    {
     "data": {
      "image/png": "[encoded data removed]",
      "text/plain": [
       "<Figure size 640x480 with 1 Axes>"
      ]
     },
     "metadata": {},
     "output_type": "display_data"
    }
   ],
   "source": [
    "sns.heatmap(A, cmap = 'RdYlBu_r', square = True, \n",
    "            cbar = False,\n",
    "            linecolor = 'w', linewidths = 0.25)"
   ]
  },
  {
   "cell_type": "code",
   "execution_count": 7,
   "id": "f5f12b9b-36f5-49a6-a1d8-4bdf9b956704",
   "metadata": {},
   "outputs": [
    {
     "data": {
      "text/plain": [
       "array([[-0.63544881,  0.78586467, -0.8805252 , -0.66807296, -0.92597501,\n",
       "         0.40170689,  0.99329933, -0.77794562],\n",
       "       [ 0.44911418, -0.32517321, -0.6463447 ,  0.88373575,  0.95186898,\n",
       "         0.52953172, -0.19490997, -0.16397646],\n",
       "       [ 0.28995495, -0.92863205, -0.73063709,  0.26954949,  0.86110223,\n",
       "         0.90084512,  0.12667943, -0.57593776],\n",
       "       [ 0.0818441 , -0.65333352, -0.70500183,  0.45299007, -0.58046341,\n",
       "        -0.95581985,  0.25193687,  0.90186504],\n",
       "       [ 0.78719916, -0.26147268,  0.85737295,  0.02976143,  0.88742041,\n",
       "         0.13894219, -0.97340213, -0.32344632],\n",
       "       [-0.76270929, -0.31874168, -0.27196198,  0.30947122,  0.87200487,\n",
       "        -0.60105042,  0.24760211, -0.68565583],\n",
       "       [-0.8348775 ,  0.38619428, -0.45257766, -0.19015451,  0.99434971,\n",
       "         0.0082224 ,  0.87605771, -0.28638224],\n",
       "       [-0.40400711, -0.7689096 , -0.09600042,  0.95586342, -0.06598517,\n",
       "        -0.93511531,  0.31161634, -0.94289277],\n",
       "       [-0.39658628,  0.95619366, -0.84529541, -0.31177212, -0.99557658,\n",
       "         0.37476923, -0.93195442, -0.44681321],\n",
       "       [-0.9639589 , -0.8175903 ,  0.91542455,  0.77615542,  0.31394815,\n",
       "         0.95950185, -0.07857369, -0.84930187],\n",
       "       [ 0.60937844,  0.27349324,  0.4083768 ,  0.94846395,  0.3103788 ,\n",
       "         0.35963455, -0.32960103,  0.59283227],\n",
       "       [-0.38290982, -0.99518425,  0.94131515, -0.45964301,  0.73569824,\n",
       "        -0.02837254,  0.83754994,  0.21442016]])"
      ]
     },
     "execution_count": 7,
     "metadata": {},
     "output_type": "execute_result"
    }
   ],
   "source": [
    "B =  np.random.uniform(-1, 1, (12, 8))\n",
    "# 生成一个 5×12 的随机整数矩阵（数值范围 0~10）\n",
    "B"
   ]
  },
  {
   "cell_type": "code",
   "execution_count": 8,
   "id": "0a566b18-2699-4803-8cbb-cf67866fd0b1",
   "metadata": {},
   "outputs": [
    {
     "data": {
      "text/plain": [
       "<Axes: >"
      ]
     },
     "execution_count": 8,
     "metadata": {},
     "output_type": "execute_result"
    },
    {
     "data": {
      "image/png": "[encoded data removed]",
      "text/plain": [
       "<Figure size 640x480 with 1 Axes>"
      ]
     },
     "metadata": {},
     "output_type": "display_data"
    }
   ],
   "source": [
    "sns.heatmap(B, cmap = 'RdYlBu_r', square = True, \n",
    "            cbar = False,\n",
    "            linecolor = 'w', linewidths = 0.25)"
   ]
  },
  {
   "cell_type": "markdown",
   "id": "dfeed245-4e33-4910-9833-2137fd34faa3",
   "metadata": {},
   "source": [
    "## 矩阵乘法 A@B"
   ]
  },
  {
   "cell_type": "code",
   "execution_count": 10,
   "id": "7d3b567f-da0f-4c6a-897f-f95eacf02cba",
   "metadata": {},
   "outputs": [
    {
     "data": {
      "text/plain": [
       "array([[ 0.98797093,  0.66910163, -0.88876459,  1.12118591,  0.69130305,\n",
       "        -0.25055795, -0.06932378,  1.08696502],\n",
       "       [ 1.61749156,  1.31993114, -2.06638394,  0.89880038, -0.60852435,\n",
       "         0.072751  , -1.89227367,  2.23129511],\n",
       "       [-0.07813197, -1.37788175,  0.57851779,  1.23120289, -1.1172428 ,\n",
       "        -2.11212281, -2.4691439 , -0.4314863 ],\n",
       "       [ 0.34710126,  2.04869843, -2.23427683, -1.05088561, -1.11971085,\n",
       "        -0.61067229,  1.68173533,  0.13102407],\n",
       "       [ 0.2644065 ,  0.65919255, -2.46419918, -0.30393328, -1.04122842,\n",
       "         0.96055876,  1.22317478, -1.31792664]])"
      ]
     },
     "execution_count": 10,
     "metadata": {},
     "output_type": "execute_result"
    }
   ],
   "source": [
    "C = A @ B\n",
    "C"
   ]
  },
  {
   "cell_type": "code",
   "execution_count": 32,
   "id": "85fe8fe6-0b22-45c8-aecf-666084b060ff",
   "metadata": {},
   "outputs": [
    {
     "data": {
      "image/png": "[encoded data removed]",
      "text/plain": [
       "<Figure size 800x300 with 8 Axes>"
      ]
     },
     "metadata": {},
     "output_type": "display_data"
    }
   ],
   "source": [
    "fig, axs = plt.subplots(1, 5, figsize=(8, 3))  \n",
    "\n",
    "plt.sca(axs[0])\n",
    "ax = sns.heatmap(C, cmap='RdYlBu_r', \n",
    "                 linecolor = 'k', linewidths = '0.25',\n",
    "                 xticklabels = [], yticklabels = [],\n",
    "                 cbar_kws={\"orientation\": \"horizontal\"})\n",
    "ax.set_aspect(\"equal\")\n",
    "plt.title('C')\n",
    "\n",
    "plt.sca(axs[1])\n",
    "plt.title('=')  # 绘制等号\n",
    "plt.axis('off')\n",
    "\n",
    "plt.sca(axs[2])\n",
    "ax = sns.heatmap(A, cmap='RdYlBu_r', \n",
    "                 linecolor = 'k', linewidths = '0.25',\n",
    "                 xticklabels = [], yticklabels = [],\n",
    "                 cbar_kws={\"orientation\": \"horizontal\"})\n",
    "ax.set_aspect(\"equal\")\n",
    "plt.title('A')\n",
    "\n",
    "plt.sca(axs[3])\n",
    "plt.title('@')  # 绘制乘号\n",
    "plt.axis('off')\n",
    "\n",
    "plt.sca(axs[4])\n",
    "ax = sns.heatmap(B, cmap='RdYlBu_r', \n",
    "                 linecolor = 'k', linewidths = '0.25',\n",
    "                 xticklabels = [], yticklabels = [],\n",
    "                 cbar_kws={\"orientation\": \"horizontal\"})\n",
    "ax.set_aspect(\"equal\")\n",
    "plt.title('B')"
   ]
  },
  {
   "cell_type": "markdown",
   "id": "8a47dacd-9157-461b-89bb-7a3d558679fc",
   "metadata": {},
   "source": [
    "## 叠加"
   ]
  },
  {
   "cell_type": "code",
   "execution_count": 11,
   "id": "33879ad6-5f01-437e-af59-aaf51964b0bd",
   "metadata": {},
   "outputs": [
    {
     "data": {
      "text/plain": [
       "(5, 12)"
      ]
     },
     "execution_count": 11,
     "metadata": {},
     "output_type": "execute_result"
    }
   ],
   "source": [
    "A_shape = A.shape\n",
    "A_shape"
   ]
  },
  {
   "cell_type": "code",
   "execution_count": 12,
   "id": "c640b314-ac14-4aa8-b4ff-8178c809eb8c",
   "metadata": {},
   "outputs": [
    {
     "data": {
      "text/plain": [
       "12"
      ]
     },
     "execution_count": 12,
     "metadata": {},
     "output_type": "execute_result"
    }
   ],
   "source": [
    "p = A_shape[1]\n",
    "p"
   ]
  },
  {
   "cell_type": "code",
   "execution_count": 40,
   "id": "290e8b0c-aff0-4904-95f6-b378cddfe755",
   "metadata": {},
   "outputs": [
    {
     "data": {
      "image/png": "[encoded data removed]",
      "text/plain": [
       "<Figure size 800x600 with 24 Axes>"
      ]
     },
     "metadata": {},
     "output_type": "display_data"
    }
   ],
   "source": [
    "fig, axs = plt.subplots(3, 4, figsize=(8, 6))  \n",
    "axs = axs.flatten()\n",
    "\n",
    "for k in range(p):\n",
    "    C_k = A[:,[k]] @ B [[k],:]\n",
    "\n",
    "    plt.sca(axs[k])\n",
    "    ax = sns.heatmap(C_k, cmap='RdYlBu_r', \n",
    "                     linecolor = 'k', linewidths = '0.25',\n",
    "                     xticklabels = [], yticklabels = [],\n",
    "                     cbar_kws={\"orientation\": \"horizontal\"})\n",
    "    ax.set_aspect(\"equal\")\n",
    "    plt.title('C_' + str(k+1))\n"
   ]
  },
  {
   "cell_type": "markdown",
   "id": "f21cc7df-ac13-483b-8812-d04089338125",
   "metadata": {},
   "source": [
    "作者\t**生姜DrGinger**  \n",
    "脚本\t**生姜DrGinger**  \n",
    "视频\t**崔崔CuiCui**  \n",
    "开源资源\t[**GitHub**](https://github.com/Visualize-ML)  \n",
    "平台\t[**油管**](https://www.youtube.com/@DrGinger_Jiang)\t\t\n",
    "\t\t[**iris小课堂**](https://space.bilibili.com/3546865719052873)\t\t\n",
    "\t\t[**生姜DrGinger**](https://space.bilibili.com/513194466)  "
   ]
  }
 ],
 "metadata": {
  "kernelspec": {
   "display_name": "Python [conda env:base] *",
   "language": "python",
   "name": "conda-base-py"
  },
  "language_info": {
   "codemirror_mode": {
    "name": "ipython",
    "version": 3
   },
   "file_extension": ".py",
   "mimetype": "text/x-python",
   "name": "python",
   "nbconvert_exporter": "python",
   "pygments_lexer": "ipython3",
   "version": "3.12.7"
  }
 },
 "nbformat": 4,
 "nbformat_minor": 5
}
