{
 "cells": [
  {
   "cell_type": "markdown",
   "id": "c7016ce2-6834-4317-8997-97b3927550b4",
   "metadata": {},
   "source": [
    "Chapter 15\n",
    "\n",
    "# 有权无向图\n",
    "《线性代数》 | 鸢尾花书：数学不难"
   ]
  },
  {
   "cell_type": "markdown",
   "id": "ea95383f-b40e-4250-8984-7f487aed2b67",
   "metadata": {},
   "source": [
    "这段代码从数学角度展示了一个**有权无向图**的构建与可视化过程，目的是建立一个结构清晰的图 $G = (V, E, W)$，其中 $V$ 是节点集合，$E$ 是无向边集合，$W$ 是边权重函数。\n",
    "\n",
    "---\n",
    "\n",
    "首先，调用 `nx.Graph()` 创建一个无向图对象 $G$，这意味着对于任意一条边 $(u, v) \\in E$，也隐含 $(v, u) \\in E$，即边是双向的。接着，调用 `add_nodes_from()` 向图中添加了四个节点 $V = \\{a, b, c, d\\}$，分别代表图中的四个位置或实体。\n",
    "\n",
    "随后通过 `add_edges_from()` 添加边，并为每条边定义一个权重 `weight`，这些权重构成一个函数 $w: E \\rightarrow \\mathbb{R}^+$，表示从一个节点到另一个节点的“代价”或“距离”。具体来说：\n",
    "\n",
    "- $w(a, b) = 3$\n",
    "- $w(a, c) = 8$\n",
    "- $w(a, d) = 5$\n",
    "- $w(b, c) = 6$\n",
    "- $w(c, d) = 2$\n",
    "\n",
    "这使得整张图可以用一个加权邻接矩阵 $A$ 表示，其中 $A_{ij} = w(v_i, v_j)$，否则为 $0$。这个矩阵是对称的，因为图是无向的。\n",
    "\n",
    "接着，代码通过变量 `pos` 显式地指定每个节点在二维平面上的位置：\n",
    "- $a = (0, 0)$\n",
    "- $b = (1, 0)$\n",
    "- $c = (1, 1)$\n",
    "- $d = (0, 1)$\n",
    "\n",
    "这使得图形布局固定，便于可视化。\n",
    "\n",
    "最后，使用 `nx.draw_networkx()` 绘制节点与边结构，并用 `nx.draw_networkx_edge_labels()` 在边上标注每条边的权重，从而使图既包含拓扑结构，也体现了边的数值信息。\n",
    "\n",
    "综上，这段代码完整构建了一个五边的加权无向图，并在平面上实现其可视化表达，表达了数学对象 $G = (V, E, w)$ 的一个具体几何模型。"
   ]
  },
  {
   "cell_type": "markdown",
   "id": "97e3c71c-8b9f-4d97-b70d-23e6888af75f",
   "metadata": {},
   "source": [
    "## 初始化"
   ]
  },
  {
   "cell_type": "code",
   "execution_count": 4,
   "id": "7d7c462a-c294-4f88-a4a7-6be0b6aecf17",
   "metadata": {},
   "outputs": [],
   "source": [
    "import matplotlib.pyplot as plt\n",
    "import networkx as nx"
   ]
  },
  {
   "cell_type": "markdown",
   "id": "d84db280-798e-4ce1-b3b4-66a870e9ea62",
   "metadata": {},
   "source": [
    "## 无向图"
   ]
  },
  {
   "cell_type": "code",
   "execution_count": 6,
   "id": "e53aa32b-f827-44a3-bba3-3927279c3615",
   "metadata": {},
   "outputs": [],
   "source": [
    "undirected_G = nx.Graph()"
   ]
  },
  {
   "cell_type": "markdown",
   "id": "9ce0a624-0c65-4f52-8c7a-3f1823123ea8",
   "metadata": {},
   "source": [
    "## 增加节点"
   ]
  },
  {
   "cell_type": "code",
   "execution_count": 8,
   "id": "52fd8065-1144-4886-afe3-840e57de0ee0",
   "metadata": {},
   "outputs": [],
   "source": [
    "undirected_G.add_nodes_from(['a','b','c','d'])"
   ]
  },
  {
   "cell_type": "markdown",
   "id": "9051a847-e832-4edc-9ab0-89ea42a511d4",
   "metadata": {},
   "source": [
    "## 增加有权边"
   ]
  },
  {
   "cell_type": "code",
   "execution_count": 10,
   "id": "2c8d1948-e2d3-490a-a554-cc50341e47f8",
   "metadata": {},
   "outputs": [],
   "source": [
    "undirected_G.add_edges_from([('a','b', {'weight':3}),\n",
    "                             ('a','c', {'weight':8}),\n",
    "                             ('a','d', {'weight':5}),\n",
    "                             ('b','c', {'weight':6}),\n",
    "                             ('c','d', {'weight':2})])"
   ]
  },
  {
   "cell_type": "markdown",
   "id": "b08832b2-91fd-40fa-b22a-a03aaba85103",
   "metadata": {},
   "source": [
    "## 定义节点坐标"
   ]
  },
  {
   "cell_type": "code",
   "execution_count": 12,
   "id": "a62cc18d-eb71-4490-8dc0-2731ada91042",
   "metadata": {},
   "outputs": [],
   "source": [
    "pos = {'a':[0, 0], \n",
    "       'b':[1, 0],\n",
    "       'c':[1, 1],\n",
    "       'd':[0, 1]}"
   ]
  },
  {
   "cell_type": "markdown",
   "id": "a0d0c336-28a2-4190-9567-5fe946ef9fd8",
   "metadata": {},
   "source": [
    "## 可视化"
   ]
  },
  {
   "cell_type": "code",
   "execution_count": 14,
   "id": "ced4448e-0ef3-496a-b3d5-9ed907c7c713",
   "metadata": {},
   "outputs": [
    {
     "data": {
      "text/plain": [
       "{('a', 'b'): Text(0.5000002362357918, 5.551115123125783e-17, '3'),\n",
       " ('a', 'c'): Text(0.5000001107982824, 0.5000001107982825, '8'),\n",
       " ('a', 'd'): Text(0.0, 0.5000037252029869, '5'),\n",
       " ('b', 'c'): Text(0.9999999999999999, 0.5000037252029869, '6'),\n",
       " ('c', 'd'): Text(0.49999976376420807, 1.0, '2')}"
      ]
     },
     "execution_count": 14,
     "metadata": {},
     "output_type": "execute_result"
    },
    {
     "data": {
      "image/png": "[encoded data removed]",
      "text/plain": [
       "<Figure size 600x600 with 1 Axes>"
      ]
     },
     "metadata": {},
     "output_type": "display_data"
    }
   ],
   "source": [
    "plt.figure(figsize = (6,6))\n",
    "nx.draw_networkx(undirected_G, pos = pos, node_size = 188)\n",
    "\n",
    "edge_labels = nx.get_edge_attributes(undirected_G, 'weight')\n",
    "\n",
    "# 在图上绘制边的权重\n",
    "nx.draw_networkx_edge_labels(undirected_G, pos, edge_labels=edge_labels)"
   ]
  },
  {
   "cell_type": "markdown",
   "id": "34ff2ef7-6fff-43a9-9c2a-22967e6b6e0a",
   "metadata": {},
   "source": [
    "作者\t**生姜DrGinger**  \n",
    "脚本\t**生姜DrGinger**  \n",
    "视频\t**崔崔CuiCui**  \n",
    "开源资源\t[**GitHub**](https://github.com/Visualize-ML)  \n",
    "平台\t[**油管**](https://www.youtube.com/@DrGinger_Jiang)\t\t\n",
    "\t\t[**iris小课堂**](https://space.bilibili.com/3546865719052873)\t\t\n",
    "\t\t[**生姜DrGinger**](https://space.bilibili.com/513194466)  "
   ]
  }
 ],
 "metadata": {
  "kernelspec": {
   "display_name": "Python [conda env:base] *",
   "language": "python",
   "name": "conda-base-py"
  },
  "language_info": {
   "codemirror_mode": {
    "name": "ipython",
    "version": 3
   },
   "file_extension": ".py",
   "mimetype": "text/x-python",
   "name": "python",
   "nbconvert_exporter": "python",
   "pygments_lexer": "ipython3",
   "version": "3.12.7"
  }
 },
 "nbformat": 4,
 "nbformat_minor": 5
}
