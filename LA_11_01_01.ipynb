{
 "cells": [
  {
   "cell_type": "markdown",
   "id": "f04dd603-a2d1-48ce-8c17-9f1dba8de1ee",
   "metadata": {},
   "source": [
    "Chapter 11\n",
    "\n",
    "# 特征值分解\n",
    "《线性代数》 | 鸢尾花书：数学不难"
   ]
  },
  {
   "cell_type": "markdown",
   "id": "ccafb456-2453-4c82-8a65-b1963a370cb2",
   "metadata": {},
   "source": [
    "这段代码从头到尾，围绕**矩阵的特征值分解（Eigendecomposition）**展开，辅以几何可视化手段，展示了矩阵 $A$ 如何将单位圆变换为一个椭圆，并指出该椭圆的主轴方向即为 $A$ 的特征向量，主轴的长度则由特征值决定。\n",
    "\n",
    "---\n",
    "\n",
    "首先，定义了一个对称实矩阵：\n",
    "\n",
    "$$\n",
    "A = \\begin{bmatrix} 1.25 & -0.75 \\\\ -0.75 & 1.25 \\end{bmatrix}\n",
    "$$\n",
    "\n",
    "这是一个 $2\\times 2$ 的对称矩阵，其特征值必为实数，特征向量可以正交化。\n",
    "\n",
    "接着使用 `np.linalg.eig(A)` 对矩阵 $A$ 进行特征值分解，得到两个部分：\n",
    "\n",
    "- $V$：由两个特征向量 $v_1, v_2$ 组成的矩阵，满足 $A v_i = \\lambda_i v_i$。\n",
    "- $\\Lambda$：一个对角矩阵，包含对应的特征值 $\\lambda_1, \\lambda_2$：\n",
    "\n",
    "$$\n",
    "\\Lambda = \\operatorname{diag}(\\lambda_1, \\lambda_2), \\quad\n",
    "A = V \\Lambda V^{-1}\n",
    "$$\n",
    "\n",
    "然后，分别提取了第一组和第二组特征值与特征向量，并验证了：\n",
    "\n",
    "$$\n",
    "A v_1 = \\lambda_1 v_1, \\quad A v_2 = \\lambda_2 v_2\n",
    "$$\n",
    "\n",
    "这验证了特征值分解的定义。\n",
    "\n",
    "---\n",
    "\n",
    "下面是几何可视化部分。\n",
    "\n",
    "首先，构造单位圆上 721 个点：\n",
    "\n",
    "$$\n",
    "(x_1, x_2) = (\\cos\\theta, \\sin\\theta), \\quad \\theta \\in [0, 2\\pi]\n",
    "$$\n",
    "\n",
    "这些点组成单位圆：\n",
    "\n",
    "$$\n",
    "\\text{unit\\_circle} = \\left[ \\begin{array}{c}\n",
    "\\cos\\theta_1 \\ \\sin\\theta_1 \\\\\n",
    "\\cos\\theta_2 \\ \\sin\\theta_2 \\\\\n",
    "\\vdots \\\\\n",
    "\\cos\\theta_n \\ \\sin\\theta_n \\\\\n",
    "\\end{array} \\right]\n",
    "$$\n",
    "\n",
    "接着对单位圆中的每个点应用线性变换 $A$，即对每个点 $x$ 计算 $Ax$，几何上是将单位圆通过 $A$ 线性变换为一个椭圆。变换形式为右乘 $A^\\top$：\n",
    "\n",
    "$$\n",
    "A_{\\text{unit circle}} = \\text{unit\\_circle} \\cdot A^\\top\n",
    "$$\n",
    "\n",
    "注意是 $A^\\top$，因为 NumPy 中是按行操作的。\n",
    "\n",
    "---\n",
    "\n",
    "然后绘制两个主要内容：\n",
    "\n",
    "1. 原始单位圆（虚线）\n",
    "2. 被 $A$ 变换后的椭圆（虚线）\n",
    "\n",
    "除此之外，还绘制了：\n",
    "\n",
    "- 特征向量 $v_1, v_2$（从原点出发的箭头）\n",
    "- 对应的变换结果 $A v_1, A v_2$\n",
    "\n",
    "由于特征向量在变换后只是被“拉伸”或“压缩”，方向保持不变，因此箭头 $v_i$ 和 $A v_i$ 是共线的。这种共线现象是特征向量的核心几何性质：\n",
    "\n",
    "$$\n",
    "A v_i = \\lambda_i v_i \\quad \\Rightarrow \\quad A \\text{作用在} v_i \\text{上仅改变其长度，不改变方向}\n",
    "$$\n",
    "\n",
    "---\n",
    "\n",
    "最终图形展示：\n",
    "\n",
    "- 原始单位圆被 $A$ 拉伸成椭圆\n",
    "- 椭圆的主轴方向是 $A$ 的两个特征向量\n",
    "- 椭圆的半轴长度是对应特征值的大小\n",
    "\n",
    "这体现了特征值分解在几何中的作用：它告诉我们一个对称矩阵在空间中“变形”的本质结构，是将单位圆**沿着特征向量方向拉伸/压缩**，拉伸系数就是对应的特征值。\n",
    "\n",
    "---\n",
    "\n",
    "总的来说，这段代码用图像揭示了以下数学思想：\n",
    "\n",
    "- 线性变换 $A$ 如何作用于整个空间（特别是单位圆）\n",
    "- 特征值/特征向量的几何意义\n",
    "- 实对称矩阵总能正交对角化，所形成的椭圆主轴是特征向量方向\n",
    "\n",
    "它是连接**代数结构**（$A = V\\Lambda V^{-1}$）与**几何直观**（椭圆、方向、长度）的经典例子。"
   ]
  },
  {
   "cell_type": "markdown",
   "id": "932b77d1-1791-49ea-91bd-f4688e46eff5",
   "metadata": {},
   "source": [
    "## 初始化"
   ]
  },
  {
   "cell_type": "code",
   "execution_count": 60,
   "id": "954b7525-dcef-47cb-af13-40c741ca3891",
   "metadata": {},
   "outputs": [],
   "source": [
    "import numpy as np\n",
    "import matplotlib.pyplot as plt"
   ]
  },
  {
   "cell_type": "markdown",
   "id": "e80828cd-9788-4af3-ad4e-095deaca8ad0",
   "metadata": {},
   "source": [
    "## 构造矩阵"
   ]
  },
  {
   "cell_type": "code",
   "execution_count": 6,
   "id": "35d1b417-1522-4104-9847-5a8f99f686b8",
   "metadata": {},
   "outputs": [],
   "source": [
    "A = np.array([[1.25,-0.75],\n",
    "              [-0.75,1.25]])"
   ]
  },
  {
   "cell_type": "markdown",
   "id": "48567261-f116-4d67-a519-cf6b8430325f",
   "metadata": {},
   "source": [
    "## 特征值分解"
   ]
  },
  {
   "cell_type": "code",
   "execution_count": 22,
   "id": "281a3219-8b00-4067-a4ab-f945be8fe38e",
   "metadata": {},
   "outputs": [],
   "source": [
    "lambdas, V = np.linalg.eig(A)"
   ]
  },
  {
   "cell_type": "code",
   "execution_count": 24,
   "id": "7c771707-bdaa-4667-953d-b13aef42b54e",
   "metadata": {},
   "outputs": [
    {
     "data": {
      "text/plain": [
       "array([2. , 0.5])"
      ]
     },
     "execution_count": 24,
     "metadata": {},
     "output_type": "execute_result"
    }
   ],
   "source": [
    "lambdas"
   ]
  },
  {
   "cell_type": "code",
   "execution_count": 26,
   "id": "6ad0d55b-0e69-43f5-85ad-7be297c15065",
   "metadata": {},
   "outputs": [
    {
     "data": {
      "text/plain": [
       "array([[2. , 0. ],\n",
       "       [0. , 0.5]])"
      ]
     },
     "execution_count": 26,
     "metadata": {},
     "output_type": "execute_result"
    }
   ],
   "source": [
    "Lambda = np.diag(lambdas)\n",
    "Lambda"
   ]
  },
  {
   "cell_type": "markdown",
   "id": "89ec6899-e8c8-4bba-b92b-ea6fcb70b713",
   "metadata": {},
   "source": [
    "## 第一组特征值、特征向量"
   ]
  },
  {
   "cell_type": "code",
   "execution_count": 31,
   "id": "25e3b054-e874-4a58-aaae-3152341717e2",
   "metadata": {},
   "outputs": [
    {
     "data": {
      "text/plain": [
       "2.0"
      ]
     },
     "execution_count": 31,
     "metadata": {},
     "output_type": "execute_result"
    }
   ],
   "source": [
    "# 特征值\n",
    "lambda_1 = lambdas[0]\n",
    "lambda_1"
   ]
  },
  {
   "cell_type": "code",
   "execution_count": 33,
   "id": "53b73ed9-248a-4f9b-ac09-89db4534dff7",
   "metadata": {},
   "outputs": [
    {
     "data": {
      "text/plain": [
       "array([[ 0.70710678],\n",
       "       [-0.70710678]])"
      ]
     },
     "execution_count": 33,
     "metadata": {},
     "output_type": "execute_result"
    }
   ],
   "source": [
    "# 特征向量\n",
    "v_1 = V[:,[0]]\n",
    "v_1"
   ]
  },
  {
   "cell_type": "code",
   "execution_count": 35,
   "id": "5ec57861-2b31-4eb7-a0b0-f04afef32160",
   "metadata": {},
   "outputs": [
    {
     "data": {
      "text/plain": [
       "array([[ 1.41421356],\n",
       "       [-1.41421356]])"
      ]
     },
     "execution_count": 35,
     "metadata": {},
     "output_type": "execute_result"
    }
   ],
   "source": [
    "A @ v_1"
   ]
  },
  {
   "cell_type": "code",
   "execution_count": 39,
   "id": "f4db2b9f-802e-485c-84ae-c629074c5bd2",
   "metadata": {},
   "outputs": [
    {
     "data": {
      "text/plain": [
       "array([[ 1.41421356],\n",
       "       [-1.41421356]])"
      ]
     },
     "execution_count": 39,
     "metadata": {},
     "output_type": "execute_result"
    }
   ],
   "source": [
    "lambda_1 * v_1"
   ]
  },
  {
   "cell_type": "markdown",
   "id": "3c7a244a-a963-457e-9e4a-ba3c88801735",
   "metadata": {},
   "source": [
    "## 第二组特征值、特征向量"
   ]
  },
  {
   "cell_type": "code",
   "execution_count": 45,
   "id": "c9c828a7-1f0a-4d85-8aca-c8cac1c6cd1c",
   "metadata": {},
   "outputs": [
    {
     "data": {
      "text/plain": [
       "0.49999999999999983"
      ]
     },
     "execution_count": 45,
     "metadata": {},
     "output_type": "execute_result"
    }
   ],
   "source": [
    "# 特征值\n",
    "lambda_2 = lambdas[1]\n",
    "lambda_2"
   ]
  },
  {
   "cell_type": "code",
   "execution_count": 47,
   "id": "e8f76b73-ad96-4af6-9051-618a1df52280",
   "metadata": {},
   "outputs": [
    {
     "data": {
      "text/plain": [
       "array([[0.70710678],\n",
       "       [0.70710678]])"
      ]
     },
     "execution_count": 47,
     "metadata": {},
     "output_type": "execute_result"
    }
   ],
   "source": [
    "# 特征向量\n",
    "v_2 = V[:,[1]]\n",
    "v_2"
   ]
  },
  {
   "cell_type": "code",
   "execution_count": 49,
   "id": "9279f681-03bc-4401-b02b-d898cdcc5c84",
   "metadata": {},
   "outputs": [
    {
     "data": {
      "text/plain": [
       "array([[0.35355339],\n",
       "       [0.35355339]])"
      ]
     },
     "execution_count": 49,
     "metadata": {},
     "output_type": "execute_result"
    }
   ],
   "source": [
    "A @ v_2"
   ]
  },
  {
   "cell_type": "code",
   "execution_count": 51,
   "id": "b1acdf55-83a3-436f-babf-2950f444c085",
   "metadata": {},
   "outputs": [
    {
     "data": {
      "text/plain": [
       "array([[0.35355339],\n",
       "       [0.35355339]])"
      ]
     },
     "execution_count": 51,
     "metadata": {},
     "output_type": "execute_result"
    }
   ],
   "source": [
    "lambda_2 * v_2"
   ]
  },
  {
   "cell_type": "markdown",
   "id": "d0f381e4-f8d1-4cc7-adee-2ccf5044379a",
   "metadata": {},
   "source": [
    "## 特征值分解"
   ]
  },
  {
   "cell_type": "code",
   "execution_count": 78,
   "id": "c9aee0c8-00e1-452a-bb62-40e42dca9cff",
   "metadata": {},
   "outputs": [
    {
     "data": {
      "text/plain": [
       "array([[ 1.25, -0.75],\n",
       "       [-0.75,  1.25]])"
      ]
     },
     "execution_count": 78,
     "metadata": {},
     "output_type": "execute_result"
    }
   ],
   "source": [
    "V @ Lambda @ np.linalg.inv(V)"
   ]
  },
  {
   "cell_type": "markdown",
   "id": "3282522c-3092-46a1-acf8-ee5092801dd1",
   "metadata": {},
   "source": [
    "## 可视化"
   ]
  },
  {
   "cell_type": "code",
   "execution_count": 75,
   "id": "fa4b90e1-3523-41bb-9347-29eb1f8fe0b3",
   "metadata": {},
   "outputs": [
    {
     "data": {
      "image/png": "[encoded data removed]",
      "text/plain": [
       "<Figure size 640x480 with 1 Axes>"
      ]
     },
     "metadata": {},
     "output_type": "display_data"
    }
   ],
   "source": [
    "fig, ax = plt.subplots()  \n",
    "\n",
    "theta_array = np.linspace(0,2*np.pi,721)\n",
    "# 极坐标到直角坐标\n",
    "x1_array = np.cos(theta_array)\n",
    "x2_array = np.sin(theta_array)\n",
    "unit_circle = np.column_stack([x1_array,x2_array])\n",
    "\n",
    "A_unit_circle = unit_circle @ A.T # A线性变换\n",
    "A_v1 = A@v_1\n",
    "A_v2 = A@v_2\n",
    "\n",
    "# 第一特征向量\n",
    "plt.quiver(0, 0, A_v1[0], A_v1[1], \n",
    "           angles='xy', scale_units='xy', \n",
    "           scale=1, color='#FF00CF', zorder = 1e5)\n",
    "plt.quiver(0, 0, v_1[0], v_1[1], \n",
    "           angles='xy', scale_units='xy', \n",
    "           scale=1, color='#FF00CF', zorder = 1e5)\n",
    "\n",
    "# 第二特征向量\n",
    "plt.quiver(0, 0, A_v2[0], A_v2[1], \n",
    "           angles='xy', scale_units='xy', \n",
    "           scale=1, color='#FFBD00', zorder = 1e5)\n",
    "plt.quiver(0, 0, v_2[0], v_2[1], \n",
    "           angles='xy', scale_units='xy', \n",
    "           scale=1, color='#FFBD00', zorder = 1e5)\n",
    "\n",
    "# 绘制变换前后单位圆\n",
    "plt.plot(A_unit_circle[:,0],A_unit_circle[:,1], c = 'k', ls = '--')\n",
    "plt.plot(unit_circle[:,0],unit_circle[:,1], c = 'k', ls = '--')\n",
    "\n",
    "# 装饰\n",
    "plt.axvline(x=0, color='k', zorder=0)\n",
    "plt.axhline(y=0, color='k', zorder=0)\n",
    "ax.tick_params(axis='both', which='both', length=0, labelbottom=False, labelleft=False)\n",
    "ax.set_aspect(1)\n",
    "lim = 2; ax.set_xlim([-lim, lim]); ax.set_ylim([-lim, lim])\n",
    "plt.xticks(np.arange(-lim, lim)); plt.yticks(np.arange(-lim, lim))\n",
    "ax.grid(linestyle='--', linewidth=0.15, color=[0.8, 0.8, 0.8])  # 添加网格"
   ]
  },
  {
   "cell_type": "markdown",
   "id": "070c3389-8048-43a3-baa7-6666009bce96",
   "metadata": {},
   "source": [
    "作者\t**生姜DrGinger**  \n",
    "脚本\t**生姜DrGinger**  \n",
    "视频\t**崔崔CuiCui**  \n",
    "开源资源\t[**GitHub**](https://github.com/Visualize-ML)  \n",
    "平台\t[**油管**](https://www.youtube.com/@DrGinger_Jiang)\t\t\n",
    "\t\t[**iris小课堂**](https://space.bilibili.com/3546865719052873)\t\t\n",
    "\t\t[**生姜DrGinger**](https://space.bilibili.com/513194466)  "
   ]
  }
 ],
 "metadata": {
  "kernelspec": {
   "display_name": "Python [conda env:base] *",
   "language": "python",
   "name": "conda-base-py"
  },
  "language_info": {
   "codemirror_mode": {
    "name": "ipython",
    "version": 3
   },
   "file_extension": ".py",
   "mimetype": "text/x-python",
   "name": "python",
   "nbconvert_exporter": "python",
   "pygments_lexer": "ipython3",
   "version": "3.12.7"
  }
 },
 "nbformat": 4,
 "nbformat_minor": 5
}
