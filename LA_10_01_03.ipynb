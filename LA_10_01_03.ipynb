{
 "cells": [
  {
   "cell_type": "markdown",
   "id": "f04dd603-a2d1-48ce-8c17-9f1dba8de1ee",
   "metadata": {},
   "source": [
    "Chapter 10\n",
    "\n",
    "# 截距为0的一元线性回归模型\n",
    "《线性代数》 | 鸢尾花书：数学不难"
   ]
  },
  {
   "cell_type": "markdown",
   "id": "ccafb456-2453-4c82-8a65-b1963a370cb2",
   "metadata": {},
   "source": [
    "这段代码完整地实现了**通过原点的一元线性回归模型**的建立、参数估计、误差分析与可视化。不同于带截距的线性模型，这里我们**显式地假设回归直线通过原点**，即没有常数项 $b_0$，模型形式是：\n",
    "\n",
    "$$\n",
    "\\hat{y} = b_1 x\n",
    "$$\n",
    "\n",
    "从数学角度来看，我们的目标是：给定样本数据点 $(x_1, y_1), \\dots, (x_n, y_n)$，在假设 $b_0 = 0$ 的前提下，找到一个斜率参数 $b_1$，使得预测值 $\\hat{y}_i = b_1 x_i$ 尽可能接近实际观测值 $y_i$，即使得残差平方和最小。\n",
    "\n",
    "---\n",
    "\n",
    "设向量形式的自变量为 $X \\in \\mathbb{R}^{n \\times 1}$，因变量为 $\\boldsymbol{y} \\in \\mathbb{R}^{n \\times 1}$，我们拟合的模型为：\n",
    "\n",
    "$$\n",
    "\\hat{\\boldsymbol{y}} = X b\n",
    "$$\n",
    "\n",
    "其中 $b \\in \\mathbb{R}^{1 \\times 1}$ 是我们要求的斜率参数。最小二乘法的目标是最小化预测值与真实值之间的 $L^2$ 距离，即最小化下式：\n",
    "\n",
    "$$\n",
    "J(b) = \\| \\boldsymbol{y} - X b \\|_2^2\n",
    "$$\n",
    "\n",
    "对 $b$ 求导并令导数为零，可得到最优解满足正规方程：\n",
    "\n",
    "$$\n",
    "X^\\top X b = X^\\top \\boldsymbol{y}\n",
    "$$\n",
    "\n",
    "从而斜率 $b$ 的显式表达为：\n",
    "\n",
    "$$\n",
    "b = (X^\\top X)^{-1} X^\\top \\boldsymbol{y}\n",
    "$$\n",
    "\n",
    "这是代码中使用 `np.linalg.inv(X.T @ X) @ X.T @ y` 这一行所求出的参数。\n",
    "\n",
    "---\n",
    "\n",
    "为了进一步理解这个过程，代码还分别打印或计算了：\n",
    "\n",
    "- $X^\\top X$：这个是**格拉姆矩阵（Gram matrix）**，本质上是 $x_i$ 自身的平方和；\n",
    "- $X^\\top \\boldsymbol{y}$：输入与输出的“协变量积”，即 $\\sum x_i y_i$；\n",
    "- $(X^\\top X)^{-1}$：格拉姆矩阵的逆，是参数计算中不可或缺的部分；\n",
    "- 最终参数 $b$，表示最佳拟合斜率。\n",
    "\n",
    "---\n",
    "\n",
    "接着，代码构造了一个新的 $x$ 数值范围（从 0 到 10 的等距点），用于在该区间内生成预测值 $\\hat{y}_{\\text{new}} = b x_{\\text{new}}$，从而可以绘制一条完整的回归直线。\n",
    "\n",
    "训练集上的预测值则为：\n",
    "\n",
    "$$\n",
    "\\hat{\\boldsymbol{y}} = X b\n",
    "$$\n",
    "\n",
    "预测误差向量为：\n",
    "\n",
    "$$\n",
    "\\boldsymbol{e} = \\boldsymbol{y} - \\hat{\\boldsymbol{y}}\n",
    "$$\n",
    "\n",
    "并进一步计算其 $L^2$ 范数的平方：\n",
    "\n",
    "$$\n",
    "\\|\\boldsymbol{e}\\|_2^2 = \\boldsymbol{e}^\\top \\boldsymbol{e}\n",
    "$$\n",
    "\n",
    "这个值即为残差平方和（Residual Sum of Squares, RSS），用于衡量拟合效果的好坏，越小代表模型预测越精确。\n",
    "\n",
    "---\n",
    "\n",
    "在可视化部分，代码通过以下方式直观展现了模型：\n",
    "\n",
    "- 蓝色叉点 (`x`) 表示原始观测数据 $(x_i, y_i)$；\n",
    "- 红色直线是预测函数 $\\hat{y} = b x$ 在 $[0, 10]$ 区间上的图像；\n",
    "- 红色叉点是训练集上预测值 $(x_i, \\hat{y}_i)$；\n",
    "- 每个样本的预测值与真实值之间的橙色线段表示误差（残差）；\n",
    "- 图像添加了坐标轴标签、网格与等比例比例尺，美观且清晰。\n",
    "\n",
    "---\n",
    "\n",
    "总之，这段代码展示的是**不含截距项的最小二乘回归**，数学上简洁，直观上表现为一条穿过原点的最佳拟合直线，通过矩阵计算与可视化清楚地揭示了误差最小化的几何含义。"
   ]
  },
  {
   "cell_type": "markdown",
   "id": "e7dc709a-16b7-4294-ac0f-edc88b17b5a6",
   "metadata": {},
   "source": [
    "## 初始化"
   ]
  },
  {
   "cell_type": "code",
   "execution_count": 4,
   "id": "cc1230b5-4697-4042-b4d3-4ef837b679de",
   "metadata": {},
   "outputs": [],
   "source": [
    "import numpy as np\n",
    "import matplotlib.pyplot as plt"
   ]
  },
  {
   "cell_type": "markdown",
   "id": "e959af90-722c-4b04-be3d-f86a1cdcc27b",
   "metadata": {},
   "source": [
    "## 数据"
   ]
  },
  {
   "cell_type": "code",
   "execution_count": 6,
   "id": "0106797b-43ea-4c1a-a174-417e09856a47",
   "metadata": {},
   "outputs": [],
   "source": [
    "x = np.array([1,2,3,5,6,7,8,9]).reshape(-1,1)   # 自变量 x\n",
    "y = np.array([3,1,4,6,5,8,7,8]).reshape(-1,1)   # 因变量 y"
   ]
  },
  {
   "cell_type": "code",
   "execution_count": 7,
   "id": "4c07bcd3-b009-42a9-b4c0-e4a942d48b93",
   "metadata": {},
   "outputs": [],
   "source": [
    "# 构造设计矩阵，截距项为0，不需要全1列向量\n",
    "X = x"
   ]
  },
  {
   "cell_type": "markdown",
   "id": "eb519405-48f5-446a-b71e-886588de4fd0",
   "metadata": {},
   "source": [
    "## 计算参数"
   ]
  },
  {
   "cell_type": "code",
   "execution_count": 9,
   "id": "d4118313-b594-42a0-981e-ce880345ed5f",
   "metadata": {},
   "outputs": [
    {
     "data": {
      "text/plain": [
       "array([[0.97026022]])"
      ]
     },
     "execution_count": 9,
     "metadata": {},
     "output_type": "execute_result"
    }
   ],
   "source": [
    "b = np.linalg.inv(X.T @ X) @ X.T @ y\n",
    "b"
   ]
  },
  {
   "cell_type": "code",
   "execution_count": 10,
   "id": "3679ea5c-c5c0-4bd8-ae2c-46a20c61f045",
   "metadata": {},
   "outputs": [
    {
     "data": {
      "text/plain": [
       "array([[269]])"
      ]
     },
     "execution_count": 10,
     "metadata": {},
     "output_type": "execute_result"
    }
   ],
   "source": [
    "# 格拉姆矩阵\n",
    "X.T @ X"
   ]
  },
  {
   "cell_type": "code",
   "execution_count": 11,
   "id": "8d0bb717-7a80-48a3-9db1-fca2cdf2daa0",
   "metadata": {},
   "outputs": [
    {
     "data": {
      "text/plain": [
       "array([[0.00371747]])"
      ]
     },
     "execution_count": 11,
     "metadata": {},
     "output_type": "execute_result"
    }
   ],
   "source": [
    "# 格拉姆矩阵的逆\n",
    "np.linalg.inv(X.T @ X)"
   ]
  },
  {
   "cell_type": "code",
   "execution_count": 12,
   "id": "9716b5bb-687a-4010-9f48-347ddc1ff21c",
   "metadata": {},
   "outputs": [
    {
     "data": {
      "text/plain": [
       "array([[261]])"
      ]
     },
     "execution_count": 12,
     "metadata": {},
     "output_type": "execute_result"
    }
   ],
   "source": [
    "X.T @ y"
   ]
  },
  {
   "cell_type": "markdown",
   "id": "c92b1065-2395-43c1-8229-ac0a9a00af93",
   "metadata": {},
   "source": [
    "## 计算预测值"
   ]
  },
  {
   "cell_type": "code",
   "execution_count": 17,
   "id": "28434844-10a5-4cfa-82c0-2436f99ae0cd",
   "metadata": {},
   "outputs": [],
   "source": [
    "x_array = np.linspace(0,10).reshape(-1,1)\n",
    "X_array = x_array\n",
    "\n",
    "y_array_pred = X_array @ b\n",
    "y_pred = X @ b"
   ]
  },
  {
   "cell_type": "markdown",
   "id": "2176d694-2190-4234-a5e1-53184597bf3b",
   "metadata": {},
   "source": [
    "## 误差向量"
   ]
  },
  {
   "cell_type": "code",
   "execution_count": 19,
   "id": "c16f7f1c-a5e4-4816-958b-c17b06c3ca9d",
   "metadata": {},
   "outputs": [
    {
     "data": {
      "text/plain": [
       "array([[ 2.02973978],\n",
       "       [-0.94052045],\n",
       "       [ 1.08921933],\n",
       "       [ 1.14869888],\n",
       "       [-0.82156134],\n",
       "       [ 1.20817844],\n",
       "       [-0.76208178],\n",
       "       [-0.73234201]])"
      ]
     },
     "execution_count": 19,
     "metadata": {},
     "output_type": "execute_result"
    }
   ],
   "source": [
    "error = y - y_pred\n",
    "error"
   ]
  },
  {
   "cell_type": "code",
   "execution_count": 21,
   "id": "8ca079a2-d19e-449c-ad0f-87e6a2387005",
   "metadata": {},
   "outputs": [
    {
     "data": {
      "text/plain": [
       "array([[10.76208178]])"
      ]
     },
     "execution_count": 21,
     "metadata": {},
     "output_type": "execute_result"
    }
   ],
   "source": [
    "# 误差向量的L2范数的平方\n",
    "error.T @ error"
   ]
  },
  {
   "cell_type": "markdown",
   "id": "611ac6d0-58db-4c31-b958-2445ab46d620",
   "metadata": {},
   "source": [
    "## 可视化"
   ]
  },
  {
   "cell_type": "code",
   "execution_count": 23,
   "id": "0527f39f-5eb9-41b0-9b83-8f6a7172bcef",
   "metadata": {},
   "outputs": [
    {
     "data": {
      "image/png": "[encoded data removed]",
      "text/plain": [
       "<Figure size 500x500 with 1 Axes>"
      ]
     },
     "metadata": {},
     "output_type": "display_data"
    }
   ],
   "source": [
    "fig, ax = plt.subplots(figsize=(5,5))\n",
    "\n",
    "# 绘制样本数据\n",
    "ax.scatter(x, y, marker = 'x', color = 'b')\n",
    "\n",
    "# 绘制回归直线\n",
    "ax.plot(x_array, y_array_pred, color='r')\n",
    "\n",
    "# 绘制预测值\n",
    "ax.scatter(x, y_pred, marker = 'x', color='r')\n",
    "\n",
    "# 绘制误差\n",
    "ax.plot(([i for i in x.squeeze()], [i for i in x.squeeze()]),\n",
    "        ([j for j in y_pred.squeeze()], [j for j in y.squeeze()]),\n",
    "         c='#FFC000', alpha = 0.5)\n",
    "\n",
    "# 装饰\n",
    "ax.set_xlabel('x')\n",
    "ax.set_ylabel('y')\n",
    "ax.set_xlim(0,10)\n",
    "ax.set_ylim(0,10)\n",
    "ax.set_xticks(np.arange(11))\n",
    "ax.set_yticks(np.arange(11))\n",
    "ax.grid(True, c = '0.8')\n",
    "ax.set_aspect('equal', 'box')"
   ]
  },
  {
   "cell_type": "code",
   "execution_count": null,
   "id": "954b7525-dcef-47cb-af13-40c741ca3891",
   "metadata": {},
   "outputs": [],
   "source": []
  },
  {
   "cell_type": "markdown",
   "id": "070c3389-8048-43a3-baa7-6666009bce96",
   "metadata": {},
   "source": [
    "作者\t**生姜DrGinger**  \n",
    "脚本\t**生姜DrGinger**  \n",
    "视频\t**崔崔CuiCui**  \n",
    "开源资源\t[**GitHub**](https://github.com/Visualize-ML)  \n",
    "平台\t[**油管**](https://www.youtube.com/@DrGinger_Jiang)\t\t\n",
    "\t\t[**iris小课堂**](https://space.bilibili.com/3546865719052873)\t\t\n",
    "\t\t[**生姜DrGinger**](https://space.bilibili.com/513194466)  "
   ]
  }
 ],
 "metadata": {
  "kernelspec": {
   "display_name": "Python [conda env:base] *",
   "language": "python",
   "name": "conda-base-py"
  },
  "language_info": {
   "codemirror_mode": {
    "name": "ipython",
    "version": 3
   },
   "file_extension": ".py",
   "mimetype": "text/x-python",
   "name": "python",
   "nbconvert_exporter": "python",
   "pygments_lexer": "ipython3",
   "version": "3.12.7"
  }
 },
 "nbformat": 4,
 "nbformat_minor": 5
}
