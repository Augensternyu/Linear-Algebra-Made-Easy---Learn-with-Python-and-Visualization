{
 "cells": [
  {
   "cell_type": "markdown",
   "id": "6502ff3a-e328-4de2-a790-5c4e8cf20060",
   "metadata": {},
   "source": [
    "Chapter 01\n",
    "\n",
    "# 直角坐标系画单位圆\n",
    "《线性代数》 | 鸢尾花书：数学不难"
   ]
  },
  {
   "cell_type": "markdown",
   "id": "b320aaee-6d40-49c3-b719-bc493d9291bf",
   "metadata": {},
   "source": [
    "这段代码从数学角度展示了**单位圆在二维平面中的参数化表达和几何结构**，结合了三角函数的性质和可视化技术。以下是其详细数学解释：\n",
    "\n",
    "---\n",
    "\n",
    "我们知道，单位圆是定义在二维欧几里得空间 $\\mathbb{R}^2$ 中、以原点为圆心、半径为 1 的圆，其集合形式为：\n",
    "\n",
    "$$\n",
    "\\mathcal{C} = \\left\\{ (x_1, x_2) \\in \\mathbb{R}^2 \\mid x_1^2 + x_2^2 = 1 \\right\\}\n",
    "$$\n",
    "\n",
    "为了绘制这个圆，代码使用了极坐标的参数化方式。令极角 $\\theta$ 在 $[0, 2\\pi]$ 区间上均匀采样，我们有如下参数表示：\n",
    "\n",
    "- $x_1 = \\cos(\\theta)$  \n",
    "- $x_2 = \\sin(\\theta)$\n",
    "\n",
    "于是，单位圆可以被参数化为：\n",
    "\n",
    "$$\n",
    "\\mathcal{C}(\\theta) = (\\cos(\\theta), \\sin(\\theta)), \\quad \\theta \\in [0, 2\\pi]\n",
    "$$\n",
    "\n",
    "代码中的 `np.linspace(0, 2 * np.pi, 300)` 生成了 300 个 $\\theta$ 值点，从而精细地近似绘制整个圆周。每个点 $(x_1, x_2)$ 对应着单位圆上的一个坐标，其在二维空间中满足：\n",
    "\n",
    "$$\n",
    "x_1^2 + x_2^2 = \\cos^2(\\theta) + \\sin^2(\\theta) = 1\n",
    "$$\n",
    "\n",
    "这是三角恒等式的直接应用，确保每个点都恰好落在单位圆上。\n",
    "\n",
    "---\n",
    "\n",
    "从可视化角度，代码通过 `matplotlib` 将这些点连接起来，形成一个连续的圆形轮廓。同时，为了强调对称性与几何关系，图中设置了等比例坐标轴（即 $x$ 与 $y$ 方向上的单位长度一致），并绘制了 $x_1$ 与 $x_2$ 坐标轴（即 $x=0$ 和 $y=0$ 的直线），形成十字参考系，使读者更清楚地观察圆与坐标轴的交点（例如 $(1,0)$、$(0,1)$、$(-1,0)$、$(0,-1)$）。\n",
    "\n",
    "此外，坐标轴范围设置为 $[-2, 2]$，提供了一个略大于单位圆的观察窗口，使圆的整体结构不至于贴边，增强了视觉清晰度。\n",
    "\n",
    "---\n",
    "\n",
    "总结来看，这段代码完整展示了：\n",
    "\n",
    "- 单位圆的**解析几何表示**；\n",
    "- 利用极角参数 $\\theta$ 的**函数化建模**；\n",
    "- 三角函数恒等式在**几何中的应用**；\n",
    "- 以及如何通过图形方式表达集合 $\\mathcal{C}$ 中的点。\n",
    "\n",
    "这是数学、几何与编程三者结合的一个典型范例。"
   ]
  },
  {
   "cell_type": "markdown",
   "id": "4b84e936-bb1b-457c-8a89-7dcf82815fe0",
   "metadata": {},
   "source": [
    "## 初始化"
   ]
  },
  {
   "cell_type": "code",
   "execution_count": 4,
   "id": "fa5c623c-9c1d-42d3-bfdd-0157c569a8f1",
   "metadata": {},
   "outputs": [],
   "source": [
    "import numpy as np\n",
    "import matplotlib.pyplot as plt"
   ]
  },
  {
   "cell_type": "markdown",
   "id": "b9555555-0036-4a7b-8040-84c40cc64049",
   "metadata": {},
   "source": [
    "## 生成数据"
   ]
  },
  {
   "cell_type": "code",
   "execution_count": 6,
   "id": "b26bde97-91c3-40e2-b3b8-50efe295c7c7",
   "metadata": {},
   "outputs": [],
   "source": [
    "theta_array = np.linspace(0, 2 * np.pi, 300)  # 0 到 2π 之间均匀取点\n",
    "x1_array = np.cos(theta_array)\n",
    "x2_array = np.sin(theta_array)"
   ]
  },
  {
   "cell_type": "markdown",
   "id": "6eedcb43-9b23-47c2-b625-16c3e838fd14",
   "metadata": {},
   "source": [
    "## 可视化"
   ]
  },
  {
   "cell_type": "code",
   "execution_count": 14,
   "id": "ea91c3db-ea06-4f20-85d6-b5c65689c948",
   "metadata": {},
   "outputs": [
    {
     "data": {
      "text/plain": [
       "Text(0, 0.5, 'x2')"
      ]
     },
     "execution_count": 14,
     "metadata": {},
     "output_type": "execute_result"
    },
    {
     "data": {
      "image/png": "[encoded data removed]",
      "text/plain": [
       "<Figure size 600x600 with 1 Axes>"
      ]
     },
     "metadata": {},
     "output_type": "display_data"
    }
   ],
   "source": [
    "fig, ax = plt.subplots(figsize=(6,6))\n",
    "\n",
    "# 绘制单位圆\n",
    "ax.plot(x1_array, x2_array, 'b', linewidth=1)  # 黑色圆，线宽 1\n",
    "\n",
    "# 设置 XY 轴比例相同\n",
    "ax.set_aspect('equal')\n",
    "ax.grid(True)\n",
    "\n",
    "# 设置坐标轴范围\n",
    "ax.set_xlim([-2, 2])\n",
    "ax.set_ylim([-2, 2])\n",
    "\n",
    "# 添加坐标轴\n",
    "ax.axhline(0, color='k', linewidth=0.5)\n",
    "ax.axvline(0, color='k', linewidth=0.5)\n",
    "\n",
    "# 增加轴标签\n",
    "ax.set_xlabel('x1')\n",
    "ax.set_ylabel('x2')"
   ]
  },
  {
   "cell_type": "markdown",
   "id": "407fa326-a334-44b1-942a-ecf32524b687",
   "metadata": {},
   "source": [
    "作者\t**生姜DrGinger**  \n",
    "脚本\t**生姜DrGinger**  \n",
    "视频\t**崔崔CuiCui**  \n",
    "开源资源\t[**GitHub**](https://github.com/Visualize-ML)  \n",
    "平台\t[**油管**](https://www.youtube.com/@DrGinger_Jiang)\t\t\n",
    "\t\t[**iris小课堂**](https://space.bilibili.com/3546865719052873)\t\t\n",
    "\t\t[**生姜DrGinger**](https://space.bilibili.com/513194466)  "
   ]
  }
 ],
 "metadata": {
  "kernelspec": {
   "display_name": "Python [conda env:base] *",
   "language": "python",
   "name": "conda-base-py"
  },
  "language_info": {
   "codemirror_mode": {
    "name": "ipython",
    "version": 3
   },
   "file_extension": ".py",
   "mimetype": "text/x-python",
   "name": "python",
   "nbconvert_exporter": "python",
   "pygments_lexer": "ipython3",
   "version": "3.12.7"
  }
 },
 "nbformat": 4,
 "nbformat_minor": 5
}
