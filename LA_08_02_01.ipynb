{
 "cells": [
  {
   "cell_type": "markdown",
   "id": "f04dd603-a2d1-48ce-8c17-9f1dba8de1ee",
   "metadata": {},
   "source": [
    "Chapter 08\n",
    "\n",
    "# 平面缩放\n",
    "《线性代数》 | 鸢尾花书：数学不难"
   ]
  },
  {
   "cell_type": "markdown",
   "id": "ccafb456-2453-4c82-8a65-b1963a370cb2",
   "metadata": {},
   "source": [
    "这段代码从数学角度展示了线性变换如何作用于单位正方形以及标准基向量 $\\mathbf{e}_1 = \\begin{bmatrix}1 \\\\ 0\\end{bmatrix}$ 与 $\\mathbf{e}_2 = \\begin{bmatrix}0 \\\\ 1\\end{bmatrix}$，并以图形方式呈现其变换后的结果。\n",
    "\n",
    "---\n",
    "\n",
    "### 线性变换矩阵\n",
    "\n",
    "我们设定了一个二维线性变换矩阵 $A$，定义如下：\n",
    "$$\n",
    "A = \\begin{bmatrix}\n",
    "2 & 0 \\\\\n",
    "0 & 2\n",
    "\\end{bmatrix}\n",
    "$$\n",
    "该矩阵是一个**各向同性缩放矩阵（isotropic scaling matrix）**，它会将所有向量的长度放大为原来的两倍，且保持方向不变。\n",
    "\n",
    "---\n",
    "\n",
    "### 单位正方形的顶点与其变换\n",
    "\n",
    "接下来定义单位正方形的五个顶点，依次是左下角、右下角、右上角、左上角，并最后闭合回左下角。这些点构成一个边长为 1 的正方形，其矩阵表示为：\n",
    "$$\n",
    "\\text{square} =\n",
    "\\begin{bmatrix}\n",
    "0 & 0 \\\\\n",
    "1 & 0 \\\\\n",
    "1 & 1 \\\\\n",
    "0 & 1 \\\\\n",
    "0 & 0\n",
    "\\end{bmatrix}\n",
    "$$\n",
    "\n",
    "由于我们需要对这些二维坐标进行线性变换，因此通过右乘 $A^\\top$ 实现：\n",
    "$$\n",
    "\\text{transformed\\_square} = \\text{square} \\cdot A^\\top\n",
    "$$\n",
    "这是因为 NumPy 默认每一行是一个二维向量（即点），所以右乘转置矩阵 $A^\\top$ 等价于标准左乘$A$：\n",
    "$$\n",
    "\\text{square}[i] \\mapsto A \\cdot \\text{square}[i]^\\top\n",
    "$$\n",
    "\n",
    "在当前例子中，由于 $A$ 是对称矩阵，有 $A^\\top = A$，故此转置不会改变运算结果。\n",
    "\n",
    "变换的几何含义是：单位正方形被整体缩放，新的顶点变为原来的两倍距离，即每个点 $\\mathbf{p}$ 被映射为 $A \\cdot \\mathbf{p}$。\n",
    "\n",
    "---\n",
    "\n",
    "### 单位向量的变换\n",
    "\n",
    "单位向量定义为：\n",
    "$$\n",
    "\\mathbf{e}_1 = \\begin{bmatrix}1 \\\\ 0\\end{bmatrix}, \\quad \\mathbf{e}_2 = \\begin{bmatrix}0 \\\\ 1\\end{bmatrix}\n",
    "$$\n",
    "它们分别表示二维坐标轴的 x 和 y 方向。在变换 $A$ 下，它们分别变为：\n",
    "$$\n",
    "A \\cdot \\mathbf{e}_1 = \\begin{bmatrix}2 \\\\ 0\\end{bmatrix}, \\quad\n",
    "A \\cdot \\mathbf{e}_2 = \\begin{bmatrix}0 \\\\ 2\\end{bmatrix}\n",
    "$$\n",
    "这意味着原本单位长度的基向量被放大为长度为 2，方向不变。\n",
    "\n",
    "---\n",
    "\n",
    "### 图像可视化与解释\n",
    "\n",
    "绘图部分使用 `matplotlib` 来展示变换前后的形状：\n",
    "\n",
    "- 使用虚线 `k--` 绘制原始单位正方形。\n",
    "- 使用实线 `k-` 和 `fill()` 填充变换后的正方形，表现其新形状。\n",
    "- 使用 `quiver()` 绘制变换后的 $\\mathbf{e}_1$ 和 $\\mathbf{e}_2$，颜色分别为绿色和黑色，起点均为原点 $(0,0)$。\n",
    "- 添加 x 轴与 y 轴参考线，保持图形长宽比例一致，设定坐标范围和网格，增强图像清晰度。\n",
    "\n",
    "---\n",
    "\n",
    "### 总结\n",
    "\n",
    "该程序通过如下数学过程展示线性变换的几何效果：\n",
    "\n",
    "- $$\\mathbf{v} \\mapsto A \\cdot \\mathbf{v}$$，对单位正方形顶点和单位向量进行仿射变换；\n",
    "- 当 $A$ 是一个缩放矩阵时，图形大小按比例放大或缩小；\n",
    "- 变换保持图形形状为平行四边形（对于一般线性变换），或矩形（对于对角矩阵），并改变大小、方向或角度。"
   ]
  },
  {
   "cell_type": "markdown",
   "id": "2206ef94-af72-4df1-b0a9-3f4439c8032b",
   "metadata": {},
   "source": [
    "## 初始化"
   ]
  },
  {
   "cell_type": "code",
   "execution_count": 4,
   "id": "26f02fdb-b342-4403-a0d8-28b041f064ac",
   "metadata": {},
   "outputs": [],
   "source": [
    "import numpy as np\n",
    "import matplotlib.pyplot as plt"
   ]
  },
  {
   "cell_type": "markdown",
   "id": "a0cddbdb-da4f-4ddc-993f-6903e6d3bd35",
   "metadata": {},
   "source": [
    "## 线性变换矩阵"
   ]
  },
  {
   "cell_type": "code",
   "execution_count": 23,
   "id": "b6e368a0-4d3c-4631-b7d4-638e6887fd07",
   "metadata": {},
   "outputs": [],
   "source": [
    "A = np.array([[2, 0],\n",
    "              [0, 1/2]])"
   ]
  },
  {
   "cell_type": "markdown",
   "id": "ddce0db0-353a-4007-b5c6-f2659b969374",
   "metadata": {},
   "source": [
    "## 单位正方形顶点数据"
   ]
  },
  {
   "cell_type": "code",
   "execution_count": 8,
   "id": "ab139c32-0282-40d5-987c-a337cf88697c",
   "metadata": {},
   "outputs": [],
   "source": [
    "square_data = np.array([[0, 0],\n",
    "                        [1, 0],\n",
    "                        [1, 1],\n",
    "                        [0, 1],\n",
    "                        [0, 0]])"
   ]
  },
  {
   "cell_type": "markdown",
   "id": "fac7293a-8596-439d-921e-7d34688bdd02",
   "metadata": {},
   "source": [
    "## 定义单位向量 e1 和 e2"
   ]
  },
  {
   "cell_type": "code",
   "execution_count": 10,
   "id": "24680a21-6ebe-4922-aabf-e51482d5c60b",
   "metadata": {},
   "outputs": [],
   "source": [
    "e1 = np.array([[1], \n",
    "               [0]]) \n",
    "\n",
    "e2 = np.array([[0], \n",
    "               [1]])"
   ]
  },
  {
   "cell_type": "markdown",
   "id": "84dd4a58-2025-4cb0-9a9f-24e65bfc5554",
   "metadata": {},
   "source": [
    "## 线性变换"
   ]
  },
  {
   "cell_type": "code",
   "execution_count": 12,
   "id": "c0c541bc-502d-4e1b-8c13-a11e12ef6024",
   "metadata": {},
   "outputs": [],
   "source": [
    "transformed_square = square_data @ A.T \n",
    "transformed_e1 = A @ e1\n",
    "transformed_e2 = A @ e2"
   ]
  },
  {
   "cell_type": "markdown",
   "id": "3b8fd3a0-d41a-40c8-ab67-a8f569564d3e",
   "metadata": {},
   "source": [
    "## 可视化"
   ]
  },
  {
   "cell_type": "code",
   "execution_count": 14,
   "id": "cef259c0-c755-4cdc-98fe-813795facbc4",
   "metadata": {},
   "outputs": [
    {
     "data": {
      "image/png": "[encoded data removed]",
      "text/plain": [
       "<Figure size 600x600 with 1 Axes>"
      ]
     },
     "metadata": {},
     "output_type": "display_data"
    }
   ],
   "source": [
    "fig, ax = plt.subplots(figsize=(6, 6))\n",
    "\n",
    "ax.plot(square_data[:,0], square_data[:,1], c = 'k', lw = '0.5',\n",
    "        marker = 'o', markerfacecolor = '#0066FF', ls = '--')\n",
    "ax.plot(transformed_square[:,0], transformed_square[:,1], c = 'k', lw = '0.5',\n",
    "        marker = 'o', markerfacecolor = '#0066FF', ls = '-')\n",
    "ax.fill(transformed_square[:,0], transformed_square[:,1], color='lightblue')\n",
    "\n",
    "ax.set_aspect('equal')\n",
    "ax.axhline(y = 0, c = 'k')\n",
    "ax.axvline(x = 0, c = 'k')\n",
    "ax.set_xlim(-3, 3)\n",
    "ax.set_ylim(-3, 3)\n",
    "ax.grid(True, c = '0.8')\n",
    "plt.savefig('1.svg')"
   ]
  },
  {
   "cell_type": "code",
   "execution_count": null,
   "id": "954b7525-dcef-47cb-af13-40c741ca3891",
   "metadata": {},
   "outputs": [],
   "source": []
  },
  {
   "cell_type": "markdown",
   "id": "070c3389-8048-43a3-baa7-6666009bce96",
   "metadata": {},
   "source": [
    "作者\t**生姜DrGinger**  \n",
    "脚本\t**生姜DrGinger**  \n",
    "视频\t**崔崔CuiCui**  \n",
    "开源资源\t[**GitHub**](https://github.com/Visualize-ML)  \n",
    "平台\t[**油管**](https://www.youtube.com/@DrGinger_Jiang)\t\t\n",
    "\t\t[**iris小课堂**](https://space.bilibili.com/3546865719052873)\t\t\n",
    "\t\t[**生姜DrGinger**](https://space.bilibili.com/513194466)  "
   ]
  }
 ],
 "metadata": {
  "kernelspec": {
   "display_name": "Python [conda env:base] *",
   "language": "python",
   "name": "conda-base-py"
  },
  "language_info": {
   "codemirror_mode": {
    "name": "ipython",
    "version": 3
   },
   "file_extension": ".py",
   "mimetype": "text/x-python",
   "name": "python",
   "nbconvert_exporter": "python",
   "pygments_lexer": "ipython3",
   "version": "3.12.7"
  }
 },
 "nbformat": 4,
 "nbformat_minor": 5
}
