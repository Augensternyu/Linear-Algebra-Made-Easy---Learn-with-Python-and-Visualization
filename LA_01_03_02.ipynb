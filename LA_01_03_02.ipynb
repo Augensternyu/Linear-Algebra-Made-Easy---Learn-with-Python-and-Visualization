{
 "cells": [
  {
   "cell_type": "markdown",
   "id": "f04dd603-a2d1-48ce-8c17-9f1dba8de1ee",
   "metadata": {},
   "source": [
    "Chapter 01\n",
    "\n",
    "# 平行四边形法则\n",
    "《线性代数》 | 鸢尾花书：数学不难"
   ]
  },
  {
   "cell_type": "markdown",
   "id": "ccafb456-2453-4c82-8a65-b1963a370cb2",
   "metadata": {},
   "source": [
    "这段代码的数学背景基于**向量加法**的概念，并通过图形方式展示两个向量的相加过程。我们详细分析其中的数学原理，并配以公式说明。\n",
    "\n",
    "---\n",
    "\n",
    "### **1. 向量的定义**\n",
    "首先，定义两个二维向量：\n",
    "$$\n",
    "\\mathbf{a} = \\begin{bmatrix} 4 \\\\ 1 \\end{bmatrix}, \\quad \\mathbf{b} = \\begin{bmatrix} 1 \\\\ 2 \\end{bmatrix}\n",
    "$$\n",
    "这些向量在二维坐标系中分别表示从原点 $(0,0)$ 指向点 $(4,1)$ 和 $(1,2)$ 的方向。\n",
    "\n",
    "---\n",
    "\n",
    "### **2. 向量加法**\n",
    "向量加法的计算遵循**分量相加**的原则：\n",
    "$$\n",
    "\\mathbf{a} + \\mathbf{b} =\n",
    "\\begin{bmatrix} 4 \\\\ 1 \\end{bmatrix} +\n",
    "\\begin{bmatrix} 1 \\\\ 2 \\end{bmatrix} =\n",
    "\\begin{bmatrix} 4+1 \\\\ 1+2 \\end{bmatrix} =\n",
    "\\begin{bmatrix} 5 \\\\ 3 \\end{bmatrix}\n",
    "$$\n",
    "在几何意义上，向量 $\\mathbf{a} + \\mathbf{b}$ 表示从原点 $(0,0)$ 指向点 $(5,3)$ 的新向量。\n",
    "\n",
    "---\n",
    "\n",
    "### **3. 向量的可视化**\n",
    "代码使用 `matplotlib` 绘制以下内容：\n",
    "- 以**红色**绘制向量 $\\mathbf{a}$\n",
    "- 以**蓝色**绘制向量 $\\mathbf{b}$\n",
    "- 以**粉色**绘制向量 $\\mathbf{a} + \\mathbf{b}$\n",
    "\n",
    "此外，为了清晰展示**向量加法的平行四边形法则**，代码绘制了两条虚线：\n",
    "- 一条从 $\\mathbf{b}$ 的终点 $(1,2)$ 到 $\\mathbf{a}+\\mathbf{b}$ 的终点 $(5,3)$\n",
    "- 另一条从 $\\mathbf{a}$ 的终点 $(4,1)$ 到 $\\mathbf{a}+\\mathbf{b}$ 的终点 $(5,3)$\n",
    "\n",
    "这形成了一个平行四边形，表明：\n",
    "$$\n",
    "\\mathbf{a} + \\mathbf{b} = \\mathbf{b} + \\mathbf{a}\n",
    "$$\n",
    "即向量加法满足**交换律**。\n",
    "\n",
    "---\n",
    "\n",
    "### **4. 坐标轴与网格**\n",
    "- 代码设置了 $x$ 轴范围为 $[0,5]$，$y$ 轴范围为 $[0,5]$，确保所有向量清晰可见。\n",
    "- 通过 `axhline` 和 `axvline` 添加黑色基准线以标明坐标轴。\n",
    "- 通过 `grid` 添加灰色网格线以增强可读性。\n",
    "\n",
    "---\n",
    "\n",
    "### **5. 结论**\n",
    "本代码使用**向量可视化**展示了向量加法的几何意义。具体来说：\n",
    "- **向量相加遵循分量相加法则**。\n",
    "- **结果向量可以通过平行四边形法则构造**。\n",
    "- **向量加法满足交换律**，即 $\\mathbf{a} + \\mathbf{b} = \\mathbf{b} + \\mathbf{a}$。\n",
    "\n",
    "最终的图形展示了三个向量，并通过平行四边形展示向量加法的几何特性。"
   ]
  },
  {
   "cell_type": "markdown",
   "id": "7ad0b66c-609f-443f-9671-e91d35958948",
   "metadata": {},
   "source": [
    "## 初始化"
   ]
  },
  {
   "cell_type": "code",
   "execution_count": 1,
   "id": "13f24a5f-0c2c-4c26-8ca5-5d02f8e0789c",
   "metadata": {},
   "outputs": [],
   "source": [
    "import numpy as np\n",
    "import matplotlib.pyplot as plt"
   ]
  },
  {
   "cell_type": "markdown",
   "id": "cfba2da9-2eaf-4918-bfcf-a377bd40a14b",
   "metadata": {},
   "source": [
    "## 定义向量"
   ]
  },
  {
   "cell_type": "code",
   "execution_count": 2,
   "id": "de6e27fe-ecc8-4a8f-9759-5582621c59de",
   "metadata": {},
   "outputs": [],
   "source": [
    "a_vec = np.array([4, 1])\n",
    "b_vec = np.array([1, 2])"
   ]
  },
  {
   "cell_type": "markdown",
   "id": "6995e14b-57a2-4d6a-9eb7-b30b78337cf2",
   "metadata": {},
   "source": [
    "## 计算向量和"
   ]
  },
  {
   "cell_type": "code",
   "execution_count": 3,
   "id": "45e229b8-0d2f-471d-b3b3-a7318aaf56dd",
   "metadata": {},
   "outputs": [],
   "source": [
    "a_plus_b = a_vec + b_vec"
   ]
  },
  {
   "cell_type": "markdown",
   "id": "2847be99-994b-4013-ab7b-f09d4e9b5b0b",
   "metadata": {},
   "source": [
    "## 可视化"
   ]
  },
  {
   "cell_type": "code",
   "execution_count": 4,
   "id": "439bd53d-4ad2-4219-9e2e-8196eb9e5857",
   "metadata": {},
   "outputs": [
    {
     "data": {
      "text/plain": [
       "<matplotlib.legend.Legend at 0x2023cc0f7d0>"
      ]
     },
     "execution_count": 4,
     "metadata": {},
     "output_type": "execute_result"
    },
    {
     "data": {
      "image/png": "[encoded data removed]",
      "text/plain": [
       "<Figure size 600x600 with 1 Axes>"
      ]
     },
     "metadata": {},
     "output_type": "display_data"
    }
   ],
   "source": [
    "plt.figure(figsize=(6,6))\n",
    "\n",
    "# 绘制向量 a\n",
    "plt.quiver(0, 0, \n",
    "           a_vec[0], a_vec[1], \n",
    "           angles='xy', scale_units='xy', scale=1, \n",
    "           color='r', label=\"a\")\n",
    "\n",
    "# 绘制向量 b\n",
    "plt.quiver(0, 0, \n",
    "           b_vec[0], b_vec[1], \n",
    "           angles='xy', scale_units='xy', scale=1, \n",
    "           color='b', label=\"a\")\n",
    "\n",
    "# 绘制向量 a + b\n",
    "plt.quiver(0, 0, \n",
    "           a_plus_b[0], a_plus_b[1], \n",
    "           angles='xy', scale_units='xy', scale=1, \n",
    "           color='pink', label=\"a + b\")\n",
    "\n",
    "# 画出平行四边形的另外两条边\n",
    "plt.plot([b_vec[0], a_plus_b[0]], \n",
    "         [b_vec[1], a_plus_b[1]], 'k--')\n",
    "\n",
    "plt.plot([a_vec[0], a_plus_b[0]], \n",
    "         [a_vec[1], a_plus_b[1]], 'k--')\n",
    "\n",
    "# 装饰\n",
    "plt.gca().set_aspect('equal', adjustable='box')\n",
    "plt.xlim(0, 5)  # 设置 x 轴范围\n",
    "plt.ylim(0, 5)  # 设置 y 轴范围\n",
    "plt.axhline(0, color='black', linewidth=0.5)\n",
    "plt.axvline(0, color='black', linewidth=0.5)\n",
    "plt.grid(color='gray', alpha=0.8, linestyle='-', linewidth=0.25) \n",
    "\n",
    "plt.legend() # 添加图例"
   ]
  },
  {
   "cell_type": "markdown",
   "id": "7c05591b-e2c0-4511-acec-ca4a6719f903",
   "metadata": {},
   "source": [
    "作者\t**生姜DrGinger**  \n",
    "脚本\t**生姜DrGinger**  \n",
    "视频\t**崔崔CuiCui**  \n",
    "开源资源\t[**GitHub**](https://github.com/Visualize-ML)  \n",
    "平台\t[**油管**](https://www.youtube.com/@DrGinger_Jiang)\t\t\n",
    "\t\t[**iris小课堂**](https://space.bilibili.com/3546865719052873)\t\t\n",
    "\t\t[**生姜DrGinger**](https://space.bilibili.com/513194466)  "
   ]
  }
 ],
 "metadata": {
  "kernelspec": {
   "display_name": "Python [conda env:base] *",
   "language": "python",
   "name": "conda-base-py"
  },
  "language_info": {
   "codemirror_mode": {
    "name": "ipython",
    "version": 3
   },
   "file_extension": ".py",
   "mimetype": "text/x-python",
   "name": "python",
   "nbconvert_exporter": "python",
   "pygments_lexer": "ipython3",
   "version": "3.12.7"
  }
 },
 "nbformat": 4,
 "nbformat_minor": 5
}
