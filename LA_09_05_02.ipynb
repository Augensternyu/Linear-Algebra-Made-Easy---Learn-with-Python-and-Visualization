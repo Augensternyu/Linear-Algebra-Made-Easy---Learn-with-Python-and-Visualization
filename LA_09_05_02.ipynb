{
 "cells": [
  {
   "cell_type": "markdown",
   "id": "73bd968b-d970-4a05-94ef-4e7abf990827",
   "metadata": {},
   "source": [
    "Chapter 09\n",
    "\n",
    "# 经济型QR分解\n",
    "《线性代数》 | 鸢尾花书：数学不难"
   ]
  },
  {
   "cell_type": "markdown",
   "id": "bd98ba2e-2822-45a5-b605-5850aac4ab26",
   "metadata": {},
   "source": [
    "这段代码完整地展示了**经济型 QR 分解（Economy QR Decomposition）**的数学结构和正交矩阵 $Q$ 的基本性质，并通过热图可视化了整个过程，帮助建立直观理解。\n",
    "\n",
    "---\n",
    "\n",
    "我们首先生成一个 $12 \\times 8$ 的随机实矩阵 $A$，即：\n",
    "$$\n",
    "A \\in \\mathbb{R}^{12 \\times 8}\n",
    "$$\n",
    "矩阵 $A$ 的列数小于行数，通常被称为“瘦矩阵”或“高瘦矩阵”。随后，进行经济型 QR 分解：\n",
    "$$\n",
    "A = QR\n",
    "$$\n",
    "其中：\n",
    "\n",
    "- $Q \\in \\mathbb{R}^{12 \\times 8}$ 是一个列向量两两正交且范数为 $1$ 的**正交矩阵的一部分**，即 $Q$ 的列向量满足\n",
    "  $$\n",
    "  Q^\\top Q = I_8\n",
    "  $$\n",
    "  它的每一列构成 $A$ 的列空间的一个正交基。\n",
    "\n",
    "- $R \\in \\mathbb{R}^{8 \\times 8}$ 是一个**上三角矩阵**，它记录了将原始列向量投影到正交基上的系数。\n",
    "\n",
    "这种分解方式保留了必要的信息（因为 $A$ 的秩至多为 $8$），同时节省了存储空间——$Q$ 并不是 $12 \\times 12$ 的完整正交矩阵，而是只保留了 $A$ 列空间所需的 $8$ 列。\n",
    "\n",
    "---\n",
    "\n",
    "随后，代码通过热图展示以下矩阵结构：\n",
    "\n",
    "1. 矩阵 $A$ 的热图；\n",
    "2. 正交矩阵 $Q$ 的热图；\n",
    "3. 上三角矩阵 $R$ 的热图；\n",
    "4. 利用等式 $A = Q @ R$ 展示三者的分解关系。\n",
    "\n",
    "通过颜色分布我们可以直观观察到：\n",
    "\n",
    "- $R$ 的下三角区域接近全零；\n",
    "- $Q$ 的列结构均衡、对称，符合正交性特征；\n",
    "- $A$ 本身的列结构在 $Q$ 的基础上被重新编码为 $R$ 的列系数。\n",
    "\n",
    "---\n",
    "\n",
    "接下来，为了验证 $Q$ 的正交性，代码分别绘制了：\n",
    "$$\n",
    "Q^\\top Q = I, \\quad QQ^\\top \\neq I\n",
    "$$\n",
    "\n",
    "从数学角度，这说明：\n",
    "\n",
    "- $Q^\\top Q = I_8$ 成立，因为 $Q$ 的列向量是单位正交的；\n",
    "- $QQ^\\top$ 是一个 $12 \\times 12$ 的**投影矩阵**，其作用是将任意向量投影到 $A$ 的列空间；\n",
    "- 所以：\n",
    "  $$\n",
    "  QQ^\\top \\neq I_{12}\n",
    "  $$\n",
    "  但 $QQ^\\top$ 是一个**幂等矩阵**，即满足：\n",
    "  $$\n",
    "  (QQ^\\top)^2 = QQ^\\top\n",
    "  $$\n",
    "\n",
    "这正体现了**经济型 QR 分解与完全型 QR 分解的区别**：前者只提供构造 $A$ 所需的最小维度正交基，而后者扩展为方阵，使得 $Q$ 是真正意义上的正交矩阵（满足 $QQ^\\top = I$ 且 $Q^\\top Q = I$）。\n",
    "\n",
    "---\n",
    "\n",
    "整体来看，这段代码从数学角度展示了：\n",
    "\n",
    "- 如何对一个矩阵 $A \\in \\mathbb{R}^{m \\times n}$ ($m > n$) 执行经济型 QR 分解；\n",
    "- 正交矩阵的核心性质 $Q^\\top Q = I$；\n",
    "- 投影矩阵 $QQ^\\top$ 在几何上的含义；\n",
    "- 可视化角度如何辅助理解矩阵结构与运算效果。"
   ]
  },
  {
   "cell_type": "markdown",
   "id": "e13bd314-8cae-470d-ab76-f0d732c6c940",
   "metadata": {},
   "source": [
    "## 初始化"
   ]
  },
  {
   "cell_type": "code",
   "execution_count": 4,
   "id": "56e73d69-318d-4046-9889-a7f60a28df17",
   "metadata": {},
   "outputs": [],
   "source": [
    "import numpy as np  # 导入数值计算库\n",
    "import seaborn as sns  # 导入数据可视化库\n",
    "from matplotlib import pyplot as plt  # 导入绘图库"
   ]
  },
  {
   "cell_type": "markdown",
   "id": "6336fd3e-d094-4cd8-bf1a-b2d4396f100d",
   "metadata": {},
   "source": [
    "## 生成矩阵A"
   ]
  },
  {
   "cell_type": "code",
   "execution_count": 6,
   "id": "dc2a246d-e54d-4a25-b4db-8ce06223a64c",
   "metadata": {},
   "outputs": [],
   "source": [
    "np.random.seed(88888)\n",
    "A = np.random.randn(12, 8)"
   ]
  },
  {
   "cell_type": "markdown",
   "id": "038cfdf6-d1dd-49c7-823f-c7a0aebcf684",
   "metadata": {},
   "source": [
    "## 经济型QR分解"
   ]
  },
  {
   "cell_type": "code",
   "execution_count": 8,
   "id": "4860b21b-0a00-4c69-9b7c-a2cb06b3a43d",
   "metadata": {},
   "outputs": [],
   "source": [
    "Q, R = np.linalg.qr(A)"
   ]
  },
  {
   "cell_type": "markdown",
   "id": "c4b72971-34eb-482f-9aa1-9ec3751dc8d1",
   "metadata": {},
   "source": [
    "## 可视化"
   ]
  },
  {
   "cell_type": "code",
   "execution_count": 10,
   "id": "c6a28949-29f3-4cda-8bb5-00763aa31c79",
   "metadata": {},
   "outputs": [
    {
     "data": {
      "text/plain": [
       "Text(0.5, 1.0, 'R')"
      ]
     },
     "execution_count": 10,
     "metadata": {},
     "output_type": "execute_result"
    },
    {
     "data": {
      "image/png": "[encoded data removed]",
      "text/plain": [
       "<Figure size 1200x300 with 8 Axes>"
      ]
     },
     "metadata": {},
     "output_type": "display_data"
    }
   ],
   "source": [
    "fig, axs = plt.subplots(1, 5, figsize=(12, 3))  # 创建子图\n",
    "\n",
    "plt.sca(axs[0])\n",
    "ax = sns.heatmap(A, cmap='bwr', vmax=2.5, vmin=-2.5,  # 绘制矩阵 X 的热图\n",
    "                 linecolor = 'k',linewidths = 0.1,\n",
    "                 cbar_kws={\"orientation\": \"horizontal\"})\n",
    "ax.set_aspect(\"equal\")\n",
    "plt.title('A')\n",
    "\n",
    "plt.sca(axs[1])\n",
    "plt.title('=')  # 绘制等号\n",
    "plt.axis('off')\n",
    "\n",
    "plt.sca(axs[2])\n",
    "ax = sns.heatmap(Q, cmap='bwr', vmax=2.5, vmin=-2.5,  # 绘制完整正交矩阵 Qc 的热图\n",
    "                 linecolor = 'k',linewidths = 0.1,\n",
    "                 cbar_kws={\"orientation\": \"horizontal\"})\n",
    "ax.set_aspect(\"equal\")\n",
    "plt.title('Q')\n",
    "\n",
    "plt.sca(axs[3])\n",
    "plt.title('@')  # 绘制乘号\n",
    "plt.axis('off')\n",
    "\n",
    "plt.sca(axs[4])\n",
    "ax = sns.heatmap(R, cmap='bwr', vmax=2.5, vmin=-2.5,  # 绘制上三角矩阵 Rc 的热图\n",
    "                 linecolor = 'k',linewidths = 0.1,\n",
    "                 cbar_kws={\"orientation\": \"horizontal\"})\n",
    "ax.set_aspect(\"equal\")\n",
    "plt.title('R')"
   ]
  },
  {
   "cell_type": "markdown",
   "id": "d44692d4-f279-43a7-8ed9-44e72ba1ba64",
   "metadata": {},
   "source": [
    "## Q为正交矩阵"
   ]
  },
  {
   "cell_type": "code",
   "execution_count": 12,
   "id": "0cbcfb02-23a0-46f2-a905-283f7e57e991",
   "metadata": {},
   "outputs": [
    {
     "data": {
      "text/plain": [
       "Text(0.5, 1.0, 'Q')"
      ]
     },
     "execution_count": 12,
     "metadata": {},
     "output_type": "execute_result"
    },
    {
     "data": {
      "image/png": "[encoded data removed]",
      "text/plain": [
       "<Figure size 1200x300 with 8 Axes>"
      ]
     },
     "metadata": {},
     "output_type": "display_data"
    }
   ],
   "source": [
    "fig, axs = plt.subplots(1, 5, figsize=(12, 3))  # 创建子图\n",
    "\n",
    "plt.sca(axs[0])\n",
    "ax = sns.heatmap(Q.T @ Q, cmap='bwr', vmax=2.5, vmin=-2.5,  # 绘制 Qc.T @ Qc 的热图\n",
    "                 linecolor = 'k',linewidths = 0.1,\n",
    "                 cbar_kws={\"orientation\": \"horizontal\"})\n",
    "ax.set_aspect(\"equal\")\n",
    "plt.title('I')\n",
    "\n",
    "plt.sca(axs[1])\n",
    "plt.title('=')  # 绘制等号\n",
    "plt.axis('off')\n",
    "\n",
    "plt.sca(axs[2])\n",
    "ax = sns.heatmap(Q.T, cmap='bwr', vmax=2.5, vmin=-2.5,  # 绘制 Qc.T 的热图\n",
    "                 linecolor = 'k',linewidths = 0.1,\n",
    "                 cbar_kws={\"orientation\": \"horizontal\"})\n",
    "ax.set_aspect(\"equal\")\n",
    "plt.title('Q.T')\n",
    "\n",
    "plt.sca(axs[3])\n",
    "plt.title('@')  # 绘制乘号\n",
    "plt.axis('off')\n",
    "\n",
    "plt.sca(axs[4])\n",
    "ax = sns.heatmap(Q, cmap='bwr', vmax=2.5, vmin=-2.5,  # 绘制 Qc 的热图\n",
    "                 linecolor = 'k',linewidths = 0.1,\n",
    "                 cbar_kws={\"orientation\": \"horizontal\"})\n",
    "ax.set_aspect(\"equal\")\n",
    "plt.title('Q')"
   ]
  },
  {
   "cell_type": "code",
   "execution_count": 13,
   "id": "97d4884a-d8e4-439c-a1d0-a1af76a11a9d",
   "metadata": {},
   "outputs": [
    {
     "data": {
      "text/plain": [
       "Text(0.5, 1.0, 'Q.T')"
      ]
     },
     "execution_count": 13,
     "metadata": {},
     "output_type": "execute_result"
    },
    {
     "data": {
      "image/png": "[encoded data removed]",
      "text/plain": [
       "<Figure size 1200x300 with 8 Axes>"
      ]
     },
     "metadata": {},
     "output_type": "display_data"
    }
   ],
   "source": [
    "fig, axs = plt.subplots(1, 5, figsize=(12, 3))  # 创建子图\n",
    "\n",
    "plt.sca(axs[0])\n",
    "ax = sns.heatmap(Q @ Q.T, cmap='bwr', vmax=2.5, vmin=-2.5,  # 绘制 Qc.T @ Qc 的热图\n",
    "                 linecolor = 'k',linewidths = 0.1,\n",
    "                 cbar_kws={\"orientation\": \"horizontal\"})\n",
    "ax.set_aspect(\"equal\")\n",
    "plt.title('I')\n",
    "\n",
    "plt.sca(axs[1])\n",
    "plt.title('=')  # 绘制等号\n",
    "plt.axis('off')\n",
    "\n",
    "plt.sca(axs[2])\n",
    "ax = sns.heatmap(Q, cmap='bwr', vmax=2.5, vmin=-2.5,  # 绘制 Qc.T 的热图\n",
    "                 linecolor = 'k',linewidths = 0.1,\n",
    "                 cbar_kws={\"orientation\": \"horizontal\"})\n",
    "ax.set_aspect(\"equal\")\n",
    "plt.title('Q')\n",
    "\n",
    "plt.sca(axs[3])\n",
    "plt.title('@')  # 绘制乘号\n",
    "plt.axis('off')\n",
    "\n",
    "plt.sca(axs[4])\n",
    "ax = sns.heatmap(Q.T, cmap='bwr', vmax=2.5, vmin=-2.5,  # 绘制 Qc 的热图\n",
    "                 linecolor = 'k',linewidths = 0.1,\n",
    "                 cbar_kws={\"orientation\": \"horizontal\"})\n",
    "ax.set_aspect(\"equal\")\n",
    "plt.title('Q.T')"
   ]
  },
  {
   "cell_type": "markdown",
   "id": "beb39885-cf6f-4d86-92cc-1eff833fdcc1",
   "metadata": {},
   "source": [
    "作者\t**生姜DrGinger**  \n",
    "脚本\t**生姜DrGinger**  \n",
    "视频\t**崔崔CuiCui**  \n",
    "开源资源\t[**GitHub**](https://github.com/Visualize-ML)  \n",
    "平台\t[**油管**](https://www.youtube.com/@DrGinger_Jiang)\t\t\n",
    "\t\t[**iris小课堂**](https://space.bilibili.com/3546865719052873)\t\t\n",
    "\t\t[**生姜DrGinger**](https://space.bilibili.com/513194466)  "
   ]
  }
 ],
 "metadata": {
  "kernelspec": {
   "display_name": "Python [conda env:base] *",
   "language": "python",
   "name": "conda-base-py"
  },
  "language_info": {
   "codemirror_mode": {
    "name": "ipython",
    "version": 3
   },
   "file_extension": ".py",
   "mimetype": "text/x-python",
   "name": "python",
   "nbconvert_exporter": "python",
   "pygments_lexer": "ipython3",
   "version": "3.12.7"
  }
 },
 "nbformat": 4,
 "nbformat_minor": 5
}
