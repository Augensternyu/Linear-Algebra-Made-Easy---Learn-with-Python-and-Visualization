{
 "cells": [
  {
   "cell_type": "markdown",
   "id": "f04dd603-a2d1-48ce-8c17-9f1dba8de1ee",
   "metadata": {},
   "source": [
    "Chapter 02\n",
    "\n",
    "# 矩阵的索引切片\n",
    "《线性代数，初阶》 | 鸢尾花书：数学不难"
   ]
  },
  {
   "cell_type": "markdown",
   "id": "ccafb456-2453-4c82-8a65-b1963a370cb2",
   "metadata": {},
   "source": [
    "该代码的核心内容是对一个随机生成的矩阵$A$进行操作，包括可视化、行列索引、单个元素提取以及主对角线提取。我们可以从数学角度详细描述其实现原理。\n",
    "\n",
    "---\n",
    "\n",
    "### **1. 初始化**\n",
    "代码首先导入了必要的库：\n",
    "- `numpy` 用于数值计算\n",
    "- `seaborn` 用于数据可视化\n",
    "- `matplotlib.pyplot` 也是用于可视化，通常与 `seaborn` 配合使用\n",
    "\n",
    "---\n",
    "\n",
    "### **2. 矩阵 $A$ 的生成**\n",
    "设 $A$ 为 $5 \\times 12$ 的整数矩阵，其元素范围在 $[0,10)$ 内：\n",
    "\n",
    "$$\n",
    "A = \\begin{bmatrix}\n",
    "a_{1,1} & a_{1,2} & \\dots & a_{1,12} \\\\\n",
    "a_{2,1} & a_{2,2} & \\dots & a_{2,12} \\\\\n",
    "\\vdots & \\vdots & \\ddots & \\vdots \\\\\n",
    "a_{5,1} & a_{5,2} & \\dots & a_{5,12}\n",
    "\\end{bmatrix}\n",
    "$$\n",
    "\n",
    "其中，$a_{i,j} \\in \\{0,1,2,\\dots,9\\}$，由 `np.random.randint(0, 10, (5, 12))` 生成。\n",
    "\n",
    "---\n",
    "\n",
    "### **3. 矩阵属性**\n",
    "- `A.shape` 返回矩阵的形状，即 $(5,12)$\n",
    "- `A.ndim` 返回矩阵的维度，即 $2$（表示这是一个二维矩阵）\n",
    "\n",
    "---\n",
    "\n",
    "### **4. 矩阵可视化**\n",
    "代码使用 `sns.heatmap` 可视化矩阵 $A$，其中：\n",
    "- `cmap='RdYlBu_r'` 表示颜色映射采用红-黄-蓝的反向配色方案\n",
    "- `square=True` 使得每个单元格为正方形\n",
    "- `linecolor='w'` 和 `linewidths=0.25` 设定网格线颜色与宽度\n",
    "\n",
    "---\n",
    "\n",
    "### **5. 行索引**\n",
    "从矩阵 $A$ 提取特定行：\n",
    "- `A[[0],:]` 提取第一行，返回的是一个 **二维数组**，形状为 $(1,12)$\n",
    "- `A[0,:]` 提取第一行，返回的是一个 **一维数组**，形状为 $(12,)$\n",
    "- `A[[1],:]` 提取第二行，返回 $(1,12)$ 维度的数组\n",
    "- `A[[-1],:]` 提取最后一行，即第五行，返回 $(1,12)$ 维度的数组\n",
    "\n",
    "数学上，行索引可以表示为：\n",
    "$$\n",
    "A[i,:] = \\begin{bmatrix} a_{i,1} & a_{i,2} & \\dots & a_{i,12} \\end{bmatrix}\n",
    "$$\n",
    "\n",
    "---\n",
    "\n",
    "### **6. 列索引**\n",
    "从矩阵 $A$ 提取特定列：\n",
    "- `A[:,[0]]` 提取第一列，返回一个 **二维数组**，形状为 $(5,1)$\n",
    "- `A[:,0]` 提取第一列，返回一个 **一维数组**，形状为 $(5,)$\n",
    "- `A[:,[1]]` 提取第二列，返回 $(5,1)$ 维度的数组\n",
    "- `A[:,[-1]]` 提取最后一列，返回 $(5,1)$ 维度的数组\n",
    "\n",
    "数学上，列索引可以表示为：\n",
    "$$\n",
    "A[:,j] = \\begin{bmatrix} a_{1,j} \\\\ a_{2,j} \\\\ \\vdots \\\\ a_{5,j} \\end{bmatrix}\n",
    "$$\n",
    "\n",
    "---\n",
    "\n",
    "### **7. 元素访问**\n",
    "代码使用 `(row_idx, col_idx)` 方式访问矩阵中的单个元素。例如：\n",
    "- `A[0,0]` 访问第 $1$ 行，第 $1$ 列的元素，即 $a_{1,1}$\n",
    "- `A[2,7]` 访问第 $3$ 行，第 $8$ 列的元素，即 $a_{3,8}$\n",
    "- `A[2,-1]` 访问第 $3$ 行，最后一列的元素，即 $a_{3,12}$\n",
    "- `A[-1,-1]` 访问最后一行，最后一列的元素，即 $a_{5,12}$\n",
    "\n",
    "数学表示：\n",
    "$$\n",
    "a_{i,j} = A[i, j]\n",
    "$$\n",
    "\n",
    "---\n",
    "\n",
    "### **8. 主对角线**\n",
    "代码使用 `np.diag(A)` 提取矩阵的主对角线，即：\n",
    "$$\n",
    "\\text{diag}(A) = \\begin{bmatrix} a_{1,1} & a_{2,2} & a_{3,3} & a_{4,4} & a_{5,5} \\end{bmatrix}\n",
    "$$\n",
    "这是一维数组，形状为 $(5,)$。\n",
    "\n",
    "使用 `np.diag(np.diag(A))` 构造对角矩阵：\n",
    "$$\n",
    "D = \\begin{bmatrix}\n",
    "a_{1,1} & 0 & 0 & 0 & 0 \\\\\n",
    "0 & a_{2,2} & 0 & 0 & 0 \\\\\n",
    "0 & 0 & a_{3,3} & 0 & 0 \\\\\n",
    "0 & 0 & 0 & a_{4,4} & 0 \\\\\n",
    "0 & 0 & 0 & 0 & a_{5,5}\n",
    "\\end{bmatrix}\n",
    "$$\n",
    "该矩阵只保留了 $A$ 的主对角线元素，其他位置填充为 $0$。\n",
    "\n",
    "---\n",
    "\n",
    "### **总结**\n",
    "- 代码主要处理一个 $5 \\times 12$ 的随机整数矩阵，使用 `numpy` 进行索引和元素访问，并使用 `seaborn` 可视化矩阵。\n",
    "- 代码展示了如何提取特定行、列、单个元素以及主对角线元素，并使用数学公式解释了每个操作的含义。\n",
    "\n",
    "这样，你可以清晰地理解代码的数学本质！"
   ]
  },
  {
   "cell_type": "markdown",
   "id": "ebb4b0d0-a69c-4a8b-b72d-6fb98543d826",
   "metadata": {},
   "source": [
    "## 初始化"
   ]
  },
  {
   "cell_type": "code",
   "execution_count": 1,
   "id": "1ba08a7e-5c56-4323-9fac-7488a92ab416",
   "metadata": {},
   "outputs": [],
   "source": [
    "import numpy as np\n",
    "import seaborn as sns\n",
    "import matplotlib.pyplot as plt"
   ]
  },
  {
   "cell_type": "markdown",
   "id": "cc3e2c0d-92cd-4aee-a476-91820e7f1ac3",
   "metadata": {},
   "source": [
    "## 创建矩阵"
   ]
  },
  {
   "cell_type": "code",
   "execution_count": 3,
   "id": "08fff1ef-ced6-4755-9b25-4c8cb34b2bd8",
   "metadata": {},
   "outputs": [
    {
     "data": {
      "text/plain": [
       "array([[8, 0, 1, 4, 5, 1, 0, 5, 0, 2, 1, 4],\n",
       "       [7, 9, 7, 7, 6, 6, 3, 1, 0, 8, 6, 0],\n",
       "       [0, 5, 7, 5, 3, 9, 5, 3, 7, 3, 9, 3],\n",
       "       [8, 5, 0, 6, 4, 0, 2, 2, 5, 9, 2, 5],\n",
       "       [6, 6, 1, 1, 8, 6, 1, 2, 1, 7, 4, 3]])"
      ]
     },
     "execution_count": 3,
     "metadata": {},
     "output_type": "execute_result"
    }
   ],
   "source": [
    "np.random.seed(88)  # 保证每次运行生成相同的随机数\n",
    "A = np.random.randint(0, 10, (5, 12))\n",
    "# 生成一个 5×12 的随机整数矩阵（数值范围 0~10）\n",
    "A"
   ]
  },
  {
   "cell_type": "code",
   "execution_count": null,
   "id": "62f9abc9-7568-4961-a52f-f109bf33d2c5",
   "metadata": {},
   "outputs": [],
   "source": [
    "A.shape"
   ]
  },
  {
   "cell_type": "code",
   "execution_count": null,
   "id": "754dcc53-2d55-40c0-a0e1-9b6dec3c4df5",
   "metadata": {},
   "outputs": [],
   "source": [
    "A.ndim"
   ]
  },
  {
   "cell_type": "markdown",
   "id": "48358c22-d40b-4dc6-b479-04664ca3d46b",
   "metadata": {},
   "source": [
    "## 可视化"
   ]
  },
  {
   "cell_type": "code",
   "execution_count": 9,
   "id": "54e8a73b-838c-4fbb-a1d8-25b5c4d4d8a4",
   "metadata": {},
   "outputs": [
    {
     "data": {
      "image/png": "[encoded data removed]",
      "text/plain": [
       "<Figure size 640x480 with 2 Axes>"
      ]
     },
     "metadata": {},
     "output_type": "display_data"
    }
   ],
   "source": [
    "sns.heatmap(A, cmap = 'RdYlBu_r', square = True, \n",
    "            linecolor = 'w', linewidths = 0.25)"
   ]
  },
  {
   "cell_type": "markdown",
   "id": "5534f2d1-4389-4a94-8714-d17233ef2890",
   "metadata": {},
   "source": [
    "## 行索引"
   ]
  },
  {
   "cell_type": "code",
   "execution_count": 26,
   "id": "cf427af7-1a2e-44d1-b15b-57eec613c2c4",
   "metadata": {},
   "outputs": [
    {
     "data": {
      "text/plain": [
       "array([[6, 3, 7, 4, 6, 9, 2, 6]])"
      ]
     },
     "execution_count": 26,
     "metadata": {},
     "output_type": "execute_result"
    }
   ],
   "source": [
    "a_row_1 = A[[0],:]\n",
    "# 结果为二维数组\n",
    "a_row_1"
   ]
  },
  {
   "cell_type": "code",
   "execution_count": 28,
   "id": "c792dc53-2c97-4ac4-8263-69176a7761ad",
   "metadata": {},
   "outputs": [
    {
     "data": {
      "text/plain": [
       "array([6, 3, 7, 4, 6, 9, 2, 6])"
      ]
     },
     "execution_count": 28,
     "metadata": {},
     "output_type": "execute_result"
    }
   ],
   "source": [
    "A[0,:]\n",
    "# 结果为一维数组"
   ]
  },
  {
   "cell_type": "code",
   "execution_count": null,
   "id": "7aaa6f94-359a-4bab-8346-11f2129cee42",
   "metadata": {},
   "outputs": [],
   "source": [
    "a_row_2 = A[[1],:]\n",
    "# 结果为二维数组\n",
    "a_row_2"
   ]
  },
  {
   "cell_type": "code",
   "execution_count": 13,
   "id": "e8c3bb91-ea0a-4e4d-933a-97d6e93c2531",
   "metadata": {},
   "outputs": [
    {
     "data": {
      "text/plain": [
       "array([[6, 6, 1, 1, 8, 6, 1, 2, 1, 7, 4, 3]])"
      ]
     },
     "execution_count": 13,
     "metadata": {},
     "output_type": "execute_result"
    }
   ],
   "source": [
    "a_row_5 = A[[-1],:]\n",
    "a_row_5"
   ]
  },
  {
   "cell_type": "markdown",
   "id": "5443b7e1-aba9-4991-8ae7-e587ee74b3bb",
   "metadata": {},
   "source": [
    "## 列索引"
   ]
  },
  {
   "cell_type": "code",
   "execution_count": 21,
   "id": "94686bc6-0711-4b16-9409-e757ea9cb2f1",
   "metadata": {},
   "outputs": [
    {
     "data": {
      "text/plain": [
       "array([[8],\n",
       "       [7],\n",
       "       [0],\n",
       "       [8],\n",
       "       [6]])"
      ]
     },
     "execution_count": 21,
     "metadata": {},
     "output_type": "execute_result"
    }
   ],
   "source": [
    "a_col_1 = A[:,[0]]\n",
    "# 结果为二维数组\n",
    "a_col_1"
   ]
  },
  {
   "cell_type": "code",
   "execution_count": 19,
   "id": "5d887a43-14b9-42a5-856a-690f8a715393",
   "metadata": {},
   "outputs": [
    {
     "data": {
      "text/plain": [
       "array([8, 7, 0, 8, 6])"
      ]
     },
     "execution_count": 19,
     "metadata": {},
     "output_type": "execute_result"
    }
   ],
   "source": [
    "A[:,0]"
   ]
  },
  {
   "cell_type": "code",
   "execution_count": 25,
   "id": "fd839127-072d-4ea1-bc1f-3d1ca040612c",
   "metadata": {},
   "outputs": [
    {
     "data": {
      "text/plain": [
       "array([[0],\n",
       "       [9],\n",
       "       [5],\n",
       "       [5],\n",
       "       [6]])"
      ]
     },
     "execution_count": 25,
     "metadata": {},
     "output_type": "execute_result"
    }
   ],
   "source": [
    "a_col_2 = A[:,[1]]\n",
    "# 结果为二维数组\n",
    "a_col_2"
   ]
  },
  {
   "cell_type": "code",
   "execution_count": 23,
   "id": "e449fdff-8c86-4656-824c-04bb7309ef65",
   "metadata": {},
   "outputs": [
    {
     "data": {
      "text/plain": [
       "array([0, 9, 5, 5, 6])"
      ]
     },
     "execution_count": 23,
     "metadata": {},
     "output_type": "execute_result"
    }
   ],
   "source": [
    "A[:,1]"
   ]
  },
  {
   "cell_type": "code",
   "execution_count": 27,
   "id": "0f63973e-9285-47da-ba83-790074b9ce43",
   "metadata": {},
   "outputs": [
    {
     "data": {
      "text/plain": [
       "array([[4],\n",
       "       [0],\n",
       "       [3],\n",
       "       [5],\n",
       "       [3]])"
      ]
     },
     "execution_count": 27,
     "metadata": {},
     "output_type": "execute_result"
    }
   ],
   "source": [
    "a_col_12 = A[:,[-1]]\n",
    "# 结果为二维数组\n",
    "a_col_12"
   ]
  },
  {
   "cell_type": "code",
   "execution_count": 29,
   "id": "afc401e3-4c95-4d14-965b-b906eacab44b",
   "metadata": {},
   "outputs": [
    {
     "data": {
      "text/plain": [
       "array([4, 0, 3, 5, 3])"
      ]
     },
     "execution_count": 29,
     "metadata": {},
     "output_type": "execute_result"
    }
   ],
   "source": [
    "A[:,-1]"
   ]
  },
  {
   "cell_type": "markdown",
   "id": "45a65725-3020-4a25-839b-b7ecde2ef8ae",
   "metadata": {},
   "source": [
    "## 元素"
   ]
  },
  {
   "cell_type": "code",
   "execution_count": 31,
   "id": "771fb6cc-aa76-4f9b-ac35-3c42f4d1902a",
   "metadata": {},
   "outputs": [
    {
     "data": {
      "text/plain": [
       "8"
      ]
     },
     "execution_count": 31,
     "metadata": {},
     "output_type": "execute_result"
    }
   ],
   "source": [
    "row_idx, col_idx = 0, 0\n",
    "# 第1行、第1列元素\n",
    "a_1_1 = A[row_idx, col_idx]\n",
    "a_1_1"
   ]
  },
  {
   "cell_type": "code",
   "execution_count": 33,
   "id": "2ab8ece6-5b14-4d05-9d1b-d0da9763a618",
   "metadata": {},
   "outputs": [
    {
     "data": {
      "text/plain": [
       "3"
      ]
     },
     "execution_count": 33,
     "metadata": {},
     "output_type": "execute_result"
    }
   ],
   "source": [
    "row_idx, col_idx = 2, 7\n",
    "# 第3行、第8列元素\n",
    "a_3_8 = A[row_idx, col_idx]\n",
    "a_3_8"
   ]
  },
  {
   "cell_type": "code",
   "execution_count": 39,
   "id": "b64a14f5-2c71-4050-b306-8188762d97c8",
   "metadata": {},
   "outputs": [
    {
     "data": {
      "text/plain": [
       "3"
      ]
     },
     "execution_count": 39,
     "metadata": {},
     "output_type": "execute_result"
    }
   ],
   "source": [
    "a_3_12 = A[2, -1]\n",
    "# 第3行、第12列 (最后一列）\n",
    "a_3_12"
   ]
  },
  {
   "cell_type": "code",
   "execution_count": 43,
   "id": "4f0352a8-2f91-4e62-af38-fd5880213b81",
   "metadata": {},
   "outputs": [
    {
     "data": {
      "text/plain": [
       "3"
      ]
     },
     "execution_count": 43,
     "metadata": {},
     "output_type": "execute_result"
    }
   ],
   "source": [
    "row_idx, col_idx = -1, -1\n",
    "# 第5行 (最后一行)、第8列元素 (最后一列)\n",
    "a_5_12 = A[row_idx, col_idx]\n",
    "a_5_12"
   ]
  },
  {
   "cell_type": "code",
   "execution_count": null,
   "id": "1ab8ceb3-0ee1-499c-95fc-7542116e82fe",
   "metadata": {},
   "outputs": [],
   "source": []
  },
  {
   "cell_type": "markdown",
   "id": "7f740366-2370-48cd-85f0-ff706279a63e",
   "metadata": {},
   "source": [
    "## 主对角线元素"
   ]
  },
  {
   "cell_type": "code",
   "execution_count": 81,
   "id": "dc354fa1-fa17-43b1-a480-a0790630a4e2",
   "metadata": {},
   "outputs": [
    {
     "data": {
      "text/plain": [
       "array([8, 9, 7, 6, 8])"
      ]
     },
     "execution_count": 81,
     "metadata": {},
     "output_type": "execute_result"
    }
   ],
   "source": [
    "np.diag(A)"
   ]
  },
  {
   "cell_type": "code",
   "execution_count": 10,
   "id": "7503c888-4567-4d19-b3eb-ea3c94452e2a",
   "metadata": {},
   "outputs": [
    {
     "data": {
      "text/plain": [
       "array([[8, 0, 0, 0, 0],\n",
       "       [0, 9, 0, 0, 0],\n",
       "       [0, 0, 7, 0, 0],\n",
       "       [0, 0, 0, 6, 0],\n",
       "       [0, 0, 0, 0, 8]])"
      ]
     },
     "execution_count": 10,
     "metadata": {},
     "output_type": "execute_result"
    }
   ],
   "source": [
    "np.diag(np.diag(A))"
   ]
  },
  {
   "cell_type": "markdown",
   "id": "ba7d3a18-e20a-497c-a401-e15eb80a2e17",
   "metadata": {},
   "source": [
    "作者\t**生姜DrGinger**  \n",
    "脚本\t**生姜DrGinger**  \n",
    "视频\t**崔崔CuiCui**  \n",
    "开源资源\t[**GitHub**](https://github.com/Visualize-ML)  \n",
    "平台\t[**油管**](https://www.youtube.com/@DrGinger_Jiang)\t\t\n",
    "\t\t[**iris小课堂**](https://space.bilibili.com/3546865719052873)\t\t\n",
    "\t\t[**生姜DrGinger**](https://space.bilibili.com/513194466)  "
   ]
  }
 ],
 "metadata": {
  "kernelspec": {
   "display_name": "Python [conda env:base] *",
   "language": "python",
   "name": "conda-base-py"
  },
  "language_info": {
   "codemirror_mode": {
    "name": "ipython",
    "version": 3
   },
   "file_extension": ".py",
   "mimetype": "text/x-python",
   "name": "python",
   "nbconvert_exporter": "python",
   "pygments_lexer": "ipython3",
   "version": "3.12.7"
  }
 },
 "nbformat": 4,
 "nbformat_minor": 5
}
