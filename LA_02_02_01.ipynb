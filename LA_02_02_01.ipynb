{
 "cells": [
  {
   "cell_type": "markdown",
   "id": "f04dd603-a2d1-48ce-8c17-9f1dba8de1ee",
   "metadata": {},
   "source": [
    "Chapter 02\n",
    "\n",
    "# 矩阵转置\n",
    "《线性代数》 | 鸢尾花书：数学不难"
   ]
  },
  {
   "cell_type": "markdown",
   "id": "ccafb456-2453-4c82-8a65-b1963a370cb2",
   "metadata": {},
   "source": [
    "这段代码的核心是对一个随机整数矩阵 $A$ 进行转置操作，并使用 `seaborn.heatmap` 进行可视化，以直观展示数据的结构及其变化。以下是详细的数学分析：\n",
    "\n",
    "### **1. 矩阵 $A$ 的初始化**\n",
    "代码首先使用 `numpy` 生成一个 $5 \\times 12$ 的随机整数矩阵 $A$，其中元素的取值范围是 $[0,9]$：\n",
    "\\[\n",
    "A = \\begin{bmatrix} \n",
    "a_{11} & a_{12} & \\dots & a_{1,12} \\\\ \n",
    "a_{21} & a_{22} & \\dots & a_{2,12} \\\\ \n",
    "\\vdots & \\vdots & \\ddots & \\vdots \\\\ \n",
    "a_{51} & a_{52} & \\dots & a_{5,12} \n",
    "\\end{bmatrix}\n",
    "\\]\n",
    "其中 $a_{ij} \\in \\mathbb{Z}, \\quad 0 \\leq a_{ij} \\leq 9$。\n",
    "\n",
    "代码使用 `np.random.seed(88)` 确保每次运行时 $A$ 的内容保持一致。然后利用 `seaborn.heatmap` 进行可视化，`cmap='RdYlBu_r'` 设置了颜色映射，使得数值较小的元素偏蓝色，数值较大的元素偏红色。\n",
    "\n",
    "### **2. 矩阵的转置**\n",
    "矩阵 $A$ 的转置 $A^T$ 是交换行列索引得到的矩阵：\n",
    "\\[\n",
    "A^T = \\begin{bmatrix} \n",
    "a_{11} & a_{21} & \\dots & a_{51} \\\\ \n",
    "a_{12} & a_{22} & \\dots & a_{52} \\\\ \n",
    "\\vdots & \\vdots & \\ddots & \\vdots \\\\ \n",
    "a_{1,12} & a_{2,12} & \\dots & a_{5,12} \n",
    "\\end{bmatrix}\n",
    "\\]\n",
    "其形状从 $5 \\times 12$ 变为 $12 \\times 5$。代码 `A_T = A.T` 完成这个操作，并再次使用 `seaborn.heatmap` 进行可视化。\n",
    "\n",
    "### **3. 行向量的提取及转置**\n",
    "代码通过 `A[[i],:]` 提取第 $i$ 行（即形状保持为 $1 \\times 12$），然后通过 `.T` 进行转置，得到形状为 $12 \\times 1$ 的列向量：\n",
    "\\[\n",
    "A[i,:] =\n",
    "\\begin{bmatrix} a_{i1} & a_{i2} & \\dots & a_{i,12} \\end{bmatrix}\n",
    "\\]\n",
    "转置后变为：\n",
    "\\[\n",
    "A[i,:]^T =\n",
    "\\begin{bmatrix} a_{i1} \\\\ a_{i2} \\\\ \\vdots \\\\ a_{i,12} \\end{bmatrix}\n",
    "\\]\n",
    "可视化展示了这些行向量的不同表现形式。\n",
    "\n",
    "### **4. 列向量的提取及转置**\n",
    "代码通过 `A[:,[j]]` 提取矩阵的第 $j$ 列，生成形状为 $5 \\times 1$ 的矩阵：\n",
    "\\[\n",
    "A[:, j] =\n",
    "\\begin{bmatrix} a_{1j} \\\\ a_{2j} \\\\ \\vdots \\\\ a_{5j} \\end{bmatrix}\n",
    "\\]\n",
    "转置后得到 $1 \\times 5$ 的行向量：\n",
    "\\[\n",
    "A[:, j]^T =\n",
    "\\begin{bmatrix} a_{1j} & a_{2j} & \\dots & a_{5j} \\end{bmatrix}\n",
    "\\]\n",
    "代码依次对不同的列执行此操作，并使用 `seaborn.heatmap` 进行可视化。\n",
    "\n",
    "### **5. 主要数学性质**\n",
    "1. **转置的性质**\n",
    "   - $(A^T)^T = A$\n",
    "   - $(A + B)^T = A^T + B^T$\n",
    "   - $(AB)^T = B^T A^T$（适用于可乘矩阵）\n",
    "\n",
    "2. **矩阵索引**\n",
    "   - $A[i,:]$ 提取第 $i$ 行，形状保持为 $1 \\times n$。\n",
    "   - $A[:,j]$ 提取第 $j$ 列，形状保持为 $m \\times 1$。\n",
    "   - 转置后行变列，列变行。\n",
    "\n",
    "### **6. 可视化的作用**\n",
    "使用 `seaborn.heatmap` 显示矩阵数据，使数据的模式和结构更加直观，特别是矩阵转置前后的形态变化。由于 `annot=True`，图中的每个单元格都会显示其具体的数值，以便观察不同数值的分布情况。\n",
    "\n",
    "### **总结**\n",
    "这段代码主要演示了：\n",
    "- 生成一个 $5 \\times 12$ 的随机整数矩阵；\n",
    "- 计算其转置，并对比原矩阵和转置矩阵的结构；\n",
    "- 提取不同的行向量和列向量，并研究它们的转置特性；\n",
    "- 通过 `seaborn.heatmap` 进行可视化，增强数据的直观理解。\n",
    "\n",
    "整体上，这是一组用于研究矩阵转置及其可视化方法的代码示例，在数据科学和线性代数学习中非常有价值。"
   ]
  },
  {
   "cell_type": "markdown",
   "id": "25164ae7-96ac-45ce-9ac5-451ae08bbccb",
   "metadata": {},
   "source": [
    "## 初始化"
   ]
  },
  {
   "cell_type": "code",
   "execution_count": 6,
   "id": "bb93487f-88f3-4ffd-a2c3-c3419f57f288",
   "metadata": {},
   "outputs": [],
   "source": [
    "import numpy as np\n",
    "import seaborn as sns"
   ]
  },
  {
   "cell_type": "code",
   "execution_count": 7,
   "id": "4b9060df-7628-486a-afeb-4a77ae357d58",
   "metadata": {},
   "outputs": [
    {
     "data": {
      "text/plain": [
       "array([[8, 0, 1, 4, 5, 1, 0, 5, 0, 2, 1, 4],\n",
       "       [7, 9, 7, 7, 6, 6, 3, 1, 0, 8, 6, 0],\n",
       "       [0, 5, 7, 5, 3, 9, 5, 3, 7, 3, 9, 3],\n",
       "       [8, 5, 0, 6, 4, 0, 2, 2, 5, 9, 2, 5],\n",
       "       [6, 6, 1, 1, 8, 6, 1, 2, 1, 7, 4, 3]])"
      ]
     },
     "execution_count": 7,
     "metadata": {},
     "output_type": "execute_result"
    }
   ],
   "source": [
    "np.random.seed(88)  # 保证每次运行生成相同的随机数\n",
    "A = np.random.randint(0, 10, (5, 12))\n",
    "A"
   ]
  },
  {
   "cell_type": "code",
   "execution_count": 10,
   "id": "374c696c-5a83-42b5-b7e3-29244ee6dbb9",
   "metadata": {},
   "outputs": [
    {
     "data": {
      "text/plain": [
       "<Axes: >"
      ]
     },
     "execution_count": 10,
     "metadata": {},
     "output_type": "execute_result"
    },
    {
     "data": {
      "image/png": "[encoded data removed]",
      "text/plain": [
       "<Figure size 640x480 with 1 Axes>"
      ]
     },
     "metadata": {},
     "output_type": "display_data"
    }
   ],
   "source": [
    "sns.heatmap(A, cmap = 'RdYlBu_r', square = True, \n",
    "            cbar = False, annot = True, vmin = 0, vmax = 9,\n",
    "            linecolor = 'w', linewidths = 0.25)"
   ]
  },
  {
   "cell_type": "markdown",
   "id": "9456c107-3306-48e2-af90-54e497f8b0cf",
   "metadata": {},
   "source": [
    "## 计算矩阵 A 的转置"
   ]
  },
  {
   "cell_type": "code",
   "execution_count": 12,
   "id": "d1bcc1c4-4ac1-4c8b-88a6-b6780737a454",
   "metadata": {},
   "outputs": [
    {
     "data": {
      "text/plain": [
       "array([[8, 7, 0, 8, 6],\n",
       "       [0, 9, 5, 5, 6],\n",
       "       [1, 7, 7, 0, 1],\n",
       "       [4, 7, 5, 6, 1],\n",
       "       [5, 6, 3, 4, 8],\n",
       "       [1, 6, 9, 0, 6],\n",
       "       [0, 3, 5, 2, 1],\n",
       "       [5, 1, 3, 2, 2],\n",
       "       [0, 0, 7, 5, 1],\n",
       "       [2, 8, 3, 9, 7],\n",
       "       [1, 6, 9, 2, 4],\n",
       "       [4, 0, 3, 5, 3]])"
      ]
     },
     "execution_count": 12,
     "metadata": {},
     "output_type": "execute_result"
    }
   ],
   "source": [
    "A_T = A.T\n",
    "A_T"
   ]
  },
  {
   "cell_type": "code",
   "execution_count": 14,
   "id": "c3a94695-c6ff-44c0-b66c-b72de917daf9",
   "metadata": {},
   "outputs": [
    {
     "data": {
      "text/plain": [
       "<Axes: >"
      ]
     },
     "execution_count": 14,
     "metadata": {},
     "output_type": "execute_result"
    },
    {
     "data": {
      "image/png": "[encoded data removed]",
      "text/plain": [
       "<Figure size 640x480 with 1 Axes>"
      ]
     },
     "metadata": {},
     "output_type": "display_data"
    }
   ],
   "source": [
    "sns.heatmap(A_T, cmap = 'RdYlBu_r', square = True, \n",
    "            cbar = False, annot = True, vmin = 0, vmax = 9,\n",
    "            linecolor = 'w', linewidths = 0.25)"
   ]
  },
  {
   "cell_type": "markdown",
   "id": "186a8bf5-b412-4469-b1c8-0443241379f7",
   "metadata": {},
   "source": [
    "## 行向量的转置"
   ]
  },
  {
   "cell_type": "code",
   "execution_count": 16,
   "id": "916b8524-af91-4c86-afd7-a703127b4eca",
   "metadata": {},
   "outputs": [
    {
     "data": {
      "text/plain": [
       "array([[8, 0, 1, 4, 5, 1, 0, 5, 0, 2, 1, 4]])"
      ]
     },
     "execution_count": 16,
     "metadata": {},
     "output_type": "execute_result"
    }
   ],
   "source": [
    "A[[0],:]"
   ]
  },
  {
   "cell_type": "code",
   "execution_count": 18,
   "id": "a1715d35-3a92-4ea5-905f-3cc2368ad1bc",
   "metadata": {},
   "outputs": [
    {
     "data": {
      "text/plain": [
       "<Axes: >"
      ]
     },
     "execution_count": 18,
     "metadata": {},
     "output_type": "execute_result"
    },
    {
     "data": {
      "image/png": "[encoded data removed]",
      "text/plain": [
       "<Figure size 640x480 with 1 Axes>"
      ]
     },
     "metadata": {},
     "output_type": "display_data"
    }
   ],
   "source": [
    "sns.heatmap(A[[0],:], cmap = 'RdYlBu_r', square = True, \n",
    "            cbar = False, annot = True, vmin = 0, vmax = 9,\n",
    "            linecolor = 'w', linewidths = 0.25)"
   ]
  },
  {
   "cell_type": "code",
   "execution_count": 20,
   "id": "54b03774-612c-40a4-a9a7-a5ad550c3cdd",
   "metadata": {},
   "outputs": [
    {
     "data": {
      "text/plain": [
       "<Axes: >"
      ]
     },
     "execution_count": 20,
     "metadata": {},
     "output_type": "execute_result"
    },
    {
     "data": {
      "image/png": "[encoded data removed]",
      "text/plain": [
       "<Figure size 640x480 with 1 Axes>"
      ]
     },
     "metadata": {},
     "output_type": "display_data"
    }
   ],
   "source": [
    "sns.heatmap(A[[0],:].T, cmap = 'RdYlBu_r', square = True, \n",
    "            cbar = False, annot = True, vmin = 0, vmax = 9,\n",
    "            linecolor = 'w', linewidths = 0.25)"
   ]
  },
  {
   "cell_type": "code",
   "execution_count": 22,
   "id": "5afc68f2-ad2f-4778-a3de-04a3510241bd",
   "metadata": {},
   "outputs": [
    {
     "data": {
      "text/plain": [
       "array([[7, 9, 7, 7, 6, 6, 3, 1, 0, 8, 6, 0]])"
      ]
     },
     "execution_count": 22,
     "metadata": {},
     "output_type": "execute_result"
    }
   ],
   "source": [
    "A[[1],:]"
   ]
  },
  {
   "cell_type": "code",
   "execution_count": 24,
   "id": "53348e51-b960-4db1-baf8-bc6553f53e92",
   "metadata": {},
   "outputs": [
    {
     "data": {
      "text/plain": [
       "<Axes: >"
      ]
     },
     "execution_count": 24,
     "metadata": {},
     "output_type": "execute_result"
    },
    {
     "data": {
      "image/png": "[encoded data removed]",
      "text/plain": [
       "<Figure size 640x480 with 1 Axes>"
      ]
     },
     "metadata": {},
     "output_type": "display_data"
    }
   ],
   "source": [
    "sns.heatmap(A[[1],:], cmap = 'RdYlBu_r', square = True, \n",
    "            cbar = False, annot = True, vmin = 0, vmax = 9,\n",
    "            linecolor = 'w', linewidths = 0.25)"
   ]
  },
  {
   "cell_type": "code",
   "execution_count": 26,
   "id": "c3d6a511-4ac2-4e9d-97a6-92a395f93441",
   "metadata": {},
   "outputs": [
    {
     "data": {
      "text/plain": [
       "array([[6, 6, 1, 1, 8, 6, 1, 2, 1, 7, 4, 3]])"
      ]
     },
     "execution_count": 26,
     "metadata": {},
     "output_type": "execute_result"
    }
   ],
   "source": [
    "A[[-1],:]"
   ]
  },
  {
   "cell_type": "code",
   "execution_count": 28,
   "id": "c38ca005-101c-4ccb-9399-f634b90b47de",
   "metadata": {},
   "outputs": [
    {
     "data": {
      "text/plain": [
       "<Axes: >"
      ]
     },
     "execution_count": 28,
     "metadata": {},
     "output_type": "execute_result"
    },
    {
     "data": {
      "image/png": "[encoded data removed]",
      "text/plain": [
       "<Figure size 640x480 with 1 Axes>"
      ]
     },
     "metadata": {},
     "output_type": "display_data"
    }
   ],
   "source": [
    "sns.heatmap(A[[-1],:].T, cmap = 'RdYlBu_r', square = True, \n",
    "            cbar = False, annot = True, vmin = 0, vmax = 9,\n",
    "            linecolor = 'w', linewidths = 0.25)"
   ]
  },
  {
   "cell_type": "markdown",
   "id": "a50977e5-9fcc-431c-8ee2-d02fa698cbdf",
   "metadata": {},
   "source": [
    "## 列向量的转置"
   ]
  },
  {
   "cell_type": "code",
   "execution_count": 30,
   "id": "3d6c8cb3-d738-4463-8972-28b63fa34940",
   "metadata": {},
   "outputs": [
    {
     "data": {
      "text/plain": [
       "array([[8],\n",
       "       [7],\n",
       "       [0],\n",
       "       [8],\n",
       "       [6]])"
      ]
     },
     "execution_count": 30,
     "metadata": {},
     "output_type": "execute_result"
    }
   ],
   "source": [
    "A[:,[0]]"
   ]
  },
  {
   "cell_type": "code",
   "execution_count": 34,
   "id": "d144bd8f-e10a-48a7-9816-390d0cc30194",
   "metadata": {},
   "outputs": [
    {
     "data": {
      "text/plain": [
       "<Axes: >"
      ]
     },
     "execution_count": 34,
     "metadata": {},
     "output_type": "execute_result"
    },
    {
     "data": {
      "image/png": "[encoded data removed]",
      "text/plain": [
       "<Figure size 640x480 with 1 Axes>"
      ]
     },
     "metadata": {},
     "output_type": "display_data"
    }
   ],
   "source": [
    "sns.heatmap(A[:,[0]], cmap = 'RdYlBu_r', square = True, \n",
    "            cbar = False, annot = True, vmin = 0, vmax = 9,\n",
    "            linecolor = 'w', linewidths = 0.25)"
   ]
  },
  {
   "cell_type": "code",
   "execution_count": 36,
   "id": "c10c29d6-4657-47f7-a8ab-8af4730b832e",
   "metadata": {},
   "outputs": [
    {
     "data": {
      "text/plain": [
       "<Axes: >"
      ]
     },
     "execution_count": 36,
     "metadata": {},
     "output_type": "execute_result"
    },
    {
     "data": {
      "image/png": "[encoded data removed]",
      "text/plain": [
       "<Figure size 640x480 with 1 Axes>"
      ]
     },
     "metadata": {},
     "output_type": "display_data"
    }
   ],
   "source": [
    "sns.heatmap(A[:,[0]].T, cmap = 'RdYlBu_r', square = True, \n",
    "            cbar = False, annot = True, vmin = 0, vmax = 9,\n",
    "            linecolor = 'w', linewidths = 0.25)"
   ]
  },
  {
   "cell_type": "code",
   "execution_count": 38,
   "id": "539f9b2b-dcf7-4c1e-9fdc-709bde9a91dc",
   "metadata": {},
   "outputs": [
    {
     "data": {
      "text/plain": [
       "array([[0],\n",
       "       [9],\n",
       "       [5],\n",
       "       [5],\n",
       "       [6]])"
      ]
     },
     "execution_count": 38,
     "metadata": {},
     "output_type": "execute_result"
    }
   ],
   "source": [
    "A[:,[1]]"
   ]
  },
  {
   "cell_type": "code",
   "execution_count": 40,
   "id": "9ffb42de-86af-48f1-8f91-313eccd1dbf4",
   "metadata": {},
   "outputs": [
    {
     "data": {
      "text/plain": [
       "<Axes: >"
      ]
     },
     "execution_count": 40,
     "metadata": {},
     "output_type": "execute_result"
    },
    {
     "data": {
      "image/png": "[encoded data removed]",
      "text/plain": [
       "<Figure size 640x480 with 1 Axes>"
      ]
     },
     "metadata": {},
     "output_type": "display_data"
    }
   ],
   "source": [
    "sns.heatmap(A[:,[1]], cmap = 'RdYlBu_r', square = True, \n",
    "            cbar = False, annot = True, vmin = 0, vmax = 9,\n",
    "            linecolor = 'w', linewidths = 0.25)"
   ]
  },
  {
   "cell_type": "code",
   "execution_count": 42,
   "id": "827a88aa-d11e-46f1-bd28-bf578b1563b5",
   "metadata": {},
   "outputs": [
    {
     "data": {
      "text/plain": [
       "<Axes: >"
      ]
     },
     "execution_count": 42,
     "metadata": {},
     "output_type": "execute_result"
    },
    {
     "data": {
      "image/png": "[encoded data removed]",
      "text/plain": [
       "<Figure size 640x480 with 1 Axes>"
      ]
     },
     "metadata": {},
     "output_type": "display_data"
    }
   ],
   "source": [
    "sns.heatmap(A[:,[1]].T, cmap = 'RdYlBu_r', square = True, \n",
    "            cbar = False, annot = True, vmin = 0, vmax = 9,\n",
    "            linecolor = 'w', linewidths = 0.25)"
   ]
  },
  {
   "cell_type": "code",
   "execution_count": 44,
   "id": "736eeb60-9362-4d05-9034-cc49f7d5c47e",
   "metadata": {},
   "outputs": [
    {
     "data": {
      "text/plain": [
       "array([[5],\n",
       "       [1],\n",
       "       [3],\n",
       "       [2],\n",
       "       [2]])"
      ]
     },
     "execution_count": 44,
     "metadata": {},
     "output_type": "execute_result"
    }
   ],
   "source": [
    "A[:,[7]]"
   ]
  },
  {
   "cell_type": "code",
   "execution_count": 46,
   "id": "8e7fd565-388b-41a0-ae1a-5fbb902c024b",
   "metadata": {},
   "outputs": [
    {
     "data": {
      "text/plain": [
       "<Axes: >"
      ]
     },
     "execution_count": 46,
     "metadata": {},
     "output_type": "execute_result"
    },
    {
     "data": {
      "image/png": "[encoded data removed]",
      "text/plain": [
       "<Figure size 640x480 with 1 Axes>"
      ]
     },
     "metadata": {},
     "output_type": "display_data"
    }
   ],
   "source": [
    "sns.heatmap(A[:,[7]], cmap = 'RdYlBu_r', square = True, \n",
    "            cbar = False, annot = True, vmin = 0, vmax = 9,\n",
    "            linecolor = 'w', linewidths = 0.25)"
   ]
  },
  {
   "cell_type": "code",
   "execution_count": 48,
   "id": "9036f104-180d-42fa-8798-b29ebfe02df2",
   "metadata": {},
   "outputs": [
    {
     "data": {
      "text/plain": [
       "<Axes: >"
      ]
     },
     "execution_count": 48,
     "metadata": {},
     "output_type": "execute_result"
    },
    {
     "data": {
      "image/png": "[encoded data removed]",
      "text/plain": [
       "<Figure size 640x480 with 1 Axes>"
      ]
     },
     "metadata": {},
     "output_type": "display_data"
    }
   ],
   "source": [
    "sns.heatmap(A[:,[7]].T, cmap = 'RdYlBu_r', square = True, \n",
    "            cbar = False, annot = True, vmin = 0, vmax = 9,\n",
    "            linecolor = 'w', linewidths = 0.25)"
   ]
  },
  {
   "cell_type": "code",
   "execution_count": 50,
   "id": "70595985-26e7-48c0-aa59-348718f4e32d",
   "metadata": {},
   "outputs": [
    {
     "data": {
      "text/plain": [
       "array([[4],\n",
       "       [0],\n",
       "       [3],\n",
       "       [5],\n",
       "       [3]])"
      ]
     },
     "execution_count": 50,
     "metadata": {},
     "output_type": "execute_result"
    }
   ],
   "source": [
    "A[:,[-1]]"
   ]
  },
  {
   "cell_type": "code",
   "execution_count": 54,
   "id": "078f2e49-412c-4506-afc8-35eb759f41d5",
   "metadata": {},
   "outputs": [
    {
     "data": {
      "text/plain": [
       "<Axes: >"
      ]
     },
     "execution_count": 54,
     "metadata": {},
     "output_type": "execute_result"
    },
    {
     "data": {
      "image/png": "[encoded data removed]",
      "text/plain": [
       "<Figure size 640x480 with 1 Axes>"
      ]
     },
     "metadata": {},
     "output_type": "display_data"
    }
   ],
   "source": [
    "sns.heatmap(A[:,[-1]], cmap = 'RdYlBu_r', square = True, \n",
    "            cbar = False, annot = True, vmin = 0, vmax = 9,\n",
    "            linecolor = 'w', linewidths = 0.25)"
   ]
  },
  {
   "cell_type": "code",
   "execution_count": 56,
   "id": "1ba3c021-72cf-4594-a4c5-02c8a049e364",
   "metadata": {},
   "outputs": [
    {
     "data": {
      "text/plain": [
       "<Axes: >"
      ]
     },
     "execution_count": 56,
     "metadata": {},
     "output_type": "execute_result"
    },
    {
     "data": {
      "image/png": "[encoded data removed]",
      "text/plain": [
       "<Figure size 640x480 with 1 Axes>"
      ]
     },
     "metadata": {},
     "output_type": "display_data"
    }
   ],
   "source": [
    "sns.heatmap(A[:,[0]].T, cmap = 'RdYlBu_r', square = True, \n",
    "            cbar = False, annot = True, vmin = 0, vmax = 9,\n",
    "            linecolor = 'w', linewidths = 0.25)"
   ]
  },
  {
   "cell_type": "code",
   "execution_count": null,
   "id": "954b7525-dcef-47cb-af13-40c741ca3891",
   "metadata": {},
   "outputs": [],
   "source": []
  },
  {
   "cell_type": "markdown",
   "id": "070c3389-8048-43a3-baa7-6666009bce96",
   "metadata": {},
   "source": [
    "作者\t**生姜DrGinger**  \n",
    "脚本\t**生姜DrGinger**  \n",
    "视频\t**崔崔CuiCui**  \n",
    "开源资源\t[**GitHub**](https://github.com/Visualize-ML)  \n",
    "平台\t[**油管**](https://www.youtube.com/@DrGinger_Jiang)\t\t\n",
    "\t\t[**iris小课堂**](https://space.bilibili.com/3546865719052873)\t\t\n",
    "\t\t[**生姜DrGinger**](https://space.bilibili.com/513194466)  "
   ]
  }
 ],
 "metadata": {
  "kernelspec": {
   "display_name": "Python [conda env:base] *",
   "language": "python",
   "name": "conda-base-py"
  },
  "language_info": {
   "codemirror_mode": {
    "name": "ipython",
    "version": 3
   },
   "file_extension": ".py",
   "mimetype": "text/x-python",
   "name": "python",
   "nbconvert_exporter": "python",
   "pygments_lexer": "ipython3",
   "version": "3.12.7"
  }
 },
 "nbformat": 4,
 "nbformat_minor": 5
}
