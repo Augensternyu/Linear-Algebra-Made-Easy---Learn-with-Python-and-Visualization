{
 "cells": [
  {
   "cell_type": "markdown",
   "id": "2ccc9544-9e6a-4d90-bfc2-dfafc59809eb",
   "metadata": {},
   "source": [
    "Chapter 07\n",
    "\n",
    "# 可视化线性方程组\n",
    "《线性代数》 | 鸢尾花书：数学不难"
   ]
  },
  {
   "cell_type": "markdown",
   "id": "ee43e682-236f-4ff8-95da-1944cc9674d7",
   "metadata": {},
   "source": [
    "该代码的目的是**可视化**一个 **二维线性方程组** 的解集，即两条直线在平面上的交点。我们从数学角度分析代码的计算过程，并解释其核心思想。\n",
    "\n",
    "---\n",
    "\n",
    "## **数学建模**\n",
    "代码涉及一个线性方程组的几何表示。一般而言，**线性方程组**可以表示为：\n",
    "$$\n",
    "A \\mathbf{x} = \\mathbf{b}\n",
    "$$\n",
    "其中：\n",
    "$$\n",
    "A = \\begin{bmatrix} a_{11} & a_{12} \\\\ a_{21} & a_{22} \\end{bmatrix}, \\quad\n",
    "\\mathbf{x} = \\begin{bmatrix} x_1 \\\\ x_2 \\end{bmatrix}, \\quad\n",
    "\\mathbf{b} = \\begin{bmatrix} b_1 \\\\ b_2 \\end{bmatrix}\n",
    "$$\n",
    "\n",
    "展开后，即：\n",
    "$$\n",
    "\\begin{cases}\n",
    "a_{11} x_1 + a_{12} x_2 = b_1 \\\\\n",
    "a_{21} x_1 + a_{22} x_2 = b_2\n",
    "\\end{cases}\n",
    "$$\n",
    "\n",
    "这表示两条直线在二维平面上的方程。代码的作用是 **绘制这两条直线**，并观察它们的交点。\n",
    "\n",
    "---\n",
    "\n",
    "## **代码解析**\n",
    "### **1. 定义绘图范围**\n",
    "代码使用 `np.linspace(-4, 4, 400)` 定义变量 $x_1$ 和 $x_2$ 的取值范围，即在 $[-4,4]$ 之间均匀取 400 个点。然后，`np.meshgrid(x1, x2)` 生成一个 **网格点矩阵** $(xx_1, xx_2)$，用于计算方程的值。\n",
    "\n",
    "### **2. 计算两个方程的值**\n",
    "代码使用：\n",
    "$$\n",
    "zz_1 = a_{11} x_1 + a_{12} x_2 - b_1\n",
    "$$\n",
    "$$\n",
    "zz_2 = a_{21} x_1 + a_{22} x_2 - b_2\n",
    "$$\n",
    "\n",
    "来计算两个方程的等高值。等高值为 $0$ 的地方，即：\n",
    "$$\n",
    "a_{11} x_1 + a_{12} x_2 = b_1\n",
    "$$\n",
    "$$\n",
    "a_{21} x_1 + a_{22} x_2 = b_2\n",
    "$$\n",
    "就是直线的方程。\n",
    "\n",
    "### **3. 绘制等高线**\n",
    "代码使用 `plt.contour()` 绘制等高线：\n",
    "- **第一条直线（红色）：** $a_{11} x_1 + a_{12} x_2 = b_1$\n",
    "- **第二条直线（蓝色）：** $a_{21} x_1 + a_{22} x_2 = b_2$\n",
    "\n",
    "等高线 `levels=[0]` 表示绘制**值为 0 的等高线**，即原方程的解。\n",
    "\n",
    "---\n",
    "\n",
    "## **几何解释**\n",
    "### **交点的计算**\n",
    "若两条直线相交，即方程组有唯一解，则交点 $(x_1, x_2)$ 为：\n",
    "$$\n",
    "\\mathbf{x} = A^{-1} \\mathbf{b}\n",
    "$$\n",
    "其中：\n",
    "$$\n",
    "A^{-1} = \\frac{1}{\\det(A)} \\begin{bmatrix} a_{22} & -a_{12} \\\\ -a_{21} & a_{11} \\end{bmatrix}\n",
    "$$\n",
    "$$\n",
    "\\det(A) = a_{11} a_{22} - a_{12} a_{21}\n",
    "$$\n",
    "\n",
    "如果 $\\det(A) \\neq 0$，则交点唯一。如果 $\\det(A) = 0$，则可能**无解或无穷多解**。\n",
    "\n",
    "---\n",
    "\n",
    "## **示例：具体数值计算**\n",
    "在代码中，我们设定：\n",
    "$$\n",
    "A = \\begin{bmatrix} 1 & -1 \\\\ 3 & 3 \\end{bmatrix}, \\quad\n",
    "b = \\begin{bmatrix} 2 \\\\ 0 \\end{bmatrix}\n",
    "$$\n",
    "\n",
    "对应方程：\n",
    "$$\n",
    "\\begin{cases}\n",
    "x_1 - x_2 = 2 \\\\\n",
    "3x_1 + 3x_2 = 0\n",
    "\\end{cases}\n",
    "$$\n",
    "\n",
    "计算行列式：\n",
    "$$\n",
    "\\det(A) = (1)(3) - (-1)(3) = 3 + 3 = 6 \\neq 0\n",
    "$$\n",
    "\n",
    "因此，该方程组有**唯一解**。使用矩阵求解：\n",
    "$$\n",
    "A^{-1} = \\frac{1}{6} \\begin{bmatrix} 3 & 1 \\\\ -3 & 1 \\end{bmatrix}\n",
    "$$\n",
    "\n",
    "$$\n",
    "\\mathbf{x} = A^{-1} \\mathbf{b} = \\frac{1}{6} \\begin{bmatrix} 3 & 1 \\\\ -3 & 1 \\end{bmatrix} \\begin{bmatrix} 2 \\\\ 0 \\end{bmatrix}\n",
    "$$\n",
    "\n",
    "计算：\n",
    "$$\n",
    "x_1 = \\frac{3 \\times 2 + 1 \\times 0}{6} = \\frac{6}{6} = 1\n",
    "$$\n",
    "$$\n",
    "x_2 = \\frac{-3 \\times 2 + 1 \\times 0}{6} = \\frac{-6}{6} = -1\n",
    "$$\n",
    "\n",
    "即交点为：\n",
    "$$\n",
    "(x_1, x_2) = (1, -1)\n",
    "$$\n",
    "\n",
    "---\n",
    "\n",
    "## **可视化分析**\n",
    "1. **代码绘制了两条直线的等高线（红色和蓝色）。**\n",
    "2. **直线的交点即为方程组的解**，在图上可以清晰地看到。\n",
    "3. 如果两条直线**平行（无交点）或重合（无穷多交点）**，代码仍能正确绘制相应情况。\n",
    "\n",
    "---\n",
    "\n",
    "## **总结**\n",
    "该代码的核心目标是 **可视化一个线性方程组的几何解**，通过绘制方程的 **等高线** 来显示解集的结构：\n",
    "- **唯一解**：两条直线相交，交点即为解。\n",
    "- **无解**：两条直线平行，没有交点。\n",
    "- **无穷多解**：两条直线重合，存在无穷多个解。\n",
    "\n",
    "本质上，该代码利用 **数值网格计算和等高线绘制** 方法，把抽象的代数问题转化为 **直观的几何图像**，帮助理解线性方程组的解。"
   ]
  },
  {
   "cell_type": "markdown",
   "id": "00345798-17e8-47e2-9061-8452a3279fe1",
   "metadata": {},
   "source": [
    "## 初始化"
   ]
  },
  {
   "cell_type": "code",
   "execution_count": 3,
   "id": "3e9df289-61a2-4076-a39c-f085bdfbf9f5",
   "metadata": {},
   "outputs": [],
   "source": [
    "import numpy as np\n",
    "import matplotlib.pyplot as plt"
   ]
  },
  {
   "cell_type": "markdown",
   "id": "7fdcbc45-8927-4698-87b0-f303be8e8501",
   "metadata": {},
   "source": [
    "## 自定义函数求交点"
   ]
  },
  {
   "cell_type": "code",
   "execution_count": 18,
   "id": "2b9d7c11-a297-41e9-ac23-ad25f1e38e6c",
   "metadata": {},
   "outputs": [],
   "source": [
    "def intersect(a_11, a_12, b_1, a_21, a_22, b_2):\n",
    "    # 系数矩阵\n",
    "    A = np.array([[a_11, a_12], \n",
    "                  [a_21, a_22]])  \n",
    "    \n",
    "    # 常数列向量\n",
    "    b = np.array([b_1, b_2])  \n",
    "    \n",
    "    # 判断方程组是否有唯一解\n",
    "    if np.linalg.det(A) != 0:\n",
    "        x_intersection = np.linalg.solve(A, b)  # 计算交点\n",
    "        x1_intersect, x2_intersect = x_intersection[0], x_intersection[1]\n",
    "    else:\n",
    "        x1_intersect, x2_intersect = None, None  # 线性无关情况\n",
    "\n",
    "    return x1_intersect, x2_intersect"
   ]
  },
  {
   "cell_type": "markdown",
   "id": "aca43fc3-a231-4d46-ba77-5bd9d7c1b4ba",
   "metadata": {},
   "source": [
    "## 自定义可视化函数"
   ]
  },
  {
   "cell_type": "code",
   "execution_count": 22,
   "id": "f73c84eb-a322-4ead-bcd9-0469fa2d3217",
   "metadata": {},
   "outputs": [],
   "source": [
    "def visualize(a_11, a_12, b_1, a_21, a_22, b_2):\n",
    "    # 定义绘图范围\n",
    "    x1 = np.linspace(-4, 4, 400)  # x1 取值范围\n",
    "    x2 = np.linspace(-4, 4, 400)  # x2 取值范围\n",
    "    xx1, xx2 = np.meshgrid(x1, x2)  # 生成网格点\n",
    "    \n",
    "    # 计算两个方程的值\n",
    "    zz1 = a_11 * xx1 + a_12 * xx2 - b_1  # 第一条直线等高线值\n",
    "    zz2 = a_21 * xx1 + a_22 * xx2 - b_2  # 第二条直线等高线值\n",
    "    \n",
    "    # 绘制等高线\n",
    "    plt.figure(figsize=(5, 5))\n",
    "    \n",
    "    # 红色等高线\n",
    "    plt.contour(xx1, xx2, zz1, levels=[0], colors='red', \n",
    "                linewidths=2, linestyles='solid')  \n",
    "\n",
    "    # 蓝色等高线\n",
    "    plt.contour(xx1, xx2, zz2, levels=[0], colors='blue', \n",
    "                linewidths=2, linestyles='solid')  \n",
    "\n",
    "    # 计算交点\n",
    "    x1_intersect, x2_intersect = intersect(a_11, a_12, b_1, a_21, a_22, b_2)\n",
    "    \n",
    "    # 绘制交点\n",
    "    if x1_intersect is not None and x2_intersect is not None:\n",
    "        plt.scatter(x1_intersect, x2_intersect, color='black', \n",
    "                    marker='o', s=100, label='Intersection')  # 绘制交点\n",
    "    \n",
    "    # 图像装饰\n",
    "    plt.xlabel('$x_1$', fontsize=12)\n",
    "    plt.ylabel('$x_2$', fontsize=12)\n",
    "    plt.grid(True, linestyle='--', color = '0.8')\n",
    "    plt.axhline(0, color='black', linewidth=1)\n",
    "    plt.axvline(0, color='black', linewidth=1)\n",
    "    plt.gca().set_aspect('equal', adjustable='box')"
   ]
  },
  {
   "cell_type": "markdown",
   "id": "3b31485c-a8b7-4852-8879-02e23b427e59",
   "metadata": {},
   "source": [
    "## 定义参数"
   ]
  },
  {
   "cell_type": "code",
   "execution_count": 24,
   "id": "8f786c1e-c58c-4bda-ae4d-47073b728a63",
   "metadata": {},
   "outputs": [],
   "source": [
    "a_11, a_12, b_1 = 1, -1, 2  # 第一条直线的参数\n",
    "a_21, a_22, b_2 = 3, 3, 0   # 第二条直线的参数"
   ]
  },
  {
   "cell_type": "markdown",
   "id": "7d69e349-f6ba-4b08-bd69-d75809dcece0",
   "metadata": {},
   "source": [
    "## 可视化"
   ]
  },
  {
   "cell_type": "code",
   "execution_count": 26,
   "id": "6ac98293-2b55-427c-848e-f9505b94b5d4",
   "metadata": {},
   "outputs": [
    {
     "data": {
      "image/png": "[encoded data removed]",
      "text/plain": [
       "<Figure size 500x500 with 1 Axes>"
      ]
     },
     "metadata": {},
     "output_type": "display_data"
    }
   ],
   "source": [
    "visualize(a_11, a_12, b_1, a_21, a_22, b_2)"
   ]
  },
  {
   "cell_type": "code",
   "execution_count": null,
   "id": "e5039246-ccb4-42c1-ae00-60f6435ec6f7",
   "metadata": {},
   "outputs": [],
   "source": []
  },
  {
   "cell_type": "markdown",
   "id": "a27c574d-bcdd-44fa-a2e8-204e09fbdff2",
   "metadata": {},
   "source": [
    "作者\t**生姜DrGinger**  \n",
    "脚本\t**生姜DrGinger**  \n",
    "视频\t**崔崔CuiCui**  \n",
    "开源资源\t[**GitHub**](https://github.com/Visualize-ML)  \n",
    "平台\t[**油管**](https://www.youtube.com/@DrGinger_Jiang)\t\t\n",
    "\t\t[**iris小课堂**](https://space.bilibili.com/3546865719052873)\t\t\n",
    "\t\t[**生姜DrGinger**](https://space.bilibili.com/513194466)  "
   ]
  }
 ],
 "metadata": {
  "kernelspec": {
   "display_name": "Python [conda env:base] *",
   "language": "python",
   "name": "conda-base-py"
  },
  "language_info": {
   "codemirror_mode": {
    "name": "ipython",
    "version": 3
   },
   "file_extension": ".py",
   "mimetype": "text/x-python",
   "name": "python",
   "nbconvert_exporter": "python",
   "pygments_lexer": "ipython3",
   "version": "3.12.7"
  }
 },
 "nbformat": 4,
 "nbformat_minor": 5
}
