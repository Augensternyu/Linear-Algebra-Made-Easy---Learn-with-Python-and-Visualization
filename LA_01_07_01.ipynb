{
 "cells": [
  {
   "cell_type": "markdown",
   "id": "f04dd603-a2d1-48ce-8c17-9f1dba8de1ee",
   "metadata": {},
   "source": [
    "Chapter 01\n",
    "\n",
    "# 标量投影\n",
    "《线性代数》 | 鸢尾花书：数学不难"
   ]
  },
  {
   "cell_type": "markdown",
   "id": "ccafb456-2453-4c82-8a65-b1963a370cb2",
   "metadata": {},
   "source": [
    "该代码的数学本质是计算向量之间的点积、模长以及标量投影，以理解向量之间的投影关系。具体分析如下：\n",
    "\n",
    "### **1. 点积计算**\n",
    "点积（内积）定义为：\n",
    "$$\n",
    "\\mathbf{a} \\cdot \\mathbf{b} = \\sum_{i=1}^{n} a_i b_i\n",
    "$$\n",
    "也可以用几何定义：\n",
    "$$\n",
    "\\mathbf{a} \\cdot \\mathbf{b} = \\|\\mathbf{a}\\| \\|\\mathbf{b}\\| \\cos\\theta\n",
    "$$\n",
    "其中$\\theta$是两个向量之间的夹角。\n",
    "\n",
    "代码中，定义了两个向量：\n",
    "$$\n",
    "\\mathbf{a} = \\begin{bmatrix} 3 \\\\ 4 \\end{bmatrix}, \\quad \\mathbf{e}_1 = \\begin{bmatrix} 1 \\\\ 0 \\end{bmatrix}\n",
    "$$\n",
    "计算点积：\n",
    "$$\n",
    "\\mathbf{a} \\cdot \\mathbf{e}_1 = (3 \\times 1) + (4 \\times 0) = 3\n",
    "$$\n",
    "$$\n",
    "\\mathbf{e}_1 \\cdot \\mathbf{a} = (1 \\times 3) + (0 \\times 4) = 3\n",
    "$$\n",
    "由于点积满足交换律，即$\\mathbf{a} \\cdot \\mathbf{b} = \\mathbf{b} \\cdot \\mathbf{a}$，所以结果相同。\n",
    "\n",
    "### **2. 计算模长**\n",
    "向量的模（欧几里得范数）定义为：\n",
    "$$\n",
    "\\|\\mathbf{a}\\| = \\sqrt{\\sum_{i=1}^{n} a_i^2}\n",
    "$$\n",
    "计算$\\mathbf{a}$的模：\n",
    "$$\n",
    "\\|\\mathbf{a}\\| = \\sqrt{3^2 + 4^2} = \\sqrt{9 + 16} = \\sqrt{25} = 5\n",
    "$$\n",
    "计算$\\mathbf{e}_1$的模：\n",
    "$$\n",
    "\\|\\mathbf{e}_1\\| = \\sqrt{1^2 + 0^2} = \\sqrt{1} = 1\n",
    "$$\n",
    "\n",
    "### **3. 计算标量投影**\n",
    "向量$\\mathbf{a}$在$\\mathbf{e}_1$上的标量投影定义为：\n",
    "$$\n",
    "\\text{scalar-proj}_{\\mathbf{e}_1} \\mathbf{a} = \\frac{\\mathbf{a} \\cdot \\mathbf{e}_1}{\\|\\mathbf{e}_1\\|}\n",
    "$$\n",
    "代入计算：\n",
    "$$\n",
    "\\text{scalar-proj}_{\\mathbf{e}_1} \\mathbf{a} = \\frac{3}{1} = 3\n",
    "$$\n",
    "向量$\\mathbf{e}_1$在$\\mathbf{a}$上的标量投影定义为：\n",
    "$$\n",
    "\\text{scalar-proj}_{\\mathbf{a}} \\mathbf{e}_1 = \\frac{\\mathbf{e}_1 \\cdot \\mathbf{a}}{\\|\\mathbf{a}\\|}\n",
    "$$\n",
    "代入计算：\n",
    "$$\n",
    "\\text{scalar-proj}_{\\mathbf{a}} \\mathbf{e}_1 = \\frac{3}{5} = 0.6\n",
    "$$\n",
    "\n",
    "### **4. 结论**\n",
    "- 向量$\\mathbf{a}$在$\\mathbf{e}_1$上的投影长度为$3$，表示$\\mathbf{a}$在$x$轴上的分量。\n",
    "- 向量$\\mathbf{e}_1$在$\\mathbf{a}$上的投影长度为$0.6$，表示单位向量$\\mathbf{e}_1$相对于$\\mathbf{a}$的贡献比例。\n",
    "- 由于$\\mathbf{e}_1$是标准基向量$(1,0)$，它的投影直接取决于向量$\\mathbf{a}$的$x$分量。\n",
    "\n",
    "该代码的核心思想是利用点积和范数计算投影，从而解析向量在不同方向上的分量。"
   ]
  },
  {
   "cell_type": "markdown",
   "id": "3d8e7c62-8f8c-472c-9ec8-7668dffcfb88",
   "metadata": {},
   "source": [
    "## 初始化"
   ]
  },
  {
   "cell_type": "code",
   "execution_count": null,
   "id": "6032b9c2-b75c-4c64-a4dd-186fdaec8e3a",
   "metadata": {},
   "outputs": [],
   "source": [
    "import numpy as np"
   ]
  },
  {
   "cell_type": "markdown",
   "id": "4ffc4a51-ef9a-49d3-abf4-cceb1f068b83",
   "metadata": {},
   "source": [
    "## 定义向量"
   ]
  },
  {
   "cell_type": "code",
   "execution_count": null,
   "id": "90f57a76-5910-4ef7-916c-2e0e9a195443",
   "metadata": {},
   "outputs": [],
   "source": [
    "a = np.array([3, 4])\n",
    "e1 = np.array([1, 0])"
   ]
  },
  {
   "cell_type": "markdown",
   "id": "78eca474-e4bb-4997-97e9-d7b5103eaa17",
   "metadata": {},
   "source": [
    "## 计算点积"
   ]
  },
  {
   "cell_type": "code",
   "execution_count": null,
   "id": "f6a27f63-5aa0-4eea-af0a-e61bc9ba921b",
   "metadata": {},
   "outputs": [],
   "source": [
    "dot_a_e1 = np.dot(a, e1)\n",
    "dot_a_e1"
   ]
  },
  {
   "cell_type": "code",
   "execution_count": null,
   "id": "c431d449-36d1-484c-a592-f8968da55aac",
   "metadata": {},
   "outputs": [],
   "source": [
    "dot_e1_a = np.dot(e1, a)\n",
    "dot_e1_a"
   ]
  },
  {
   "cell_type": "markdown",
   "id": "361cdced-92c8-4e26-a92b-87295cb82752",
   "metadata": {},
   "source": [
    "## 计算向量模长"
   ]
  },
  {
   "cell_type": "code",
   "execution_count": null,
   "id": "03094efa-37b6-4e38-baae-be93934e74d2",
   "metadata": {},
   "outputs": [],
   "source": [
    "norm_a = np.linalg.norm(a)\n",
    "norm_a"
   ]
  },
  {
   "cell_type": "code",
   "execution_count": null,
   "id": "35a19617-11cd-405e-9656-72375367dc74",
   "metadata": {},
   "outputs": [],
   "source": [
    "norm_e1 = np.linalg.norm(e1)\n",
    "norm_e1"
   ]
  },
  {
   "cell_type": "markdown",
   "id": "40f1b863-4be0-494d-bb42-ee6e5f5f2d83",
   "metadata": {},
   "source": [
    "## 计算标量投影"
   ]
  },
  {
   "cell_type": "code",
   "execution_count": null,
   "id": "054e6463-d9e8-4292-91f0-276a597f9790",
   "metadata": {},
   "outputs": [],
   "source": [
    "scalar_proj_a_on_e1 = dot_a_e1 / norm_e1  # a 在 e1 上的投影\n",
    "scalar_proj_a_on_e1"
   ]
  },
  {
   "cell_type": "code",
   "execution_count": null,
   "id": "b06967e2-f8d9-4239-a18a-4781173055ed",
   "metadata": {},
   "outputs": [],
   "source": [
    "scalar_proj_e1_on_a = dot_e1_a / norm_a  # e1 在 a 上的投影\n",
    "scalar_proj_e1_on_a"
   ]
  },
  {
   "cell_type": "markdown",
   "id": "fbb0e249-5bd3-4471-b6e6-12696c8a06bc",
   "metadata": {},
   "source": [
    "作者\t**生姜DrGinger**  \n",
    "脚本\t**生姜DrGinger**  \n",
    "视频\t**崔崔CuiCui**  \n",
    "开源资源\t[**GitHub**](https://github.com/Visualize-ML)  \n",
    "平台\t[**油管**](https://www.youtube.com/@DrGinger_Jiang)\t\t\n",
    "\t\t[**iris小课堂**](https://space.bilibili.com/3546865719052873)\t\t\n",
    "\t\t[**生姜DrGinger**](https://space.bilibili.com/513194466)  "
   ]
  }
 ],
 "metadata": {
  "kernelspec": {
   "display_name": "Python [conda env:base] *",
   "language": "python",
   "name": "conda-base-py"
  },
  "language_info": {
   "codemirror_mode": {
    "name": "ipython",
    "version": 3
   },
   "file_extension": ".py",
   "mimetype": "text/x-python",
   "name": "python",
   "nbconvert_exporter": "python",
   "pygments_lexer": "ipython3",
   "version": "3.12.7"
  }
 },
 "nbformat": 4,
 "nbformat_minor": 5
}
