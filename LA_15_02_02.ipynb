{
 "cells": [
  {
   "cell_type": "markdown",
   "id": "233b203a-1a75-4e1f-a022-ad3523989552",
   "metadata": {},
   "source": [
    "Chapter 15\n",
    "\n",
    "# 从邻接矩阵到有向图\n",
    "《线性代数》 | 鸢尾花书：数学不难"
   ]
  },
  {
   "cell_type": "markdown",
   "id": "7c0aa49d-7fbc-47e4-a4a9-c1abe77fed6f",
   "metadata": {},
   "source": [
    "这段代码从数学角度出发，完整展示了如何利用一个邻接矩阵构造一个有向图（Directed Graph），并进行可视化和矩阵抽取。在此过程中，它隐含了对图结构 $G = (V, E)$ 的建模，其中 $V$ 是节点集合，$E$ 是有向边的集合。下面详细从数学视角展开说明。\n",
    "\n",
    "---\n",
    "\n",
    "首先，代码中手动定义了一个 $4 \\times 4$ 的邻接矩阵：\n",
    "\n",
    "$$\n",
    "A = \\begin{bmatrix}\n",
    "0 & 1 & 1 & 0 \\\\\n",
    "1 & 0 & 1 & 0 \\\\\n",
    "0 & 0 & 0 & 1 \\\\\n",
    "1 & 0 & 1 & 0 \\\\\n",
    "\\end{bmatrix}\n",
    "$$\n",
    "\n",
    "这个矩阵是一个**非对称矩阵**，即 $A \\ne A^\\top$，说明所表示的是一个**有向图（Directed Graph）**。矩阵 $A_{ij} = 1$ 表示存在一条从节点 $i$ 指向节点 $j$ 的边。比如 $A_{0,1} = 1$ 意味着从节点 0 指向节点 1 有一条边；$A_{1,0} = 1$ 则表示它是互相连通的，但并不表示所有边都成对出现。\n",
    "\n",
    "我们可以把这个邻接矩阵看作一个从集合 $\\{0, 1, 2, 3\\}$ 到自己映射的函数 $A: V \\times V \\to \\{0,1\\}$，定义每对节点是否存在有向边。\n",
    "\n",
    "---\n",
    "\n",
    "接下来，用 `nx.DiGraph(adjacency_matrix)` 创建了一个有向图对象。此时，图的边集合 $E$ 就由矩阵 $A$ 的非零元素定义：\n",
    "\n",
    "$E = \\{ (i, j) \\mid A_{ij} = 1 \\}$。\n",
    "\n",
    "然后用映射字典将节点 $0, 1, 2, 3$ 分别重命名为 `'a', 'b', 'c', 'd'`，这相当于给图的每个顶点赋予更直观的标签。也就是说，原本的节点 $0$ 被标记为 `'a'`，以此类推。\n",
    "\n",
    "---\n",
    "\n",
    "节点的布局位置由一个字典 `pos` 定义，明确指定了每个节点在二维平面上的位置，这与数学上常见的图嵌入（Graph Embedding）思想类似：我们把离散结构嵌入到二维欧几里得空间中便于观察。\n",
    "\n",
    "随后调用 `nx.draw_networkx()` 进行可视化。每个节点都被绘制在平面上，它们之间的有向边用箭头或连接线显示出方向，从而清晰表达出邻接关系。\n",
    "\n",
    "---\n",
    "\n",
    "最后，调用 `nx.adjacency_matrix(directed_G).toarray()` 将图的邻接结构重新转换为 NumPy 数组形式的矩阵 $A$，这一步本质上是把图从结构对象重新映射为代数对象，即从图 $G$ 恢复邻接矩阵 $A$：\n",
    "\n",
    "$$\n",
    "A_{ij} = \\begin{cases}\n",
    "1, & \\text{如果存在一条从节点 } i \\text{ 到节点 } j \\text{ 的边} \\\\\n",
    "0, & \\text{否则}\n",
    "\\end{cases}\n",
    "$$\n",
    "\n",
    "这使我们可以对图进行代数分析，比如求特征值分解、计算图谱、拉普拉斯矩阵、传播路径等，建立从图论结构到线性代数操作的桥梁。\n",
    "\n",
    "---\n",
    "\n",
    "总结一句话：  \n",
    "> 这段代码以邻接矩阵为出发点，构造了一个有向图，通过可视化展现其结构，并重新提取邻接矩阵以便后续代数处理，从而实现图论与矩阵代数之间的互通。"
   ]
  },
  {
   "cell_type": "markdown",
   "id": "19e5bd7e-bd17-482e-be3e-000b596a09d0",
   "metadata": {},
   "source": [
    "## 初始化"
   ]
  },
  {
   "cell_type": "code",
   "execution_count": 3,
   "id": "7d7c462a-c294-4f88-a4a7-6be0b6aecf17",
   "metadata": {},
   "outputs": [],
   "source": [
    "import matplotlib.pyplot as plt\n",
    "import networkx as nx\n",
    "import numpy as np"
   ]
  },
  {
   "cell_type": "markdown",
   "id": "633d0f38-8b87-42ca-abc0-e738d80a67cc",
   "metadata": {},
   "source": [
    "## 定义邻接矩阵"
   ]
  },
  {
   "cell_type": "code",
   "execution_count": 4,
   "id": "e53aa32b-f827-44a3-bba3-3927279c3615",
   "metadata": {},
   "outputs": [],
   "source": [
    "adjacency_matrix = np.array([[0, 1, 1, 0],\n",
    "                             [1, 0, 1, 0],\n",
    "                             [0, 0, 0, 1],\n",
    "                             [1, 0, 1, 0]])"
   ]
  },
  {
   "cell_type": "markdown",
   "id": "0f0820c2-fda1-4f4b-9cbf-e520ac9fa465",
   "metadata": {},
   "source": [
    "## 创建有向图"
   ]
  },
  {
   "cell_type": "code",
   "execution_count": 7,
   "id": "52fd8065-1144-4886-afe3-840e57de0ee0",
   "metadata": {},
   "outputs": [],
   "source": [
    "directed_G = nx.DiGraph(adjacency_matrix, nodetype=int)\n",
    "# 用邻接矩阵创建无向图\n",
    "\n",
    "# 构造节点映射\n",
    "mapping = {0: 'a', 1: 'b', 2: 'c', 3: 'd'}\n",
    "\n",
    "# 重命名节点\n",
    "directed_G = nx.relabel_nodes(directed_G, mapping)"
   ]
  },
  {
   "cell_type": "markdown",
   "id": "74501c72-2205-46cc-8ddb-8abe91e32e31",
   "metadata": {},
   "source": [
    "## 定义节点坐标"
   ]
  },
  {
   "cell_type": "code",
   "execution_count": 9,
   "id": "a62cc18d-eb71-4490-8dc0-2731ada91042",
   "metadata": {},
   "outputs": [],
   "source": [
    "pos = {'a':[0, 0], \n",
    "       'b':[1, 0],\n",
    "       'c':[1, 1],\n",
    "       'd':[0, 1]}"
   ]
  },
  {
   "cell_type": "markdown",
   "id": "9ba47ad7-2bd9-4660-b4af-7d395276aad1",
   "metadata": {},
   "source": [
    "## 可视化"
   ]
  },
  {
   "cell_type": "code",
   "execution_count": 11,
   "id": "ced4448e-0ef3-496a-b3d5-9ed907c7c713",
   "metadata": {},
   "outputs": [
    {
     "data": {
      "image/png": "[encoded data removed]",
      "text/plain": [
       "<Figure size 600x600 with 1 Axes>"
      ]
     },
     "metadata": {},
     "output_type": "display_data"
    }
   ],
   "source": [
    "plt.figure(figsize = (6,6))\n",
    "nx.draw_networkx(directed_G, pos = pos, node_size = 188, with_labels=True)"
   ]
  },
  {
   "cell_type": "markdown",
   "id": "32a7f1da-9503-4634-ae7b-ec982967cc9b",
   "metadata": {},
   "source": [
    "## 邻接矩阵"
   ]
  },
  {
   "cell_type": "code",
   "execution_count": 15,
   "id": "52210193-96bb-4b37-b0fa-13c8dd17ecad",
   "metadata": {},
   "outputs": [
    {
     "data": {
      "text/plain": [
       "array([[0, 1, 1, 0],\n",
       "       [1, 0, 1, 0],\n",
       "       [0, 0, 0, 1],\n",
       "       [1, 0, 1, 0]])"
      ]
     },
     "execution_count": 15,
     "metadata": {},
     "output_type": "execute_result"
    }
   ],
   "source": [
    "A = nx.adjacency_matrix(directed_G).toarray()\n",
    "A"
   ]
  },
  {
   "cell_type": "markdown",
   "id": "07008496-14ff-4e92-8056-e424174dacb8",
   "metadata": {},
   "source": [
    "作者\t**生姜DrGinger**  \n",
    "脚本\t**生姜DrGinger**  \n",
    "视频\t**崔崔CuiCui**  \n",
    "开源资源\t[**GitHub**](https://github.com/Visualize-ML)  \n",
    "平台\t[**油管**](https://www.youtube.com/@DrGinger_Jiang)\t\t\n",
    "\t\t[**iris小课堂**](https://space.bilibili.com/3546865719052873)\t\t\n",
    "\t\t[**生姜DrGinger**](https://space.bilibili.com/513194466)  "
   ]
  }
 ],
 "metadata": {
  "kernelspec": {
   "display_name": "Python [conda env:base] *",
   "language": "python",
   "name": "conda-base-py"
  },
  "language_info": {
   "codemirror_mode": {
    "name": "ipython",
    "version": 3
   },
   "file_extension": ".py",
   "mimetype": "text/x-python",
   "name": "python",
   "nbconvert_exporter": "python",
   "pygments_lexer": "ipython3",
   "version": "3.12.7"
  }
 },
 "nbformat": 4,
 "nbformat_minor": 5
}
