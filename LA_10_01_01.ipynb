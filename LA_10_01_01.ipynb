{
 "cells": [
  {
   "cell_type": "markdown",
   "id": "f04dd603-a2d1-48ce-8c17-9f1dba8de1ee",
   "metadata": {},
   "source": [
    "Chapter 10\n",
    "\n",
    "# 一元线性回归\n",
    "《线性代数》 | 鸢尾花书：数学不难"
   ]
  },
  {
   "cell_type": "markdown",
   "id": "ccafb456-2453-4c82-8a65-b1963a370cb2",
   "metadata": {},
   "source": [
    "这段代码实现了**一元线性回归（Ordinary Least Squares, OLS）** 的完整过程，从数学角度，它展示了如何通过最小化误差平方和来拟合一条直线。\n",
    "\n",
    "---\n",
    "\n",
    "### 一、建模目标与模型形式\n",
    "\n",
    "我们假设数据集包含 $n$ 个样本点，每个样本点包括一个自变量 $x_i$ 和一个因变量 $y_i$，回归目标是拟合如下形式的线性函数：\n",
    "\n",
    "$$\n",
    "\\hat{y} = b_0 + b_1 x\n",
    "$$\n",
    "\n",
    "这个表达式也可以写成矩阵形式：\n",
    "\n",
    "$$\n",
    "\\hat{\\boldsymbol{y}} = X \\boldsymbol{b}\n",
    "$$\n",
    "\n",
    "其中：\n",
    "\n",
    "- $X \\in \\mathbb{R}^{n \\times 2}$ 是**设计矩阵**，每行是一个样本的输入特征，第一列为全1（对应截距项 $b_0$），第二列为自变量 $x$；\n",
    "- $\\boldsymbol{b} \\in \\mathbb{R}^{2 \\times 1}$ 是回归参数列向量，包含截距 $b_0$ 和斜率 $b_1$；\n",
    "- $\\hat{\\boldsymbol{y}}$ 是对观测值 $\\boldsymbol{y}$ 的预测值。\n",
    "\n",
    "---\n",
    "\n",
    "### 二、最小二乘解的推导\n",
    "\n",
    "最小二乘法的目标是最小化预测值和真实值之间的残差平方和：\n",
    "\n",
    "$$\n",
    "\\min_{\\boldsymbol{b}} \\|\\boldsymbol{y} - X \\boldsymbol{b}\\|_2^2\n",
    "$$\n",
    "\n",
    "通过求导并令导数为零，可得正规方程（normal equation）：\n",
    "\n",
    "$$\n",
    "X^\\top X \\boldsymbol{b} = X^\\top \\boldsymbol{y}\n",
    "$$\n",
    "\n",
    "从而得到回归系数的封闭解：\n",
    "\n",
    "$$\n",
    "\\boldsymbol{b} = (X^\\top X)^{-1} X^\\top \\boldsymbol{y}\n",
    "$$\n",
    "\n",
    "这就是代码中这句所实现的操作：\n",
    "\n",
    "```python\n",
    "b = np.linalg.inv(X.T @ X) @ X.T @ y\n",
    "```\n",
    "\n",
    "---\n",
    "\n",
    "### 三、格拉姆矩阵与其逆\n",
    "\n",
    "表达式 $X^\\top X$ 是**格拉姆矩阵（Gram Matrix）**，在一元线性回归中，它是一个 $2 \\times 2$ 对称正定矩阵。它的形式为：\n",
    "\n",
    "$$\n",
    "X^\\top X = \n",
    "\\begin{bmatrix}\n",
    "n & \\sum x_i \\\\\n",
    "\\sum x_i & \\sum x_i^2\n",
    "\\end{bmatrix}\n",
    "$$\n",
    "\n",
    "这个矩阵反映了输入特征之间的内积关系，其逆矩阵 $(X^\\top X)^{-1}$ 被用于求解最小二乘解。\n",
    "\n",
    "---\n",
    "\n",
    "### 四、预测与误差分析\n",
    "\n",
    "计算预测值的操作：\n",
    "\n",
    "$$\n",
    "\\hat{\\boldsymbol{y}} = X \\boldsymbol{b}\n",
    "$$\n",
    "\n",
    "用于训练数据的预测是：\n",
    "\n",
    "```python\n",
    "y_pred = X @ b\n",
    "```\n",
    "\n",
    "而对新的输入区间（如 0 到 10）生成预测曲线：\n",
    "\n",
    "```python\n",
    "y_array_pred = X_array @ b\n",
    "```\n",
    "\n",
    "其中 `X_array` 是将新输入值添加全1列后的新设计矩阵。\n",
    "\n",
    "接着计算训练集上的误差向量：\n",
    "\n",
    "$$\n",
    "\\boldsymbol{e} = \\boldsymbol{y} - \\hat{\\boldsymbol{y}}\n",
    "$$\n",
    "\n",
    "代码为：\n",
    "\n",
    "```python\n",
    "error = y - y_pred\n",
    "```\n",
    "\n",
    "误差的平方和：\n",
    "\n",
    "$$\n",
    "\\|\\boldsymbol{e}\\|_2^2 = \\boldsymbol{e}^\\top \\boldsymbol{e}\n",
    "$$\n",
    "\n",
    "这就是线性回归的损失函数（Residual Sum of Squares, RSS），也就是最小化的目标函数。\n",
    "\n",
    "---\n",
    "\n",
    "### 总结：\n",
    "\n",
    "这段代码实现了以下数学过程：\n",
    "\n",
    "1. 构造设计矩阵 $X$；\n",
    "2. 根据正规方程计算最小二乘解 $\\boldsymbol{b}$；\n",
    "3. 利用 $\\boldsymbol{b}$ 生成预测值 $\\hat{\\boldsymbol{y}}$；\n",
    "4. 计算误差向量 $\\boldsymbol{e} = \\boldsymbol{y} - \\hat{\\boldsymbol{y}}$；\n",
    "5. 计算误差的 $L^2$ 范数平方 $\\|\\boldsymbol{e}\\|_2^2$，用于评估拟合质量。"
   ]
  },
  {
   "cell_type": "markdown",
   "id": "b10e2dd4-a360-422c-b3f2-9145284e6b34",
   "metadata": {},
   "source": [
    "## 初始化"
   ]
  },
  {
   "cell_type": "code",
   "execution_count": 4,
   "id": "d530bc5e-a5b5-41cf-92e4-461541be8fc2",
   "metadata": {},
   "outputs": [],
   "source": [
    "import numpy as np\n",
    "import matplotlib.pyplot as plt"
   ]
  },
  {
   "cell_type": "markdown",
   "id": "efcab4d0-b10e-4767-abbd-e4e4002fc2fe",
   "metadata": {},
   "source": [
    "## 数据"
   ]
  },
  {
   "cell_type": "code",
   "execution_count": 6,
   "id": "fe901b32-f312-4a76-8a04-e5414c9adb89",
   "metadata": {},
   "outputs": [],
   "source": [
    "x = np.array([1,2,3,5,6,7,8,9]).reshape(-1,1)   # 自变量 x\n",
    "y = np.array([3,1,4,6,5,8,7,8]).reshape(-1,1)   # 因变量 y"
   ]
  },
  {
   "cell_type": "code",
   "execution_count": 7,
   "id": "7cf1c88f-2a8a-4383-98df-be1ea1b311df",
   "metadata": {},
   "outputs": [],
   "source": [
    "# 构造设计矩阵，增加全1列向量\n",
    "X = np.column_stack((np.ones_like(x), x))"
   ]
  },
  {
   "cell_type": "markdown",
   "id": "9c85ae8d-c6be-4e86-a658-060b73ec6ced",
   "metadata": {},
   "source": [
    "## 计算参数"
   ]
  },
  {
   "cell_type": "code",
   "execution_count": 9,
   "id": "b0c66c95-c5b5-4b5b-a83c-90abf6b0f041",
   "metadata": {},
   "outputs": [
    {
     "data": {
      "text/plain": [
       "array([[1.26751592],\n",
       "       [0.77707006]])"
      ]
     },
     "execution_count": 9,
     "metadata": {},
     "output_type": "execute_result"
    }
   ],
   "source": [
    "b = np.linalg.inv(X.T @ X) @ X.T @ y\n",
    "b"
   ]
  },
  {
   "cell_type": "code",
   "execution_count": 10,
   "id": "c154f5ea-0d03-4835-9ff4-b08ef70ae13c",
   "metadata": {},
   "outputs": [
    {
     "data": {
      "text/plain": [
       "array([[  8,  41],\n",
       "       [ 41, 269]])"
      ]
     },
     "execution_count": 10,
     "metadata": {},
     "output_type": "execute_result"
    }
   ],
   "source": [
    "# 格拉姆矩阵\n",
    "X.T @ X"
   ]
  },
  {
   "cell_type": "code",
   "execution_count": 11,
   "id": "57f86420-21a2-4310-855e-cd427613255b",
   "metadata": {},
   "outputs": [
    {
     "data": {
      "text/plain": [
       "array([[ 0.57112527, -0.08704883],\n",
       "       [-0.08704883,  0.01698514]])"
      ]
     },
     "execution_count": 11,
     "metadata": {},
     "output_type": "execute_result"
    }
   ],
   "source": [
    "# 格拉姆矩阵的逆\n",
    "np.linalg.inv(X.T @ X)"
   ]
  },
  {
   "cell_type": "code",
   "execution_count": 12,
   "id": "247f789c-6dd6-42e7-9ef4-7afee9277169",
   "metadata": {},
   "outputs": [
    {
     "data": {
      "text/plain": [
       "array([[ 42],\n",
       "       [261]])"
      ]
     },
     "execution_count": 12,
     "metadata": {},
     "output_type": "execute_result"
    }
   ],
   "source": [
    "X.T @ y"
   ]
  },
  {
   "cell_type": "markdown",
   "id": "6c6a7431-1c23-47c2-9f07-895bddf00d75",
   "metadata": {},
   "source": [
    "## 计算预测值"
   ]
  },
  {
   "cell_type": "code",
   "execution_count": 14,
   "id": "46a9fb1f-f66f-4795-8161-3bd7229e36c7",
   "metadata": {},
   "outputs": [],
   "source": [
    "x_array = np.linspace(0,10)\n",
    "X_array = np.column_stack((np.ones_like(x_array), x_array))\n",
    "\n",
    "y_array_pred = X_array @ b\n",
    "y_pred = X @ b"
   ]
  },
  {
   "cell_type": "markdown",
   "id": "80d7395d-2da7-43cd-a3c7-74f2d4d17362",
   "metadata": {},
   "source": [
    "## 误差向量"
   ]
  },
  {
   "cell_type": "code",
   "execution_count": null,
   "id": "86f51b77-13a8-4a28-89a5-89ffc76145b4",
   "metadata": {},
   "outputs": [
    {
     "data": {
      "text/plain": [
       "array([[ 0.95541401],\n",
       "       [-1.82165605],\n",
       "       [ 0.40127389],\n",
       "       [ 0.84713376],\n",
       "       [-0.92993631],\n",
       "       [ 1.29299363],\n",
       "       [-0.48407643],\n",
       "       [-0.2611465 ]])"
      ]
     },
     "execution_count": 15,
     "metadata": {},
     "output_type": "execute_result"
    }
   ],
   "source": [
    "error = y - y_pred\n",
    "error"
   ]
  },
  {
   "cell_type": "code",
   "execution_count": 16,
   "id": "0cb11d77-c59c-43b8-a7f1-f88192dd425d",
   "metadata": {},
   "outputs": [
    {
     "data": {
      "text/plain": [
       "array([[7.94904459]])"
      ]
     },
     "execution_count": 16,
     "metadata": {},
     "output_type": "execute_result"
    }
   ],
   "source": [
    "# 误差向量的L2范数的平方\n",
    "error.T @ error"
   ]
  },
  {
   "cell_type": "markdown",
   "id": "caa7e150-6d25-4b39-b5f4-b634d9a76137",
   "metadata": {},
   "source": [
    "## 可视化"
   ]
  },
  {
   "cell_type": "code",
   "execution_count": 30,
   "id": "c075e159-2d17-4be0-a98e-47053781e78b",
   "metadata": {},
   "outputs": [
    {
     "data": {
      "image/png": "[encoded data removed]",
      "text/plain": [
       "<Figure size 500x500 with 1 Axes>"
      ]
     },
     "metadata": {},
     "output_type": "display_data"
    }
   ],
   "source": [
    "fig, ax = plt.subplots(figsize=(5,5))\n",
    "\n",
    "# 绘制样本数据\n",
    "ax.scatter(x, y, marker = 'x', color = 'b')\n",
    "\n",
    "# 绘制回归直线\n",
    "ax.plot(x_array, y_array_pred, color='r')\n",
    "\n",
    "# 绘制预测值\n",
    "ax.scatter(x, y_pred, marker = 'x', color='r')\n",
    "\n",
    "# 绘制误差\n",
    "ax.plot(([i for i in x.squeeze()], [i for i in x.squeeze()]),\n",
    "        ([j for j in y_pred.squeeze()], [j for j in y.squeeze()]),\n",
    "         c='#FFC000', alpha = 0.5)\n",
    "\n",
    "# 装饰\n",
    "ax.set_xlabel('x')\n",
    "ax.set_ylabel('y')\n",
    "ax.set_xlim(0,10)\n",
    "ax.set_ylim(0,10)\n",
    "ax.set_xticks(np.arange(11))\n",
    "ax.set_yticks(np.arange(11))\n",
    "ax.grid(True, c = '0.8')\n",
    "ax.set_aspect('equal', 'box')"
   ]
  },
  {
   "cell_type": "markdown",
   "id": "070c3389-8048-43a3-baa7-6666009bce96",
   "metadata": {},
   "source": [
    "作者\t**生姜DrGinger**  \n",
    "脚本\t**生姜DrGinger**  \n",
    "视频\t**崔崔CuiCui**  \n",
    "开源资源\t[**GitHub**](https://github.com/Visualize-ML)  \n",
    "平台\t[**油管**](https://www.youtube.com/@DrGinger_Jiang)\t\t\n",
    "\t\t[**iris小课堂**](https://space.bilibili.com/3546865719052873)\t\t\n",
    "\t\t[**生姜DrGinger**](https://space.bilibili.com/513194466)  "
   ]
  }
 ],
 "metadata": {
  "kernelspec": {
   "display_name": "Python [conda env:base] *",
   "language": "python",
   "name": "conda-base-py"
  },
  "language_info": {
   "codemirror_mode": {
    "name": "ipython",
    "version": 3
   },
   "file_extension": ".py",
   "mimetype": "text/x-python",
   "name": "python",
   "nbconvert_exporter": "python",
   "pygments_lexer": "ipython3",
   "version": "3.12.7"
  }
 },
 "nbformat": 4,
 "nbformat_minor": 5
}
