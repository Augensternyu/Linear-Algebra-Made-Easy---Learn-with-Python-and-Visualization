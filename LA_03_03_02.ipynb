{
 "cells": [
  {
   "cell_type": "markdown",
   "id": "c6a98b2c-2729-43e9-9066-d01f48ed96e0",
   "metadata": {},
   "source": [
    "Chapter 03\n",
    "\n",
    "# 用热图可视化矩阵乘法第三视角\n",
    "《线性代数》 | 鸢尾花书：数学不难"
   ]
  },
  {
   "cell_type": "markdown",
   "id": "1e8ec2c7-8379-4bf6-a9a8-ffd5f7930a48",
   "metadata": {},
   "source": [
    "这段代码的主要目的是进行随机矩阵的生成、矩阵乘法运算，并通过热力图（heatmap）进行可视化展示。我们将从数学角度详细分析代码的操作过程，并提供相关的数学公式。\n",
    "\n",
    "---\n",
    "\n",
    "### **1. 矩阵初始化**\n",
    "代码首先导入 `numpy` 进行数值计算，`seaborn` 用于可视化矩阵，`matplotlib.pyplot` 用于绘图。\n",
    "\n",
    "定义矩阵 $A$ 和 $B$：\n",
    "- $A$ 是一个 $5 \\times 12$ 维的随机矩阵，元素从均匀分布 $U(-1,1)$ 采样：\n",
    "  $$\n",
    "  A = \\begin{bmatrix} a_{11} & a_{12} & \\cdots & a_{1,12} \\\\ a_{21} & a_{22} & \\cdots & a_{2,12} \\\\ \\vdots & \\vdots & \\ddots & \\vdots \\\\ a_{51} & a_{52} & \\cdots & a_{5,12} \\end{bmatrix}, \\quad a_{ij} \\sim U(-1,1)\n",
    "  $$\n",
    "- $B$ 是一个 $12 \\times 8$ 维的随机矩阵，元素同样从 $U(-1,1)$ 采样：\n",
    "  $$\n",
    "  B = \\begin{bmatrix} b_{11} & b_{12} & \\cdots & b_{1,8} \\\\ b_{21} & b_{22} & \\cdots & b_{2,8} \\\\ \\vdots & \\vdots & \\ddots & \\vdots \\\\ b_{12,1} & b_{12,2} & \\cdots & b_{12,8} \\end{bmatrix}, \\quad b_{ij} \\sim U(-1,1)\n",
    "  $$\n",
    "\n",
    "随后，使用 `seaborn.heatmap()` 可视化 $A$ 和 $B$，热力图能够直观地显示矩阵中各元素的数值分布。\n",
    "\n",
    "---\n",
    "\n",
    "### **2. 计算矩阵乘法 $C = A B$**\n",
    "矩阵乘法的定义：\n",
    "$$\n",
    "C = A B\n",
    "$$\n",
    "其中：\n",
    "- $A$ 的形状为 $(5,12)$\n",
    "- $B$ 的形状为 $(12,8)$\n",
    "- 结果 $C$ 的形状为 $(5,8)$\n",
    "\n",
    "矩阵 $C$ 的元素计算如下：\n",
    "$$\n",
    "c_{ij} = \\sum_{k=1}^{12} a_{ik} b_{kj}\n",
    "$$\n",
    "即：\n",
    "$$\n",
    "C = \\begin{bmatrix} c_{11} & c_{12} & \\cdots & c_{18} \\\\ c_{21} & c_{22} & \\cdots & c_{28} \\\\ \\vdots & \\vdots & \\ddots & \\vdots \\\\ c_{51} & c_{52} & \\cdots & c_{58} \\end{bmatrix}\n",
    "$$\n",
    "其中：\n",
    "$$\n",
    "c_{ij} = a_{i1} b_{1j} + a_{i2} b_{2j} + \\dots + a_{i,12} b_{12,j}\n",
    "$$\n",
    "\n",
    "---\n",
    "\n",
    "### **3. 矩阵 $C$ 的可视化**\n",
    "代码计算 $C$ 的最大值和最小值：\n",
    "```python\n",
    "C.max()\n",
    "C.min()\n",
    "```\n",
    "然后，使用 `seaborn.heatmap()` 绘制 $C$ 的热力图，并通过 `vmin=C.min(), vmax=C.max()` 设置颜色范围，使颜色映射能直观地体现数值的相对大小。\n",
    "\n",
    "接着，代码通过 `plt.subplots()` 组合可视化：\n",
    "- `C` 的热力图\n",
    "- `A` 的热力图\n",
    "- `B` 的热力图\n",
    "- 以及符号 \"=\" 和 \"@\" 用于直观表示矩阵乘法 $C = A B$\n",
    "\n",
    "---\n",
    "\n",
    "### **4. 按列计算 $C$ 的每一列**\n",
    "由于 $C$ 由 $A$ 和 $B$ 的列向量计算得到，我们可以将其按列拆分，逐列计算：\n",
    "$$\n",
    "C_j = A \\cdot B_{[:, j]}\n",
    "$$\n",
    "其中 $B_{[:, j]}$ 代表矩阵 $B$ 的第 $j$ 列，形状为 $(12,1)$，所以矩阵乘法 $A B_{[:, j]}$ 产生一个 $(5,1)$ 形状的列向量：\n",
    "$$\n",
    "c_j = \\begin{bmatrix} c_{1j} \\\\ c_{2j} \\\\ c_{3j} \\\\ c_{4j} \\\\ c_{5j} \\end{bmatrix}\n",
    "$$\n",
    "即：\n",
    "$$\n",
    "c_j = A \\cdot \\begin{bmatrix} b_{1j} \\\\ b_{2j} \\\\ \\vdots \\\\ b_{12,j} \\end{bmatrix} = \\begin{bmatrix} \\sum_{k=1}^{12} a_{1k} b_{kj} \\\\ \\sum_{k=1}^{12} a_{2k} b_{kj} \\\\ \\vdots \\\\ \\sum_{k=1}^{12} a_{5k} b_{kj} \\end{bmatrix}\n",
    "$$\n",
    "\n",
    "代码使用 `plt.subplots()` 生成多个子图，并在循环 `for j in range(n):` 中计算 $C_j$ 并绘制热力图，直观展示矩阵乘法如何通过 $B$ 的列向量逐列计算得到 $C$。\n",
    "\n",
    "---\n",
    "\n",
    "### **5. 结论**\n",
    "这段代码通过：\n",
    "1. **随机生成矩阵 $A$ 和 $B$**，并可视化它们的数值分布。\n",
    "2. **计算矩阵乘法 $C = A B$**，并解析矩阵乘法的计算过程。\n",
    "3. **绘制 $C$ 的热力图**，与 $A$ 和 $B$ 进行对比，直观展示矩阵乘法的结果。\n",
    "4. **逐列计算 $C$**，解释矩阵乘法如何通过列向量形式拆解进行计算。\n",
    "\n",
    "矩阵 $C$ 的结构反映了 $A$ 的行向量与 $B$ 的列向量的线性组合，这种计算方式在信号处理、深度学习（如全连接层的计算）、数据压缩（如奇异值分解 SVD）、物理模拟等领域广泛应用。"
   ]
  },
  {
   "cell_type": "markdown",
   "id": "ece0de0f-22f5-4e81-b7a1-52ba9c655323",
   "metadata": {},
   "source": [
    "## 初始化"
   ]
  },
  {
   "cell_type": "code",
   "execution_count": 4,
   "id": "e7785bcb-527f-4d48-bfd6-f96aa060144c",
   "metadata": {},
   "outputs": [],
   "source": [
    "import numpy as np  # 导入数值计算库\n",
    "import seaborn as sns  # 导入数据可视化库\n",
    "from matplotlib import pyplot as plt  # 导入绘图库"
   ]
  },
  {
   "cell_type": "markdown",
   "id": "6a508235-6982-4cb3-98ea-5cb1cdf7dd41",
   "metadata": {},
   "source": [
    "## 创建矩阵A和B"
   ]
  },
  {
   "cell_type": "code",
   "execution_count": 6,
   "id": "d54c24ce-a341-4258-bb2e-495012d34e83",
   "metadata": {},
   "outputs": [
    {
     "data": {
      "text/plain": [
       "array([[ 0.2951021 ,  0.01429938,  0.05668276,  0.79257041,  0.39998238,\n",
       "         0.4285942 ,  0.43467676, -0.55436108, -0.64969095, -0.08631702,\n",
       "         0.85747686, -0.98022823],\n",
       "       [-0.82015561,  0.70040054, -0.02875788,  0.75367118, -0.38533212,\n",
       "        -0.22406891,  0.16289149, -0.77262564,  0.53576037, -0.37486792,\n",
       "         0.29202092, -0.93460217],\n",
       "       [-0.66720885, -0.13939394, -0.54438706,  0.93261493,  0.80987882,\n",
       "         0.73132583, -0.93567444,  0.5989955 ,  0.81231102,  0.40786666,\n",
       "        -0.54057511, -0.1771288 ],\n",
       "       [ 0.95728792, -0.34190808,  0.19105814,  0.07169268, -0.07780809,\n",
       "        -0.54840068,  0.84110593,  0.22164568, -0.55981616, -0.9214308 ,\n",
       "         0.09577916, -0.81962657],\n",
       "       [ 0.63613656,  0.36713916,  0.87165598, -0.82017787, -0.97328478,\n",
       "        -0.56777511, -0.23258517,  0.47506735, -0.48989147, -0.48920298,\n",
       "        -0.52213956, -0.78695798]])"
      ]
     },
     "execution_count": 6,
     "metadata": {},
     "output_type": "execute_result"
    }
   ],
   "source": [
    "np.random.seed(88)  # 保证每次运行生成相同的随机数\n",
    "A = np.random.uniform(-1, 1, (5, 12))\n",
    "# 生成一个 5×12 的随机整数矩阵（数值范围 0~10）\n",
    "A"
   ]
  },
  {
   "cell_type": "code",
   "execution_count": 7,
   "id": "c67d8ec4-5bb6-4d83-9e05-d35990ea25c3",
   "metadata": {},
   "outputs": [
    {
     "data": {
      "text/plain": [
       "<Axes: >"
      ]
     },
     "execution_count": 7,
     "metadata": {},
     "output_type": "execute_result"
    },
    {
     "data": {
      "image/png": "[encoded data removed]",
      "text/plain": [
       "<Figure size 640x480 with 1 Axes>"
      ]
     },
     "metadata": {},
     "output_type": "display_data"
    }
   ],
   "source": [
    "sns.heatmap(A, cmap = 'RdYlBu_r', square = True, \n",
    "            cbar = False,\n",
    "            linecolor = 'w', linewidths = 0.25)"
   ]
  },
  {
   "cell_type": "code",
   "execution_count": 8,
   "id": "f5f12b9b-36f5-49a6-a1d8-4bdf9b956704",
   "metadata": {},
   "outputs": [
    {
     "data": {
      "text/plain": [
       "array([[-0.63544881,  0.78586467, -0.8805252 , -0.66807296, -0.92597501,\n",
       "         0.40170689,  0.99329933, -0.77794562],\n",
       "       [ 0.44911418, -0.32517321, -0.6463447 ,  0.88373575,  0.95186898,\n",
       "         0.52953172, -0.19490997, -0.16397646],\n",
       "       [ 0.28995495, -0.92863205, -0.73063709,  0.26954949,  0.86110223,\n",
       "         0.90084512,  0.12667943, -0.57593776],\n",
       "       [ 0.0818441 , -0.65333352, -0.70500183,  0.45299007, -0.58046341,\n",
       "        -0.95581985,  0.25193687,  0.90186504],\n",
       "       [ 0.78719916, -0.26147268,  0.85737295,  0.02976143,  0.88742041,\n",
       "         0.13894219, -0.97340213, -0.32344632],\n",
       "       [-0.76270929, -0.31874168, -0.27196198,  0.30947122,  0.87200487,\n",
       "        -0.60105042,  0.24760211, -0.68565583],\n",
       "       [-0.8348775 ,  0.38619428, -0.45257766, -0.19015451,  0.99434971,\n",
       "         0.0082224 ,  0.87605771, -0.28638224],\n",
       "       [-0.40400711, -0.7689096 , -0.09600042,  0.95586342, -0.06598517,\n",
       "        -0.93511531,  0.31161634, -0.94289277],\n",
       "       [-0.39658628,  0.95619366, -0.84529541, -0.31177212, -0.99557658,\n",
       "         0.37476923, -0.93195442, -0.44681321],\n",
       "       [-0.9639589 , -0.8175903 ,  0.91542455,  0.77615542,  0.31394815,\n",
       "         0.95950185, -0.07857369, -0.84930187],\n",
       "       [ 0.60937844,  0.27349324,  0.4083768 ,  0.94846395,  0.3103788 ,\n",
       "         0.35963455, -0.32960103,  0.59283227],\n",
       "       [-0.38290982, -0.99518425,  0.94131515, -0.45964301,  0.73569824,\n",
       "        -0.02837254,  0.83754994,  0.21442016]])"
      ]
     },
     "execution_count": 8,
     "metadata": {},
     "output_type": "execute_result"
    }
   ],
   "source": [
    "B =  np.random.uniform(-1, 1, (12, 8))\n",
    "# 生成一个 5×12 的随机整数矩阵（数值范围 0~10）\n",
    "B"
   ]
  },
  {
   "cell_type": "code",
   "execution_count": 9,
   "id": "0a566b18-2699-4803-8cbb-cf67866fd0b1",
   "metadata": {},
   "outputs": [
    {
     "data": {
      "text/plain": [
       "<Axes: >"
      ]
     },
     "execution_count": 9,
     "metadata": {},
     "output_type": "execute_result"
    },
    {
     "data": {
      "image/png": "[encoded data removed]",
      "text/plain": [
       "<Figure size 640x480 with 1 Axes>"
      ]
     },
     "metadata": {},
     "output_type": "display_data"
    }
   ],
   "source": [
    "sns.heatmap(B, cmap = 'RdYlBu_r', square = True, \n",
    "            cbar = False,\n",
    "            linecolor = 'w', linewidths = 0.25)"
   ]
  },
  {
   "cell_type": "markdown",
   "id": "dfeed245-4e33-4910-9833-2137fd34faa3",
   "metadata": {},
   "source": [
    "## 矩阵乘法 A@B"
   ]
  },
  {
   "cell_type": "code",
   "execution_count": 11,
   "id": "7d3b567f-da0f-4c6a-897f-f95eacf02cba",
   "metadata": {},
   "outputs": [
    {
     "data": {
      "text/plain": [
       "array([[ 0.98797093,  0.66910163, -0.88876459,  1.12118591,  0.69130305,\n",
       "        -0.25055795, -0.06932378,  1.08696502],\n",
       "       [ 1.61749156,  1.31993114, -2.06638394,  0.89880038, -0.60852435,\n",
       "         0.072751  , -1.89227367,  2.23129511],\n",
       "       [-0.07813197, -1.37788175,  0.57851779,  1.23120289, -1.1172428 ,\n",
       "        -2.11212281, -2.4691439 , -0.4314863 ],\n",
       "       [ 0.34710126,  2.04869843, -2.23427683, -1.05088561, -1.11971085,\n",
       "        -0.61067229,  1.68173533,  0.13102407],\n",
       "       [ 0.2644065 ,  0.65919255, -2.46419918, -0.30393328, -1.04122842,\n",
       "         0.96055876,  1.22317478, -1.31792664]])"
      ]
     },
     "execution_count": 11,
     "metadata": {},
     "output_type": "execute_result"
    }
   ],
   "source": [
    "C = A @ B\n",
    "C"
   ]
  },
  {
   "cell_type": "code",
   "execution_count": 12,
   "id": "249154c9-d3e6-4b7d-8c07-5df88d0aff1d",
   "metadata": {},
   "outputs": [
    {
     "data": {
      "text/plain": [
       "2.23129510882643"
      ]
     },
     "execution_count": 12,
     "metadata": {},
     "output_type": "execute_result"
    }
   ],
   "source": [
    "C.max()"
   ]
  },
  {
   "cell_type": "code",
   "execution_count": 13,
   "id": "a0bcbf9c-920a-492b-b5af-0f6d224a9316",
   "metadata": {},
   "outputs": [
    {
     "data": {
      "text/plain": [
       "-2.4691438978737184"
      ]
     },
     "execution_count": 13,
     "metadata": {},
     "output_type": "execute_result"
    }
   ],
   "source": [
    "C.min()"
   ]
  },
  {
   "cell_type": "code",
   "execution_count": 14,
   "id": "85fe8fe6-0b22-45c8-aecf-666084b060ff",
   "metadata": {},
   "outputs": [
    {
     "data": {
      "text/plain": [
       "Text(0.5, 1.0, 'B')"
      ]
     },
     "execution_count": 14,
     "metadata": {},
     "output_type": "execute_result"
    },
    {
     "data": {
      "image/png": "[encoded data removed]",
      "text/plain": [
       "<Figure size 800x300 with 8 Axes>"
      ]
     },
     "metadata": {},
     "output_type": "display_data"
    }
   ],
   "source": [
    "fig, axs = plt.subplots(1, 5, figsize=(8, 3))  \n",
    "\n",
    "plt.sca(axs[0])\n",
    "ax = sns.heatmap(C, cmap='RdYlBu_r', \n",
    "                 linecolor = 'k', linewidths = '0.25',\n",
    "                 vmin = C.min(), vmax = C.max(),\n",
    "                 xticklabels = [], yticklabels = [],\n",
    "                 cbar_kws={\"orientation\": \"horizontal\"})\n",
    "ax.set_aspect(\"equal\")\n",
    "plt.title('C')\n",
    "\n",
    "plt.sca(axs[1])\n",
    "plt.title('=')  # 绘制等号\n",
    "plt.axis('off')\n",
    "\n",
    "plt.sca(axs[2])\n",
    "ax = sns.heatmap(A, cmap='RdYlBu_r', \n",
    "                 linecolor = 'k', linewidths = '0.25',\n",
    "                 xticklabels = [], yticklabels = [],\n",
    "                 cbar_kws={\"orientation\": \"horizontal\"})\n",
    "ax.set_aspect(\"equal\")\n",
    "plt.title('A')\n",
    "\n",
    "plt.sca(axs[3])\n",
    "plt.title('@')  # 绘制乘号\n",
    "plt.axis('off')\n",
    "\n",
    "plt.sca(axs[4])\n",
    "ax = sns.heatmap(B, cmap='RdYlBu_r', \n",
    "                 linecolor = 'k', linewidths = '0.25',\n",
    "                 xticklabels = [], yticklabels = [],\n",
    "                 cbar_kws={\"orientation\": \"horizontal\"})\n",
    "ax.set_aspect(\"equal\")\n",
    "plt.title('B')"
   ]
  },
  {
   "cell_type": "markdown",
   "id": "8a47dacd-9157-461b-89bb-7a3d558679fc",
   "metadata": {},
   "source": [
    "## 左右排列"
   ]
  },
  {
   "cell_type": "code",
   "execution_count": 16,
   "id": "33879ad6-5f01-437e-af59-aaf51964b0bd",
   "metadata": {},
   "outputs": [
    {
     "data": {
      "text/plain": [
       "(12, 8)"
      ]
     },
     "execution_count": 16,
     "metadata": {},
     "output_type": "execute_result"
    }
   ],
   "source": [
    "B_shape = B.shape\n",
    "B_shape"
   ]
  },
  {
   "cell_type": "code",
   "execution_count": 17,
   "id": "c640b314-ac14-4aa8-b4ff-8178c809eb8c",
   "metadata": {},
   "outputs": [
    {
     "data": {
      "text/plain": [
       "8"
      ]
     },
     "execution_count": 17,
     "metadata": {},
     "output_type": "execute_result"
    }
   ],
   "source": [
    "n = B_shape[1]\n",
    "n"
   ]
  },
  {
   "cell_type": "code",
   "execution_count": 18,
   "id": "290e8b0c-aff0-4904-95f6-b378cddfe755",
   "metadata": {},
   "outputs": [
    {
     "data": {
      "image/png": "[encoded data removed]",
      "text/plain": [
       "<Figure size 800x600 with 16 Axes>"
      ]
     },
     "metadata": {},
     "output_type": "display_data"
    }
   ],
   "source": [
    "fig, axs = plt.subplots(2, 4, figsize=(8, 6))  \n",
    "axs = axs.flatten()\n",
    "\n",
    "for j in range(n):\n",
    "    C_j = A @ B [:,[j]]\n",
    "\n",
    "    plt.sca(axs[j])\n",
    "    ax = sns.heatmap(C_j, cmap='RdYlBu_r', \n",
    "                     linecolor = 'k', linewidths = '0.25',\n",
    "                     vmin = C.min(), vmax = C.max(),\n",
    "                     xticklabels = [], yticklabels = [],\n",
    "                     cbar_kws={\"orientation\": \"horizontal\"})\n",
    "    ax.set_aspect(\"equal\")\n",
    "    plt.title('c_' + str(j + 1))\n"
   ]
  },
  {
   "cell_type": "markdown",
   "id": "5468f61f-4827-4b22-8753-33710c28a29f",
   "metadata": {},
   "source": [
    "作者\t**生姜DrGinger**  \n",
    "脚本\t**生姜DrGinger**  \n",
    "视频\t**崔崔CuiCui**  \n",
    "开源资源\t[**GitHub**](https://github.com/Visualize-ML)  \n",
    "平台\t[**油管**](https://www.youtube.com/@DrGinger_Jiang)\t\t\n",
    "\t\t[**iris小课堂**](https://space.bilibili.com/3546865719052873)\t\t\n",
    "\t\t[**生姜DrGinger**](https://space.bilibili.com/513194466)  "
   ]
  }
 ],
 "metadata": {
  "kernelspec": {
   "display_name": "Python [conda env:base] *",
   "language": "python",
   "name": "conda-base-py"
  },
  "language_info": {
   "codemirror_mode": {
    "name": "ipython",
    "version": 3
   },
   "file_extension": ".py",
   "mimetype": "text/x-python",
   "name": "python",
   "nbconvert_exporter": "python",
   "pygments_lexer": "ipython3",
   "version": "3.12.7"
  }
 },
 "nbformat": 4,
 "nbformat_minor": 5
}
