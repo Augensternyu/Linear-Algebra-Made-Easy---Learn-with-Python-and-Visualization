{
 "cells": [
  {
   "cell_type": "markdown",
   "id": "f04dd603-a2d1-48ce-8c17-9f1dba8de1ee",
   "metadata": {},
   "source": [
    "Chapter 01\n",
    "\n",
    "# 可视化标量乘法\n",
    "《线性代数》 | 鸢尾花书：数学不难"
   ]
  },
  {
   "cell_type": "markdown",
   "id": "ccafb456-2453-4c82-8a65-b1963a370cb2",
   "metadata": {},
   "source": [
    "这段代码的核心目标是展示**向量的标量乘法**及其**几何变换**。它定义了一个二维向量，并将其与标量相乘，然后使用 `matplotlib.pyplot.arrow()` 在二维坐标系中绘制原始向量及其缩放后的向量，以观察几何上的变化。\n",
    "\n",
    "首先，代码使用 NumPy 定义一个二维向量 $ \\mathbf{a} $：\n",
    "$$\n",
    "\\mathbf{a} = \\begin{bmatrix} 2 \\\\ 1 \\end{bmatrix}\n",
    "$$\n",
    "这个向量表示从原点 $(0,0)$ 指向点 $(2,1)$，它的长度（欧几里得范数）可以计算为：\n",
    "$$\n",
    "\\|\\mathbf{a}\\| = \\sqrt{2^2 + 1^2} = \\sqrt{5}\n",
    "$$\n",
    "\n",
    "接下来，代码定义了一个标量 $ k = -2 $ 并对向量 $\\mathbf{a}$ 进行标量乘法：\n",
    "$$\n",
    "k \\mathbf{a} = (-2) \\cdot \\begin{bmatrix} 2 \\\\ 1 \\end{bmatrix} =\n",
    "\\begin{bmatrix} -4 \\\\ -2 \\end{bmatrix}\n",
    "$$\n",
    "这个操作的几何意义是：\n",
    "- 由于 $ |k| = 2 $，新向量的长度是原向量的 $ 2 $ 倍，即：\n",
    "  $$\n",
    "  \\| k\\mathbf{a} \\| = |k| \\cdot \\|\\mathbf{a}\\| = 2 \\sqrt{5}\n",
    "  $$\n",
    "- 由于 $ k $ 是负数，向量的方向**翻转**，即 $ k \\mathbf{a} $ 指向与 $ \\mathbf{a} $ 相反的方向。\n",
    "\n",
    "随后，代码使用 Matplotlib 可视化这两个向量：\n",
    "- `plt.arrow(0, 0, a_vec[0], a_vec[1], ...)` 绘制原始向量 $\\mathbf{a}$，颜色为蓝色（`#00B0F0`）。\n",
    "- `plt.arrow(0, 0, k_a_vec[0], k_a_vec[1], ...)` 绘制经过标量乘法变换后的向量 $ k\\mathbf{a} $，颜色为绿色（`#92D050`）。\n",
    "- 由于 `plt.arrow()` 仅绘制箭头，代码通过 `head_width=0.2, head_length=0.3` 调整箭头的形状，使其在图像中更清晰可见。\n",
    "\n",
    "代码最后通过 `plt.xlim(-5,5)` 和 `plt.ylim(-5,5)` 设置坐标轴范围，并添加网格线，使向量在坐标系中的位置更加直观。由于 `plt.legend()` 不能直接与 `plt.arrow()` 结合使用，因此需要额外的 `plt.text()` 来标注向量。\n",
    "\n",
    "### **几何解释**\n",
    "从几何角度来看，标量乘法执行的是**伸缩变换**（scaling transformation）：\n",
    "- 当 $ k > 1 $ 时，向量的长度增加，方向保持不变。\n",
    "- 当 $ 0 < k < 1 $ 时，向量的长度缩短，方向保持不变。\n",
    "- 当 $ k < 0 $ 时，向量不仅**翻转方向**，还会被缩放。\n",
    "\n",
    "在本例中，原向量 $\\mathbf{a}$ 指向第一象限，而变换后的向量 $ k\\mathbf{a} $ 指向与之**完全相反的第三象限**，但长度变为原来的两倍。这说明**负数标量会导致向量方向翻转，但不会影响共线性**，即 $ \\mathbf{a} $ 和 $ k\\mathbf{a} $ 始终位于同一条直线上。"
   ]
  },
  {
   "cell_type": "markdown",
   "id": "4c90e233-0106-40e6-afdb-c6daa294d74b",
   "metadata": {},
   "source": [
    "## 初始化"
   ]
  },
  {
   "cell_type": "code",
   "execution_count": 1,
   "id": "ddcc3d0f-f93c-4b86-9d14-efe61bc9a360",
   "metadata": {},
   "outputs": [],
   "source": [
    "import numpy as np\n",
    "import matplotlib.pyplot as plt"
   ]
  },
  {
   "cell_type": "markdown",
   "id": "9cbeb7b4-a95c-4b24-a041-4b739e3b3ce3",
   "metadata": {},
   "source": [
    "## 定义向量"
   ]
  },
  {
   "cell_type": "code",
   "execution_count": 2,
   "id": "e57bf3a3-f3de-4954-a808-1b099f3ce715",
   "metadata": {},
   "outputs": [],
   "source": [
    "a_vec = np.array([2, 1])"
   ]
  },
  {
   "cell_type": "markdown",
   "id": "5e67c60f-7118-4947-9dee-ba9312d18a77",
   "metadata": {},
   "source": [
    "## 标量乘法"
   ]
  },
  {
   "cell_type": "code",
   "execution_count": 3,
   "id": "167b611d-3fa9-459c-913a-ed4e175488bf",
   "metadata": {},
   "outputs": [],
   "source": [
    "k = -2\n",
    "k_a_vec = k * a_vec"
   ]
  },
  {
   "cell_type": "markdown",
   "id": "7b607503-7ee3-4c77-946d-4b2fe9d1bdf5",
   "metadata": {},
   "source": [
    "## 可视化"
   ]
  },
  {
   "cell_type": "code",
   "execution_count": 4,
   "id": "119ddbbe-2f3e-45c7-bf6d-383283e07f00",
   "metadata": {},
   "outputs": [
    {
     "data": {
      "text/plain": [
       "<matplotlib.legend.Legend at 0x2453a99ce60>"
      ]
     },
     "execution_count": 4,
     "metadata": {},
     "output_type": "execute_result"
    },
    {
     "data": {
      "image/png": "[encoded data removed]",
      "text/plain": [
       "<Figure size 600x600 with 1 Axes>"
      ]
     },
     "metadata": {},
     "output_type": "display_data"
    }
   ],
   "source": [
    "plt.figure(figsize=(6,6))\n",
    "\n",
    "# 绘制向量 a\n",
    "plt.arrow(0, 0, a_vec[0], a_vec[1], \n",
    "          head_width=0.2, head_length=0.3, \n",
    "          fc='#00B0F0', ec='#00B0F0', label=\"a\")\n",
    "\n",
    "# 绘制向量 k * a\n",
    "plt.arrow(0, 0, k_a_vec[0], k_a_vec[1], \n",
    "          head_width=0.2, head_length=0.3, \n",
    "          fc='#92D050', ec='#92D050', label=\"k*a\")\n",
    "\n",
    "# 装饰\n",
    "plt.gca().set_aspect('equal', adjustable='box')\n",
    "plt.xlim(-5, 5)  # 设置 x 轴范围\n",
    "plt.ylim(-5, 5)  # 设置 y 轴范围\n",
    "plt.axhline(0, color='black', linewidth=0.5)\n",
    "plt.axvline(0, color='black', linewidth=0.5)\n",
    "plt.xticks(np.arange(-5,6))\n",
    "plt.yticks(np.arange(-5,6))\n",
    "plt.grid(color='gray', alpha=0.8, linestyle='-', linewidth=0.25) \n",
    "plt.legend()"
   ]
  },
  {
   "cell_type": "markdown",
   "id": "f142ecfa-951c-49d4-a716-c536c4d1105f",
   "metadata": {},
   "source": [
    "作者\t**生姜DrGinger**  \n",
    "脚本\t**生姜DrGinger**  \n",
    "视频\t**崔崔CuiCui**  \n",
    "开源资源\t[**GitHub**](https://github.com/Visualize-ML)  \n",
    "平台\t[**油管**](https://www.youtube.com/@DrGinger_Jiang)\t\t\n",
    "\t\t[**iris小课堂**](https://space.bilibili.com/3546865719052873)\t\t\n",
    "\t\t[**生姜DrGinger**](https://space.bilibili.com/513194466)  "
   ]
  }
 ],
 "metadata": {
  "kernelspec": {
   "display_name": "Python [conda env:base] *",
   "language": "python",
   "name": "conda-base-py"
  },
  "language_info": {
   "codemirror_mode": {
    "name": "ipython",
    "version": 3
   },
   "file_extension": ".py",
   "mimetype": "text/x-python",
   "name": "python",
   "nbconvert_exporter": "python",
   "pygments_lexer": "ipython3",
   "version": "3.12.7"
  }
 },
 "nbformat": 4,
 "nbformat_minor": 5
}
