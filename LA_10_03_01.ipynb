{
 "cells": [
  {
   "cell_type": "markdown",
   "id": "f04dd603-a2d1-48ce-8c17-9f1dba8de1ee",
   "metadata": {},
   "source": [
    "Chapter 10\n",
    "\n",
    "# 一元多项式回归\n",
    "《线性代数》 | 鸢尾花书：数学不难"
   ]
  },
  {
   "cell_type": "markdown",
   "id": "ccafb456-2453-4c82-8a65-b1963a370cb2",
   "metadata": {},
   "source": [
    "这段代码完整地实现了**一元三次多项式回归**的建模、拟合、预测和可视化过程。下面我们从数学角度详细描述这段代码背后在做什么，并结合公式帮助理解。\n",
    "\n",
    "---\n",
    "\n",
    "首先，代码使用 `numpy` 构造了一个二维数据集，表示一组散点数据。输入变量为 $x$，是一个 $8 \\times 1$ 的列向量；输出变量为 $y$，是对应的目标值。它们的关系即为我们要拟合的对象。\n",
    "\n",
    "$$\n",
    "x = \\begin{bmatrix}1 \\\\ 2 \\\\ 4 \\\\ 5 \\\\ 6 \\\\ 7 \\\\ 8 \\\\ 9 \\end{bmatrix}, \\quad\n",
    "y = \\begin{bmatrix}1 \\\\ 7 \\\\ 8 \\\\ 6 \\\\ 5 \\\\ 2 \\\\ 2 \\\\ 4 \\end{bmatrix}\n",
    "$$\n",
    "\n",
    "为了在一张图上画出平滑的回归曲线，代码使用 `np.linspace` 在区间 $[0, 10]$ 上生成了 101 个点构成的向量 $x_\\text{array}$，作为可视化时的横坐标。\n",
    "\n",
    "---\n",
    "\n",
    "### 一、设计矩阵构造\n",
    "\n",
    "为了进行三次多项式回归，代码根据变量 $x$ 构造了一个设计矩阵 $X_\\text{poly}$。该设计矩阵包含如下列：\n",
    "\n",
    "- 第1列：常数项 1，对应偏置 $b_0$\n",
    "- 第2列：$x$，对应一次项系数 $b_1$\n",
    "- 第3列：$x^2$，对应二次项系数 $b_2$\n",
    "- 第4列：$x^3$，对应三次项系数 $b_3$\n",
    "\n",
    "因此，设计矩阵的数学形式为：\n",
    "\n",
    "$$\n",
    "X = \n",
    "\\begin{bmatrix}\n",
    "1 & x_1 & x_1^2 & x_1^3 \\\\\n",
    "1 & x_2 & x_2^2 & x_2^3 \\\\\n",
    "\\vdots & \\vdots & \\vdots & \\vdots \\\\\n",
    "1 & x_n & x_n^2 & x_n^3 \\\\\n",
    "\\end{bmatrix}\n",
    "$$\n",
    "\n",
    "其中 $n = 8$ 是样本个数。\n",
    "\n",
    "---\n",
    "\n",
    "### 二、最小二乘法求解参数\n",
    "\n",
    "代码使用正规方程（Normal Equation）求解最小二乘解：\n",
    "\n",
    "$$\n",
    "\\mathbf{b} = (X^\\top X)^{-1} X^\\top y\n",
    "$$\n",
    "\n",
    "向量 $\\mathbf{b}$ 为模型参数，包含了常数项 $b_0$ 和多项式系数 $b_1, b_2, b_3$，即：\n",
    "\n",
    "$$\n",
    "\\mathbf{b} = \n",
    "\\begin{bmatrix}\n",
    "b_0 \\\\\n",
    "b_1 \\\\\n",
    "b_2 \\\\\n",
    "b_3\n",
    "\\end{bmatrix}\n",
    "$$\n",
    "\n",
    "---\n",
    "\n",
    "### 三、模型拟合与预测\n",
    "\n",
    "用训练集数据 $X_\\text{poly}$ 去预测回归值：\n",
    "\n",
    "$$\n",
    "\\hat{y} = X_\\text{poly} \\cdot \\mathbf{b}\n",
    "$$\n",
    "\n",
    "同时，为绘制回归曲线，需要对 101 个新的点 $x_\\text{array}$ 执行相同的特征扩展，并构造矩阵 $X_{\\text{array, poly}}$，结构与 $X_\\text{poly}$ 相同。然后执行：\n",
    "\n",
    "$$\n",
    "\\hat{y}_{\\text{array}} = X_{\\text{array, poly}} \\cdot \\mathbf{b}\n",
    "$$\n",
    "\n",
    "这样就得到一条连续平滑的回归曲线，用于图形展示。\n",
    "\n",
    "---\n",
    "\n",
    "### 四、图形可视化\n",
    "\n",
    "最后，代码使用 `matplotlib` 进行绘图，主要展示了三类内容：\n",
    "\n",
    "1. 原始数据点（蓝色叉号）\n",
    "2. 模型预测点 $\\hat{y}$（红色叉号）\n",
    "3. 真实值和预测值之间的误差线（黄色透明线段）\n",
    "\n",
    "此外，通过画出 $(x_\\text{array}, \\hat{y}_\\text{array})$ 的连续点连接线，得到红色的三次回归曲线。\n",
    "\n",
    "为了增强几何直观性，图像设置了相等比例，网格、坐标轴刻度均对称，确保读者能直观理解模型是如何拟合这些数据点的。\n",
    "\n",
    "---\n",
    "\n",
    "### 总结\n",
    "\n",
    "从数学视角看，这段代码通过将输入数据 $x$ 构造为多项式特征矩阵 $X$，并利用正规方程求解最小二乘解 $\\mathbf{b}$，实现了一个完整的三次多项式回归建模过程。其核心是把非线性的回归问题转化为线性模型在高维特征空间上的线性拟合过程。整个过程体现了**线性模型 + 非线性特征变换 = 非线性拟合能力**这一关键思想。"
   ]
  },
  {
   "cell_type": "markdown",
   "id": "3755e7ba-2507-4703-9d28-dd14a8a662bb",
   "metadata": {},
   "source": [
    "## 初始化"
   ]
  },
  {
   "cell_type": "code",
   "execution_count": 4,
   "id": "d530bc5e-a5b5-41cf-92e4-461541be8fc2",
   "metadata": {},
   "outputs": [],
   "source": [
    "import numpy as np\n",
    "import matplotlib.pyplot as plt"
   ]
  },
  {
   "cell_type": "markdown",
   "id": "88bc42c5-5502-4a67-8b39-75438c34a6c6",
   "metadata": {},
   "source": [
    "## 构造数据"
   ]
  },
  {
   "cell_type": "code",
   "execution_count": 6,
   "id": "954b7525-dcef-47cb-af13-40c741ca3891",
   "metadata": {},
   "outputs": [],
   "source": [
    "data = np.array([[1, 1],\n",
    "                 [2, 7],\n",
    "                 [4, 8],\n",
    "                 [5, 6],\n",
    "                 [6, 5],\n",
    "                 [7, 2],\n",
    "                 [8, 2],\n",
    "                 [9, 4]])\n",
    "x = data[:,[0]]\n",
    "y = data[:,[1]]"
   ]
  },
  {
   "cell_type": "code",
   "execution_count": 7,
   "id": "69c78d1a-fa1c-41cb-ae24-212360d40186",
   "metadata": {},
   "outputs": [],
   "source": [
    "# 用于绘制回归曲线\n",
    "x_array = np.linspace(0,10,101).reshape(-1,1)"
   ]
  },
  {
   "cell_type": "markdown",
   "id": "ee92efa0-9bf5-41e0-9628-30530a60fda2",
   "metadata": {},
   "source": [
    "## 设计矩阵"
   ]
  },
  {
   "cell_type": "code",
   "execution_count": 9,
   "id": "240a9861-c2b2-4aef-90b7-84daf99eec5b",
   "metadata": {},
   "outputs": [],
   "source": [
    "degree = 3 # 设定阶数\n",
    "\n",
    "# 增加不同阶数的数据\n",
    "X_poly = [x**d for d in range(1, degree + 1)]\n",
    "X_poly = np.hstack(X_poly)\n",
    "\n",
    "# 最左侧加一列全1\n",
    "X_poly = np.hstack([np.ones_like(x), X_poly])  "
   ]
  },
  {
   "cell_type": "code",
   "execution_count": 10,
   "id": "a3c567f5-684f-4125-9a75-ad8b7ad7b4f4",
   "metadata": {},
   "outputs": [
    {
     "data": {
      "text/plain": [
       "array([[  1,   1,   1,   1],\n",
       "       [  1,   2,   4,   8],\n",
       "       [  1,   4,  16,  64],\n",
       "       [  1,   5,  25, 125],\n",
       "       [  1,   6,  36, 216],\n",
       "       [  1,   7,  49, 343],\n",
       "       [  1,   8,  64, 512],\n",
       "       [  1,   9,  81, 729]])"
      ]
     },
     "execution_count": 10,
     "metadata": {},
     "output_type": "execute_result"
    }
   ],
   "source": [
    "X_poly"
   ]
  },
  {
   "cell_type": "markdown",
   "id": "0b9d8f5d-f5ec-41b7-948f-6ad8a3110a9b",
   "metadata": {},
   "source": [
    "## 求解模型"
   ]
  },
  {
   "cell_type": "code",
   "execution_count": 12,
   "id": "c21a6e8f-08f1-4537-99ee-1f2537ce2429",
   "metadata": {},
   "outputs": [
    {
     "data": {
      "text/plain": [
       "array([[-8.53960964],\n",
       "       [12.2117907 ],\n",
       "       [-2.64302613],\n",
       "       [ 0.16010855]])"
      ]
     },
     "execution_count": 12,
     "metadata": {},
     "output_type": "execute_result"
    }
   ],
   "source": [
    "b = np.linalg.inv(X_poly.T @ X_poly) @ X_poly.T @ y\n",
    "b"
   ]
  },
  {
   "cell_type": "code",
   "execution_count": 13,
   "id": "83c2895a-4514-4295-8f38-80823da9d0bb",
   "metadata": {},
   "outputs": [],
   "source": [
    "# 提取参数\n",
    "coef = b[1:,:]\n",
    "intercept = b[0,:]"
   ]
  },
  {
   "cell_type": "code",
   "execution_count": 14,
   "id": "b636a5f4-0ad6-47ac-97e0-5043b6e38699",
   "metadata": {},
   "outputs": [
    {
     "data": {
      "text/plain": [
       "array([-8.53960964])"
      ]
     },
     "execution_count": 14,
     "metadata": {},
     "output_type": "execute_result"
    }
   ],
   "source": [
    "intercept"
   ]
  },
  {
   "cell_type": "code",
   "execution_count": 15,
   "id": "e1f86d7d-e112-4443-ab5b-9d495e3d505e",
   "metadata": {},
   "outputs": [
    {
     "data": {
      "text/plain": [
       "12.211790696865584"
      ]
     },
     "execution_count": 15,
     "metadata": {},
     "output_type": "execute_result"
    }
   ],
   "source": [
    "coef[0][0]"
   ]
  },
  {
   "cell_type": "markdown",
   "id": "b9a36e64-0b22-4798-91fd-a6f80acf9f55",
   "metadata": {},
   "source": [
    "## 拟合"
   ]
  },
  {
   "cell_type": "code",
   "execution_count": 17,
   "id": "570ba0d7-380d-4333-a173-5ff1c9191dec",
   "metadata": {},
   "outputs": [
    {
     "data": {
      "text/plain": [
       "array([[1.18926347],\n",
       "       [6.59273562],\n",
       "       [8.26608218],\n",
       "       [6.45725916],\n",
       "       [4.16564033],\n",
       "       [2.35187698],\n",
       "       [1.97662039],\n",
       "       [4.00052187]])"
      ]
     },
     "execution_count": 17,
     "metadata": {},
     "output_type": "execute_result"
    }
   ],
   "source": [
    "y_poly_pred = X_poly @ b\n",
    "y_poly_pred"
   ]
  },
  {
   "cell_type": "code",
   "execution_count": 18,
   "id": "8dfb6461-55c0-4071-9626-fe6b79840289",
   "metadata": {},
   "outputs": [],
   "source": [
    "X_array_poly = [x_array**d for d in range(1, degree + 1)]\n",
    "X_array_poly = np.hstack(X_array_poly)\n",
    "X_array_poly = np.hstack([np.ones_like(x_array), X_array_poly])  # 最左侧加一列全1"
   ]
  },
  {
   "cell_type": "code",
   "execution_count": 19,
   "id": "404b6b73-2604-44f1-9358-4765f34fc2d9",
   "metadata": {},
   "outputs": [],
   "source": [
    "# 多项式回归曲线纵轴预测值\n",
    "y_array_pred = X_array_poly @ b"
   ]
  },
  {
   "cell_type": "markdown",
   "id": "a45dd7e3-1042-459c-b81d-e654748e07c7",
   "metadata": {},
   "source": [
    "## 可视化"
   ]
  },
  {
   "cell_type": "code",
   "execution_count": 21,
   "id": "39e618c2-02a7-4d3b-8fe0-5efb4f24a68c",
   "metadata": {},
   "outputs": [
    {
     "data": {
      "text/plain": [
       "(0.0, 10.0)"
      ]
     },
     "execution_count": 21,
     "metadata": {},
     "output_type": "execute_result"
    },
    {
     "data": {
      "image/png": "[encoded data removed]",
      "text/plain": [
       "<Figure size 500x500 with 1 Axes>"
      ]
     },
     "metadata": {},
     "output_type": "display_data"
    }
   ],
   "source": [
    "fig, ax = plt.subplots(figsize=(5,5))\n",
    "\n",
    "# 绘制散点图\n",
    "ax.scatter(x, y, marker = 'x', color = 'b')\n",
    "ax.scatter(x, y_poly_pred, marker = 'x', color='r')\n",
    "\n",
    "# 绘制误差\n",
    "data_ = np.column_stack([x,y_poly_pred])\n",
    "ax.plot(([i for (i,j) in data_], [i for (i,j) in data]),\n",
    "        ([j for (i,j) in data_], [j for (i,j) in data]),\n",
    "         c='#FFC000', alpha = 0.5)\n",
    "\n",
    "# 绘制回归曲线\n",
    "ax.plot(x_array, y_array_pred, color='r')\n",
    "ax.set_title('Degree = %d' % degree)\n",
    "\n",
    "ax.set_aspect('equal', adjustable='box')\n",
    "ax.set_xticks(np.arange(11))\n",
    "ax.set_yticks(np.arange(11))\n",
    "ax.set_xlim(0,10)\n",
    "ax.grid(True, c = '0.8')\n",
    "ax.set_ylim(0,10)"
   ]
  },
  {
   "cell_type": "markdown",
   "id": "cf472ada-e959-49d0-961c-89d86f9bb868",
   "metadata": {},
   "source": [
    "## 回归解析式"
   ]
  },
  {
   "cell_type": "code",
   "execution_count": 23,
   "id": "8fd12a6d-2ed5-42ac-a964-8e9f088e3ce3",
   "metadata": {},
   "outputs": [
    {
     "name": "stdout",
     "output_type": "stream",
     "text": [
      "$y = -8.540 + 12.212x^1 -2.643x^2 + 0.160x^3$\n",
      "[[-8.53960964]\n",
      " [12.2117907 ]\n",
      " [-2.64302613]\n",
      " [ 0.16010855]]\n"
     ]
    }
   ],
   "source": [
    "equation = '$y = {:.3f}'.format(intercept[0])\n",
    "for j in range(0, len(coef[:,0])):\n",
    "    equation += ' + {:.3f}x^{}'.format(coef[j][0], j+1)\n",
    "equation += '$'\n",
    "equation = equation.replace(\"+ -\", \"-\")\n",
    "print(equation)\n",
    "print(str(b))"
   ]
  },
  {
   "cell_type": "markdown",
   "id": "070c3389-8048-43a3-baa7-6666009bce96",
   "metadata": {},
   "source": [
    "作者\t**生姜DrGinger**  \n",
    "脚本\t**生姜DrGinger**  \n",
    "视频\t**崔崔CuiCui**  \n",
    "开源资源\t[**GitHub**](https://github.com/Visualize-ML)  \n",
    "平台\t[**油管**](https://www.youtube.com/@DrGinger_Jiang)\t\t\n",
    "\t\t[**iris小课堂**](https://space.bilibili.com/3546865719052873)\t\t\n",
    "\t\t[**生姜DrGinger**](https://space.bilibili.com/513194466)  "
   ]
  }
 ],
 "metadata": {
  "kernelspec": {
   "display_name": "Python [conda env:base] *",
   "language": "python",
   "name": "conda-base-py"
  },
  "language_info": {
   "codemirror_mode": {
    "name": "ipython",
    "version": 3
   },
   "file_extension": ".py",
   "mimetype": "text/x-python",
   "name": "python",
   "nbconvert_exporter": "python",
   "pygments_lexer": "ipython3",
   "version": "3.12.7"
  }
 },
 "nbformat": 4,
 "nbformat_minor": 5
}
