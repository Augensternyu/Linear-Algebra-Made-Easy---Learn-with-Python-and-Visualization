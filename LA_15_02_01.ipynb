{
 "cells": [
  {
   "cell_type": "markdown",
   "id": "40108051-4355-41a3-8b9b-60105416f68c",
   "metadata": {},
   "source": [
    "Chapter 15\n",
    "\n",
    "# 用Networkx绘制有向图\n",
    "《线性代数》 | 鸢尾花书：数学不难"
   ]
  },
  {
   "cell_type": "markdown",
   "id": "6531c206-4776-4767-9d8c-a206d89c57a1",
   "metadata": {},
   "source": [
    "这段代码从数学角度构建并可视化了一个**有向图（Directed Graph）**。有向图可以用**有向邻接矩阵**或有向边集来表示，其本质是一个**带有方向的关系网络**。我们从头解释这段代码所做的数学含义：\n",
    "\n",
    "---\n",
    "\n",
    "首先，我们使用 `nx.DiGraph()` 创建了一个有向图对象 `directed_G`。数学上，这对应一个**有序对**：\n",
    "\n",
    "$G = (V, E)$\n",
    "\n",
    "其中：\n",
    "- $V$ 是节点集合（Vertices），在这里是 $\\{a, b, c, d\\}$；\n",
    "- $E$ 是有向边集合（Edges），每条边是一个有序对，例如 $(a, b)$ 表示一条从节点 $a$ 指向节点 $b$ 的边。\n",
    "\n",
    "---\n",
    "\n",
    "接下来，我们添加了7条有向边。我们可以用边集 $E$ 表示如下：\n",
    "\n",
    "$$\n",
    "E = \\{(a, b), (b, a), (a, c), (d, a), (b, c), (c, d), (d, c)\\}\n",
    "$$\n",
    "\n",
    "注意，这些边是**有向的**，例如 $(a, b) \\ne (b, a)$，两者是不同的边，代表不同的方向。特别是 $(c, d)$ 与 $(d, c)$ 同时出现，表示在节点 $c$ 和 $d$ 之间存在**双向关系**。\n",
    "\n",
    "---\n",
    "\n",
    "若将此图转换为**有向邻接矩阵** $A$，其定义如下：\n",
    "\n",
    "$A_{ij} = 1$ 表示存在一条从节点 $i$ 指向节点 $j$ 的边，否则 $A_{ij} = 0$。\n",
    "\n",
    "例如，在本图中：\n",
    "\n",
    "- $A_{ab} = 1$，表示 $a \\to b$；\n",
    "- $A_{ba} = 1$，表示 $b \\to a$；\n",
    "- $A_{ad} = 0$，因为 $a$ 没有指向 $d$。\n",
    "\n",
    "因此邻接矩阵是一个**非对称矩阵**，矩阵的对称性反映图的对称性。\n",
    "\n",
    "---\n",
    "\n",
    "定义了节点的位置 `pos` 后，我们通过 `nx.draw_networkx` 将图形可视化。每个节点的位置是一个二维向量，例如：\n",
    "\n",
    "- $pos(a) = (0, 0)$\n",
    "- $pos(b) = (1, 0)$\n",
    "- $pos(c) = (1, 1)$\n",
    "- $pos(d) = (0, 1)$\n",
    "\n",
    "这对应于将节点嵌入二维平面中的一种方式，可以看成一个函数 $f: V \\rightarrow \\mathbb{R}^2$，将每个节点映射到二维坐标空间。\n",
    "\n",
    "---\n",
    "\n",
    "可视化时，`connectionstyle='arc3, rad=0.1'` 的作用是将**双向边**画成**弯曲的曲线**，避免两条方向相反的边重叠，使图结构更清晰可读。也就是说，在 $(a, b)$ 和 $(b, a)$ 同时存在时，会分别画出从 $a \\to b$ 的箭头和从 $b \\to a$ 的反向箭头。\n",
    "\n",
    "---\n",
    "\n",
    "最终，整个图形代表的是一个**带方向的结构网络**，可以用于模拟现实世界中许多“单向”关系，例如航班网络、网页链接、任务依赖等。数学上这是研究**图遍历、连通性、强连通分量、拓扑排序、路径最短路**等问题的基础结构。"
   ]
  },
  {
   "cell_type": "markdown",
   "id": "9581254a-4add-4150-a1ab-52b5d9cbc269",
   "metadata": {},
   "source": [
    "## 初始化"
   ]
  },
  {
   "cell_type": "code",
   "execution_count": 4,
   "id": "a0e50778-9b32-411d-8981-9f91f17b938a",
   "metadata": {},
   "outputs": [],
   "source": [
    "import matplotlib.pyplot as plt\n",
    "import networkx as nx"
   ]
  },
  {
   "cell_type": "markdown",
   "id": "fa47fbb9-de11-4fc9-95f6-1351d54c5e97",
   "metadata": {},
   "source": [
    "## 有向图"
   ]
  },
  {
   "cell_type": "code",
   "execution_count": 6,
   "id": "e53aa32b-f827-44a3-bba3-3927279c3615",
   "metadata": {},
   "outputs": [],
   "source": [
    "directed_G = nx.DiGraph()"
   ]
  },
  {
   "cell_type": "markdown",
   "id": "ccdeb747-26cb-4d70-a871-20292e6b258b",
   "metadata": {},
   "source": [
    "## 节点"
   ]
  },
  {
   "cell_type": "code",
   "execution_count": 8,
   "id": "52fd8065-1144-4886-afe3-840e57de0ee0",
   "metadata": {},
   "outputs": [],
   "source": [
    "directed_G.add_nodes_from(['a','b','c','d'])"
   ]
  },
  {
   "cell_type": "markdown",
   "id": "be007a53-b97f-4bec-b738-ec0358552a6b",
   "metadata": {},
   "source": [
    "## 有向边"
   ]
  },
  {
   "cell_type": "code",
   "execution_count": 10,
   "id": "2c8d1948-e2d3-490a-a554-cc50341e47f8",
   "metadata": {},
   "outputs": [],
   "source": [
    "directed_G.add_edges_from([('a','b'),\n",
    "                           ('b','a'),\n",
    "                           ('a','c'),\n",
    "                           ('d','a'),\n",
    "                           ('b','c'),\n",
    "                           ('c','d'),\n",
    "                           ('d','c')])"
   ]
  },
  {
   "cell_type": "markdown",
   "id": "17db5691-e021-4513-a704-0824f0f2ed92",
   "metadata": {},
   "source": [
    "## 定义节点坐标"
   ]
  },
  {
   "cell_type": "code",
   "execution_count": 12,
   "id": "a62cc18d-eb71-4490-8dc0-2731ada91042",
   "metadata": {},
   "outputs": [],
   "source": [
    "pos = {'a':[0, 0], \n",
    "       'b':[1, 0],\n",
    "       'c':[1, 1],\n",
    "       'd':[0, 1]}"
   ]
  },
  {
   "cell_type": "markdown",
   "id": "5ebec0cd-b749-43b4-ade7-8952f031748a",
   "metadata": {},
   "source": [
    "## 可视化"
   ]
  },
  {
   "cell_type": "code",
   "execution_count": 14,
   "id": "ced4448e-0ef3-496a-b3d5-9ed907c7c713",
   "metadata": {},
   "outputs": [
    {
     "data": {
      "image/png": "[encoded data removed]",
      "text/plain": [
       "<Figure size 600x600 with 1 Axes>"
      ]
     },
     "metadata": {},
     "output_type": "display_data"
    }
   ],
   "source": [
    "plt.figure(figsize = (6,6))\n",
    "nx.draw_networkx(directed_G, pos = pos, node_size = 188,\n",
    "                connectionstyle = 'arc3, rad = 0.1')"
   ]
  },
  {
   "cell_type": "code",
   "execution_count": 25,
   "id": "0861f786-e1ae-4cac-aca3-7bcaefcaa9bb",
   "metadata": {},
   "outputs": [
    {
     "data": {
      "text/plain": [
       "array([[0, 1, 1, 0],\n",
       "       [1, 0, 1, 0],\n",
       "       [0, 0, 0, 1],\n",
       "       [1, 0, 1, 0]])"
      ]
     },
     "execution_count": 25,
     "metadata": {},
     "output_type": "execute_result"
    }
   ],
   "source": [
    "A = nx.adjacency_matrix(directed_G).toarray()\n",
    "A"
   ]
  },
  {
   "cell_type": "markdown",
   "id": "51990a2e-71bb-46ec-b191-f113bea09756",
   "metadata": {},
   "source": [
    "作者\t**生姜DrGinger**  \n",
    "脚本\t**生姜DrGinger**  \n",
    "视频\t**崔崔CuiCui**  \n",
    "开源资源\t[**GitHub**](https://github.com/Visualize-ML)  \n",
    "平台\t[**油管**](https://www.youtube.com/@DrGinger_Jiang)\t\t\n",
    "\t\t[**iris小课堂**](https://space.bilibili.com/3546865719052873)\t\t\n",
    "\t\t[**生姜DrGinger**](https://space.bilibili.com/513194466)  "
   ]
  }
 ],
 "metadata": {
  "kernelspec": {
   "display_name": "Python [conda env:base] *",
   "language": "python",
   "name": "conda-base-py"
  },
  "language_info": {
   "codemirror_mode": {
    "name": "ipython",
    "version": 3
   },
   "file_extension": ".py",
   "mimetype": "text/x-python",
   "name": "python",
   "nbconvert_exporter": "python",
   "pygments_lexer": "ipython3",
   "version": "3.12.7"
  }
 },
 "nbformat": 4,
 "nbformat_minor": 5
}
