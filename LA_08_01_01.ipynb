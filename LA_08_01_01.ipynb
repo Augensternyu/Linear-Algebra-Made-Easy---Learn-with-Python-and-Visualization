{
 "cells": [
  {
   "cell_type": "markdown",
   "id": "ca742def-e7d7-4180-99e8-d9d149123456",
   "metadata": {},
   "source": [
    "Chapter 08\n",
    "\n",
    "# 线性变换\n",
    "《线性代数》 | 鸢尾花书：数学不难"
   ]
  },
  {
   "cell_type": "markdown",
   "id": "0d015407-20c9-4f3f-b9e3-fc7e0a5731cb",
   "metadata": {},
   "source": [
    "这段代码的核心目的是**可视化一个二维线性变换** $A \\in \\mathbb{R}^{2 \\times 2}$ 对不同几何对象的作用：包括单位正方形、单位圆、标准基向量、以及整个二维网格的变形，从而帮助理解线性变换如何“拉伸”、“旋转”、“剪切”等操作作用在空间上。\n",
    "\n",
    "---\n",
    "\n",
    "我们从数学角度详细解析各部分含义：\n",
    "\n",
    "---\n",
    "\n",
    "### 一、输入矩阵 $A$\n",
    "\n",
    "```python\n",
    "A = np.array([[1, 2],\n",
    "              [2, 1]])\n",
    "```\n",
    "\n",
    "设定一个线性变换矩阵 $A$，其形式为：\n",
    "\n",
    "$$\n",
    "A = \\begin{bmatrix} 1 & 2 \\\\ 2 & 1 \\end{bmatrix}\n",
    "$$\n",
    "\n",
    "它定义了一个从 $\\mathbb{R}^2$ 到 $\\mathbb{R}^2$ 的线性映射：$T(\\mathbf{x}) = A\\mathbf{x}$，其中 $\\mathbf{x} = \\begin{bmatrix} x_1 \\\\ x_2 \\end{bmatrix}$。\n",
    "\n",
    "---\n",
    "\n",
    "### 二、变换整个二维网格\n",
    "\n",
    "函数 `grid(A)` 用来将一张二维网格变换到新坐标系下：\n",
    "\n",
    "$$\n",
    "\\text{令 } \\mathbf{X}_{\\text{grid}} = \\{ (x_1, x_2) \\mid x_1, x_2 \\in [-10, 10] \\cap \\mathbb{Z} \\}\n",
    "$$\n",
    "\n",
    "原始网格是所有整数点组成的二维笛卡尔坐标格，经过线性变换后，每一个点都会被变换为：\n",
    "\n",
    "$$\n",
    "\\mathbf{x}' = A \\mathbf{x}\n",
    "$$\n",
    "\n",
    "并组成新的图像坐标。变换形式是：\n",
    "\n",
    "$$\n",
    "\\begin{bmatrix}\n",
    "x_1' \\\\\n",
    "x_2'\n",
    "\\end{bmatrix}\n",
    "=\n",
    "\\begin{bmatrix}\n",
    "1 & 2 \\\\\n",
    "2 & 1\n",
    "\\end{bmatrix}\n",
    "\\begin{bmatrix}\n",
    "x_1 \\\\\n",
    "x_2\n",
    "\\end{bmatrix}\n",
    "$$\n",
    "\n",
    "---\n",
    "\n",
    "### 三、变换单位圆\n",
    "\n",
    "函数 `circle(A)` 创建单位圆上 $[0, 2\\pi]$ 范围内的 $721$ 个点：\n",
    "\n",
    "$$\n",
    "\\mathbf{x}(\\theta) = \\begin{bmatrix} \\cos \\theta \\\\ \\sin \\theta \\end{bmatrix}, \\quad \\theta \\in [0, 2\\pi]\n",
    "$$\n",
    "\n",
    "单位圆的所有点满足 $\\|\\mathbf{x}\\|_2 = 1$，即 $x_1^2 + x_2^2 = 1$。\n",
    "\n",
    "经过线性变换后：\n",
    "\n",
    "$$\n",
    "\\mathbf{x}'(\\theta) = A \\mathbf{x}(\\theta)\n",
    "$$\n",
    "\n",
    "变换后不再是圆，而是一个椭圆，体现了线性变换对方向的非均匀伸缩。\n",
    "\n",
    "---\n",
    "\n",
    "### 四、变换单位正方形\n",
    "\n",
    "函数 `unit_sqaure(A)` 变换单位正方形四个顶点：\n",
    "\n",
    "$$\n",
    "\\mathbf{x}_i \\in \\left\\{ (0,0), (1,0), (1,1), (0,1) \\right\\}\n",
    "$$\n",
    "\n",
    "变换后成为一个四边形：\n",
    "\n",
    "$$\n",
    "\\mathbf{x}_i' = A \\mathbf{x}_i\n",
    "$$\n",
    "\n",
    "从视觉上体现线性变换对形状的“剪切”和“伸缩”。\n",
    "\n",
    "---\n",
    "\n",
    "### 五、变换标准基向量与对角向量\n",
    "\n",
    "函数 `vectors(A)` 考察变换前的以下向量：\n",
    "\n",
    "- $\\mathbf{e}_1 = \\begin{bmatrix} 1 \\\\ 0 \\end{bmatrix}$\n",
    "- $\\mathbf{e}_2 = \\begin{bmatrix} 0 \\\\ 1 \\end{bmatrix}$\n",
    "- $\\mathbf{e}_1 + \\mathbf{e}_2 = \\begin{bmatrix} 1 \\\\ 1 \\end{bmatrix}$\n",
    "\n",
    "它们分别经过 $A$ 的作用后变为：\n",
    "\n",
    "- $A\\mathbf{e}_1$\n",
    "- $A\\mathbf{e}_2$\n",
    "- $A(\\mathbf{e}_1 + \\mathbf{e}_2)$\n",
    "\n",
    "这三条向量表示了线性变换在**基向量方向**和**对角方向**的“投影”效果。\n",
    "\n",
    "---\n",
    "\n",
    "### 六、可视化：`visualize(A)`\n",
    "\n",
    "最终绘图过程展示了所有这些被 $A$ 作用后的对象：\n",
    "\n",
    "1. **网格线的扭曲**，显示空间结构如何变形；\n",
    "2. **单位圆变为椭圆**，显示变换对不同方向的缩放比；\n",
    "3. **单位正方形变形为平行四边形**；\n",
    "4. **坐标轴方向的变换向量**（红为 $A\\mathbf{e}_1$，绿为 $A\\mathbf{e}_2$，黑为 $A(\\mathbf{e}_1 + \\mathbf{e}_2)$）；\n",
    "5. **以原点为中心的坐标系、背景网格、图像坐标轴等辅助结构**，保持图像整洁。\n",
    "\n",
    "这些对象的线性变换在几何上提供了关于 $A$ 的非常直观的理解，例如是否具有旋转、剪切、拉伸，以及是否可逆（如果变换后没有退化为低维）。\n"
   ]
  },
  {
   "cell_type": "markdown",
   "id": "28d60d82-4483-460e-a2b7-62741f9c88e2",
   "metadata": {},
   "source": [
    "## 初始化"
   ]
  },
  {
   "cell_type": "code",
   "execution_count": 2,
   "id": "86455193-3d75-4c6b-8a72-7cf30e680f7d",
   "metadata": {},
   "outputs": [],
   "source": [
    "import numpy as np\n",
    "import matplotlib.pyplot as plt"
   ]
  },
  {
   "cell_type": "markdown",
   "id": "4e08f428-ea45-4d57-8c54-4693dc3935b8",
   "metadata": {},
   "source": [
    "## 自定义函数，网格数据"
   ]
  },
  {
   "cell_type": "code",
   "execution_count": 4,
   "id": "2677c0fd-a1e5-46f8-bb9c-6cca75329d63",
   "metadata": {},
   "outputs": [],
   "source": [
    "def grid(A):\n",
    "\n",
    "    x1_grids = np.arange(-10,10+1)  # 横轴网格点\n",
    "    x2_grids = np.arange(-10,10+1)  # 纵轴网格点\n",
    "    xx1, xx2 = np.meshgrid(x1_grids, x2_grids)  # 生成网格\n",
    "    X_grid = np.stack([xx1, xx2], axis=2)  # 将网格堆叠为3维数组\n",
    "    A_X_grid = X_grid @ A.T # A线性变换\n",
    "\n",
    "    return A_X_grid"
   ]
  },
  {
   "cell_type": "markdown",
   "id": "ee61c558-e50a-42ff-bdba-fc9971191b28",
   "metadata": {},
   "source": [
    "## 自定义函数，单位圆数据"
   ]
  },
  {
   "cell_type": "code",
   "execution_count": 6,
   "id": "76582119-dace-4b8e-8e26-73a59a49fd82",
   "metadata": {},
   "outputs": [],
   "source": [
    "def circle(A):\n",
    "\n",
    "    theta_array = np.linspace(0,2*np.pi,721)\n",
    "    # 极坐标到直角坐标\n",
    "    x1_array = np.cos(theta_array)\n",
    "    x2_array = np.sin(theta_array)\n",
    "    unit_circle = np.column_stack([x1_array,x2_array])\n",
    "\n",
    "    A_unit_circle = unit_circle @ A.T # A线性变换\n",
    "\n",
    "    return A_unit_circle"
   ]
  },
  {
   "cell_type": "markdown",
   "id": "f8f52e65-dc35-4bf8-b3f7-a3d59f2ee72f",
   "metadata": {},
   "source": [
    "## 自定义函数，单位正方形数据"
   ]
  },
  {
   "cell_type": "code",
   "execution_count": 8,
   "id": "28dc5baf-2628-4da2-9831-bc26e45975a1",
   "metadata": {},
   "outputs": [],
   "source": [
    "def unit_square(A):\n",
    "    unit_square = np.array([[0, 0],\n",
    "                            [1, 0],\n",
    "                            [1, 1],\n",
    "                            [0, 1]])\n",
    "\n",
    "    A_unit_square = unit_square @ A.T # A线性变换\n",
    "    return A_unit_square"
   ]
  },
  {
   "cell_type": "markdown",
   "id": "b1b4c8b2-532a-429c-9225-fce117eb55e4",
   "metadata": {},
   "source": [
    "## 自定义函数，三个列向量"
   ]
  },
  {
   "cell_type": "code",
   "execution_count": 10,
   "id": "052ede0e-15eb-46d9-ac30-b4c09f29576f",
   "metadata": {},
   "outputs": [],
   "source": [
    "def vectors(A):\n",
    "    e1 = np.array([[1],\n",
    "                   [0]])\n",
    "    Ae1 = A@e1 # A线性变换\n",
    "\n",
    "    e2 = np.array([[0],\n",
    "                   [1]])\n",
    "    Ae2 = A@e2 # A线性变换\n",
    "\n",
    "    all_1 = e1 + e2\n",
    "    A_all_1 = A@all_1 # A线性变换\n",
    "\n",
    "    return Ae1, Ae2, A_all_1"
   ]
  },
  {
   "cell_type": "markdown",
   "id": "4b2fc755-3acc-4580-aa02-0348f3feb12c",
   "metadata": {},
   "source": [
    "## 定义可视化函数"
   ]
  },
  {
   "cell_type": "code",
   "execution_count": 12,
   "id": "8558df33-8fa9-489c-ac26-2ad6a98bdfcb",
   "metadata": {},
   "outputs": [],
   "source": [
    "def visualize(A):\n",
    "    fig, ax = plt.subplots()  \n",
    "\n",
    "    # 调用自定义函数创建数据\n",
    "    A_X_grid = grid(A)\n",
    "    A_unit_square = unit_square(A)\n",
    "    A_unit_circle = circle(A)\n",
    "    Ae1,Ae2,A_all_1 = vectors(A)\n",
    "\n",
    "    # 绘制变换后的网格\n",
    "    for i in range(A_X_grid.shape[0]):\n",
    "        plt.plot(A_X_grid[i, :, 0], \n",
    "                 A_X_grid[i, :, 1], \n",
    "                 'k-', linewidth=0.5)  # 绘制网格行\n",
    "    for j in range(A_X_grid.shape[1]):\n",
    "        plt.plot(A_X_grid[:, j, 0], \n",
    "                 A_X_grid[:, j, 1], \n",
    "                 'k-', linewidth=0.5)  # 绘制网格列\n",
    "    \n",
    "    # 绘制变换后的列向量\n",
    "    plt.quiver(0, 0, Ae1[0], Ae1[1], \n",
    "               angles='xy', scale_units='xy', \n",
    "               scale=1, color=[1, 0, 0], zorder = 1e5)\n",
    "    plt.quiver(0, 0, Ae2[0], Ae2[1], \n",
    "               angles='xy', scale_units='xy', \n",
    "               scale=1, color=[0, 1, 0], zorder = 1e5)\n",
    "    plt.quiver(0, 0, A_all_1[0], A_all_1[1], \n",
    "               angles='xy', scale_units='xy', \n",
    "               scale=1, color=[0, 0, 0], zorder = 1e5)\n",
    "\n",
    "    # 绘制变换后单位圆\n",
    "    plt.plot(A_unit_circle[:,0],A_unit_circle[:,1], c = 'k', ls = '--')\n",
    "\n",
    "    # 绘制变换后单位正方形\n",
    "    plt.fill(A_unit_square[:,0],A_unit_square[:,1], c = '#FFFFCC', ls = '--', zorder = 1)\n",
    "\n",
    "    # 装饰\n",
    "    plt.axvline(x=0, color='k', zorder=0)\n",
    "    plt.axhline(y=0, color='k', zorder=0)\n",
    "    ax.tick_params(axis='both', which='both', length=0, labelbottom=False, labelleft=False)\n",
    "    ax.set_aspect(1)\n",
    "    lim = 3; ax.set_xlim([-lim, lim]); ax.set_ylim([-lim, lim])\n",
    "    plt.xticks(np.arange(-lim, lim)); plt.yticks(np.arange(-lim, lim))\n",
    "    ax.grid(linestyle='--', linewidth=0.15, color=[0.8, 0.8, 0.8])  # 添加网格"
   ]
  },
  {
   "cell_type": "markdown",
   "id": "2abb32f9-bd55-4977-a292-d2ba4b5f41fe",
   "metadata": {},
   "source": [
    "## 可视化"
   ]
  },
  {
   "cell_type": "code",
   "execution_count": 14,
   "id": "bec98eef-e3d2-422b-b834-142298813395",
   "metadata": {},
   "outputs": [
    {
     "data": {
      "image/png": "[encoded data removed]",
      "text/plain": [
       "<Figure size 640x480 with 1 Axes>"
      ]
     },
     "metadata": {},
     "output_type": "display_data"
    }
   ],
   "source": [
    "A = np.array([[1, 2],\n",
    "              [2, 1]])\n",
    "visualize(A)"
   ]
  },
  {
   "cell_type": "code",
   "execution_count": null,
   "id": "03a556c4-b8c3-431e-b3ce-99fb169d5064",
   "metadata": {},
   "outputs": [],
   "source": []
  }
 ],
 "metadata": {
  "kernelspec": {
   "display_name": "Python [conda env:base] *",
   "language": "python",
   "name": "conda-base-py"
  },
  "language_info": {
   "codemirror_mode": {
    "name": "ipython",
    "version": 3
   },
   "file_extension": ".py",
   "mimetype": "text/x-python",
   "name": "python",
   "nbconvert_exporter": "python",
   "pygments_lexer": "ipython3",
   "version": "3.12.7"
  }
 },
 "nbformat": 4,
 "nbformat_minor": 5
}
