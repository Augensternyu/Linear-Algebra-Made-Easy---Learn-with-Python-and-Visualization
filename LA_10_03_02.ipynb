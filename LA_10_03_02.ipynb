{
 "cells": [
  {
   "cell_type": "markdown",
   "id": "e9dbd1c6-4248-4f45-8cb8-2cc31330ff5a",
   "metadata": {},
   "source": [
    "Chapter 10\n",
    "\n",
    "# 使用scikit-learn完成一元多项式回归\n",
    "《线性代数》 | 鸢尾花书：数学不难"
   ]
  },
  {
   "cell_type": "markdown",
   "id": "cd0b5004-f7c8-4e29-94ac-54b02e27075e",
   "metadata": {},
   "source": [
    "这段代码完整地实现了**一元八次多项式回归**的训练、预测与可视化过程，核心思想是在一维自变量 $x$ 上构造高阶多项式特征，并使用线性回归进行拟合。本质上，它利用了**特征升维 + 线性模型 = 非线性拟合能力增强**这一思路。我们从数学角度逐步解释每部分在做什么。\n",
    "\n",
    "---\n",
    "\n",
    "首先，代码读取了一组二维数据点，并将其分成输入 $x$ 和输出 $y$。形式如下：\n",
    "\n",
    "$$\n",
    "x = \\begin{bmatrix} 1 \\\\ 2 \\\\ 4 \\\\ 5 \\\\ 6 \\\\ 7 \\\\ 8 \\\\ 9 \\end{bmatrix}, \\quad\n",
    "y = \\begin{bmatrix} 1 \\\\ 7 \\\\ 8 \\\\ 6 \\\\ 5 \\\\ 2 \\\\ 2 \\\\ 4 \\end{bmatrix}\n",
    "$$\n",
    "\n",
    "---\n",
    "\n",
    "### 一、特征构造（Polynomial Features）\n",
    "\n",
    "设定多项式阶数为 $8$，通过 `PolynomialFeatures(degree=8)` 构造一个新的设计矩阵 $X_{\\text{poly}}$，其每一行包含如下内容：\n",
    "\n",
    "$$\n",
    "X_{\\text{poly}} = \n",
    "\\begin{bmatrix}\n",
    "1 & x & x^2 & x^3 & \\dots & x^8\n",
    "\\end{bmatrix}\n",
    "$$\n",
    "\n",
    "例如，对于 $x = 2$，构造出的特征向量为：\n",
    "\n",
    "$$\n",
    "[1, 2, 4, 8, 16, 32, 64, 128, 256]\n",
    "$$\n",
    "\n",
    "因此，对于每个样本点，特征维度从原来的 $1$ 升到了 $9$。这一步的核心是将原始一维变量 $x$ 投射到高维的特征空间中，使模型具有拟合复杂曲线的能力。\n",
    "\n",
    "---\n",
    "\n",
    "### 二、模型训练（最小二乘线性回归）\n",
    "\n",
    "使用 `LinearRegression()` 对构造出的特征进行拟合，目标是最小化平方误差，即求解以下最优化问题：\n",
    "\n",
    "$$\n",
    "\\min_{\\mathbf{b}} \\| X_{\\text{poly}} \\cdot \\mathbf{b} - y \\|^2\n",
    "$$\n",
    "\n",
    "其解析解为正规方程形式：\n",
    "\n",
    "$$\n",
    "\\mathbf{b} = (X^\\top X)^{-1} X^\\top y\n",
    "$$\n",
    "\n",
    "这里 $\\mathbf{b}$ 是一个 $9 \\times 1$ 的参数向量：\n",
    "\n",
    "$$\n",
    "\\mathbf{b} = \n",
    "\\begin{bmatrix}\n",
    "b_0 \\\\ b_1 \\\\ b_2 \\\\ \\dots \\\\ b_8\n",
    "\\end{bmatrix}\n",
    "$$\n",
    "\n",
    "回归预测值为：\n",
    "\n",
    "$$\n",
    "\\hat{y} = X_{\\text{poly}} \\cdot \\mathbf{b}\n",
    "$$\n",
    "\n",
    "---\n",
    "\n",
    "### 三、预测与可视化\n",
    "\n",
    "为了绘制回归曲线，代码在区间 $[0,10]$ 上生成了101个等距点，并用训练好的模型对这些点进行预测：\n",
    "\n",
    "$$\n",
    "\\hat{y}_{\\text{curve}} = \\text{poly\\_reg.predict}(X_{\\text{array}})\n",
    "$$\n",
    "\n",
    "其中 $X_{\\text{array}}$ 是新的输入点构造成的多项式特征。\n",
    "\n",
    "最终图像中：\n",
    "\n",
    "- 蓝色叉号为原始数据点 $(x_i, y_i)$；\n",
    "- 红色叉号为预测点 $(x_i, \\hat{y}_i)$；\n",
    "- 黄色半透明线段连接真实值与预测值，表示残差；\n",
    "- 红色曲线为八次多项式拟合出的函数图像。\n",
    "\n",
    "---\n",
    "\n",
    "### 四、模型表达式（回归公式）\n",
    "\n",
    "回归系数保存在 `coef` 中，常数项为 `intercept`，它们共同构成了最终回归模型的表达式：\n",
    "\n",
    "$$\n",
    "\\hat{y} = b_0 + b_1 x + b_2 x^2 + \\cdots + b_8 x^8\n",
    "$$\n",
    "\n",
    "代码将其格式化为 LaTeX 形式，并打印如下公式：\n",
    "\n",
    "```python\n",
    "y = 0.518 + 3.733x - 3.695x^2 + 1.082x^3 - 0.123x^4 + ...\n",
    "```\n",
    "\n",
    "注意：由于模型是高阶多项式，它的表达能力极强，可以拟合各种非线性趋势，但也容易出现“过拟合”，即模型过度追踪训练数据，导致泛化能力下降。\n",
    "\n",
    "---\n",
    "\n",
    "### 总结\n",
    "\n",
    "从数学视角看，这段代码实现了将一元非线性问题通过高阶多项式特征转化为线性模型，并通过最小二乘法拟合参数，从而完成对数据的建模。高阶多项式提供了强大的拟合能力，图像展示也很好地体现了拟合精度与模型复杂度之间的平衡关系。"
   ]
  },
  {
   "cell_type": "markdown",
   "id": "2e7a84f8-9591-46d9-acc8-8dd6d8f28859",
   "metadata": {},
   "source": [
    "## 初始化"
   ]
  },
  {
   "cell_type": "code",
   "execution_count": 4,
   "id": "27485785-fcc0-43fa-923c-876809ecf7db",
   "metadata": {},
   "outputs": [],
   "source": [
    "import numpy as np\n",
    "import matplotlib.pyplot as plt\n",
    "from sklearn.preprocessing import PolynomialFeatures\n",
    "from sklearn.linear_model import LinearRegression"
   ]
  },
  {
   "cell_type": "code",
   "execution_count": 5,
   "id": "b7a1fd17-1e39-4489-9dd2-c76d59deb59f",
   "metadata": {},
   "outputs": [],
   "source": [
    "data = np.array([[1, 1],\n",
    "                 [2, 7],\n",
    "                 [4, 8],\n",
    "                 [5, 6],\n",
    "                 [6, 5],\n",
    "                 [7, 2],\n",
    "                 [8, 2],\n",
    "                 [9, 4]])\n",
    "x = data[:,[0]]\n",
    "y = data[:,[1]]"
   ]
  },
  {
   "cell_type": "markdown",
   "id": "3a3aa749-f9b1-48ce-9726-2281eb27e8fe",
   "metadata": {},
   "source": [
    "## 回归模型"
   ]
  },
  {
   "cell_type": "code",
   "execution_count": 7,
   "id": "40ff158c-f782-4837-b3d0-59f5b40bf780",
   "metadata": {},
   "outputs": [],
   "source": [
    "x_array = np.linspace(0,10,101).reshape(-1,1)"
   ]
  },
  {
   "cell_type": "code",
   "execution_count": 8,
   "id": "54867c9c-0d4b-4966-b2dc-461a6b1705de",
   "metadata": {},
   "outputs": [],
   "source": [
    "degree_idx = 8\n",
    "poly = PolynomialFeatures(degree = degree_idx)\n",
    "X_poly = poly.fit_transform(x.reshape(-1, 1))"
   ]
  },
  {
   "cell_type": "code",
   "execution_count": 9,
   "id": "82fc7eef-5cca-4f03-8841-4d4c0010260c",
   "metadata": {},
   "outputs": [],
   "source": [
    "# 训练线性回归模型\n",
    "poly_reg = LinearRegression()\n",
    "poly_reg.fit(X_poly, y)\n",
    "y_poly_pred = poly_reg.predict(X_poly)\n",
    "data_ = np.column_stack([x,y_poly_pred])\n",
    "\n",
    "y_array_pred = poly_reg.predict(\n",
    "                   poly.fit_transform(x_array))"
   ]
  },
  {
   "cell_type": "markdown",
   "id": "f351a793-2478-4df2-90d1-91f7a2b152a8",
   "metadata": {},
   "source": [
    "## 可视化"
   ]
  },
  {
   "cell_type": "code",
   "execution_count": 11,
   "id": "093ecf77-03c8-4168-9391-ae2896eb1a45",
   "metadata": {},
   "outputs": [
    {
     "data": {
      "text/plain": [
       "(0.0, 10.0)"
      ]
     },
     "execution_count": 11,
     "metadata": {},
     "output_type": "execute_result"
    },
    {
     "data": {
      "image/png": "[encoded data removed]",
      "text/plain": [
       "<Figure size 500x500 with 1 Axes>"
      ]
     },
     "metadata": {},
     "output_type": "display_data"
    }
   ],
   "source": [
    "fig, ax = plt.subplots(figsize=(5,5))\n",
    "\n",
    "# 绘制散点图\n",
    "ax.scatter(x, y, marker = 'x', color = 'b')\n",
    "ax.scatter(x, y_poly_pred, marker = 'x', color='r')\n",
    "\n",
    "ax.plot(([i for (i,j) in data_], [i for (i,j) in data]),\n",
    "        ([j for (i,j) in data_], [j for (i,j) in data]),\n",
    "         c='#FFC000', alpha = 0.5)\n",
    "\n",
    "ax.plot(x_array, y_array_pred, color='r')\n",
    "ax.set_title('Degree = %d' % degree_idx)\n",
    "\n",
    "# 提取参数\n",
    "coef = poly_reg.coef_\n",
    "intercept = poly_reg.intercept_\n",
    "# 回归解析式\n",
    "\n",
    "ax.set_aspect('equal', adjustable='box')\n",
    "ax.set_xticks(np.arange(11))\n",
    "ax.set_yticks(np.arange(11))\n",
    "ax.set_xlim(0,10)\n",
    "ax.grid(True, c = '0.8')\n",
    "ax.set_ylim(0,10)"
   ]
  },
  {
   "cell_type": "code",
   "execution_count": 12,
   "id": "15811bd9-2242-4425-ae16-b1bace1456fc",
   "metadata": {},
   "outputs": [
    {
     "name": "stdout",
     "output_type": "stream",
     "text": [
      "$y = 7.123 -11.430x^1 -2.828x^2 + 15.342x^3 -9.463x^4 + 2.599x^5 -0.370x^6 + 0.027x^7 -0.001x^8$\n"
     ]
    }
   ],
   "source": [
    "equation = '$y = {:.3f}'.format(intercept[0])\n",
    "for j in range(1, len(coef[0])):\n",
    "    equation += ' + {:.3f}x^{}'.format(coef[0][j], j)\n",
    "equation += '$'\n",
    "equation = equation.replace(\"+ -\", \"-\")\n",
    "print(equation)"
   ]
  },
  {
   "cell_type": "markdown",
   "id": "06de12c2-2ca1-4e50-ad57-74190d7f1655",
   "metadata": {},
   "source": [
    "作者\t**生姜DrGinger**  \n",
    "脚本\t**生姜DrGinger**  \n",
    "视频\t**崔崔CuiCui**  \n",
    "开源资源\t[**GitHub**](https://github.com/Visualize-ML)  \n",
    "平台\t[**油管**](https://www.youtube.com/@DrGinger_Jiang)\t\t\n",
    "\t\t[**iris小课堂**](https://space.bilibili.com/3546865719052873)\t\t\n",
    "\t\t[**生姜DrGinger**](https://space.bilibili.com/513194466)  "
   ]
  }
 ],
 "metadata": {
  "kernelspec": {
   "display_name": "Python [conda env:base] *",
   "language": "python",
   "name": "conda-base-py"
  },
  "language_info": {
   "codemirror_mode": {
    "name": "ipython",
    "version": 3
   },
   "file_extension": ".py",
   "mimetype": "text/x-python",
   "name": "python",
   "nbconvert_exporter": "python",
   "pygments_lexer": "ipython3",
   "version": "3.12.7"
  }
 },
 "nbformat": 4,
 "nbformat_minor": 5
}
