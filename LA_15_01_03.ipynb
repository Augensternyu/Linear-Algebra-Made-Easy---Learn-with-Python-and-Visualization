{
 "cells": [
  {
   "cell_type": "markdown",
   "id": "233b203a-1a75-4e1f-a022-ad3523989552",
   "metadata": {},
   "source": [
    "Chapter 15\n",
    "\n",
    "# 度矩阵\n",
    "《线性代数》 | 鸢尾花书：数学不难"
   ]
  },
  {
   "cell_type": "markdown",
   "id": "7c0aa49d-7fbc-47e4-a4a9-c1abe77fed6f",
   "metadata": {},
   "source": [
    "这段代码从图论的角度出发，借助 `networkx` 库构建了一个无向图，并计算了该图的**邻接矩阵**与**度矩阵**。下面我们从数学视角详细解读这段代码的核心思想与数学含义，适合配合线性代数和图论课程理解图结构的代数表示。\n",
    "\n",
    "---\n",
    "\n",
    "首先定义的邻接矩阵为：\n",
    "\n",
    "$$\n",
    "A = \\begin{bmatrix}\n",
    "0 & 1 & 1 & 1 \\\\\n",
    "1 & 0 & 1 & 0 \\\\\n",
    "1 & 1 & 0 & 1 \\\\\n",
    "1 & 0 & 1 & 0\n",
    "\\end{bmatrix}\n",
    "$$\n",
    "\n",
    "$A_{ij}$ 表示节点 $i$ 与节点 $j$ 是否连接；如果连接则为 1，否则为 0。由于该图是**无向图**，邻接矩阵满足对称性：$A = A^T$。\n",
    "\n",
    "---\n",
    "\n",
    "然后通过 `nx.Graph(adjacency_matrix)` 将这个邻接矩阵转换成一个无向图对象，并通过 `nx.relabel_nodes` 将原本的节点 0, 1, 2, 3 映射为更具可读性的标签 'a', 'b', 'c', 'd'。这一步没有数学计算，但有利于理解节点之间的关系。\n",
    "\n",
    "---\n",
    "\n",
    "接下来定义的 `pos` 是节点在平面上的位置，用于可视化绘图。通过 `nx.draw_networkx` 展示图结构，用户可以从图形直观看到每对相邻节点之间是否存在边连接。\n",
    "\n",
    "---\n",
    "\n",
    "接下来的核心部分是计算邻接矩阵和度矩阵。\n",
    "\n",
    "再次从 `undirected_G` 得到邻接矩阵 $A$（其实和之前定义的是一样的），用 `.toarray()` 得到 NumPy 格式。然后构造了一个全为 1 的列向量：\n",
    "\n",
    "$$\n",
    "\\mathbf{1} = \\begin{bmatrix}1 \\\\ 1 \\\\ 1 \\\\ 1\\end{bmatrix}\n",
    "$$\n",
    "\n",
    "这个列向量是计算节点度数（degree）的关键工具：\n",
    "\n",
    "- $A \\cdot \\mathbf{1}$ 代表每一行的元素和，即每个节点的度（连接的边数）：\n",
    "  $$\n",
    "  A \\cdot \\mathbf{1} = \\begin{bmatrix}\n",
    "  3 \\\\\n",
    "  2 \\\\\n",
    "  3 \\\\\n",
    "  2\n",
    "  \\end{bmatrix}\n",
    "  $$\n",
    "\n",
    "- $\\mathbf{1}^T \\cdot A$ 是对称的，也就是每列的和（也表示节点的度），因为 $A$ 是对称矩阵，所以这两个结果相同。\n",
    "\n",
    "---\n",
    "\n",
    "然后用 `np.diag` 把每个节点的度放到对角线构造**度矩阵** $D$：\n",
    "\n",
    "$$\n",
    "D = \\begin{bmatrix}\n",
    "3 & 0 & 0 & 0 \\\\\n",
    "0 & 2 & 0 & 0 \\\\\n",
    "0 & 0 & 3 & 0 \\\\\n",
    "0 & 0 & 0 & 2\n",
    "\\end{bmatrix}\n",
    "$$\n",
    "\n",
    "这个矩阵在图论中非常重要，因为它结合邻接矩阵可以用来定义**图拉普拉斯矩阵**：\n",
    "\n",
    "$$\n",
    "L = D - A\n",
    "$$\n",
    "\n",
    "图拉普拉斯矩阵 $L$ 在**图的连通性、谱聚类、图信号处理**等领域有重要作用。虽然本段代码没有显式计算 $L$，但度矩阵和邻接矩阵的准备已经为其铺平了道路。\n",
    "\n",
    "---\n",
    "\n",
    "最后的 `D_ = np.diag(A.sum(axis = 1))` 是另一种写法，也构造了度矩阵。由于 $A$ 是对称的，按行求和和按列求和是一样的，所以 $D$ 和 $D_$ 是相同的矩阵。\n",
    "\n",
    "---\n",
    "\n",
    "综上，这段代码完整地展示了如何从图的结构出发，用线性代数中的矩阵形式表示图的拓扑特征，并通过计算邻接矩阵与度矩阵，为后续图论中的谱分析、路径分析和聚类分析等打下数学基础。"
   ]
  },
  {
   "cell_type": "markdown",
   "id": "19e5bd7e-bd17-482e-be3e-000b596a09d0",
   "metadata": {},
   "source": [
    "## 初始化"
   ]
  },
  {
   "cell_type": "code",
   "execution_count": 4,
   "id": "7d7c462a-c294-4f88-a4a7-6be0b6aecf17",
   "metadata": {},
   "outputs": [],
   "source": [
    "import matplotlib.pyplot as plt\n",
    "import networkx as nx\n",
    "import numpy as np"
   ]
  },
  {
   "cell_type": "markdown",
   "id": "633d0f38-8b87-42ca-abc0-e738d80a67cc",
   "metadata": {},
   "source": [
    "## 定义邻接矩阵"
   ]
  },
  {
   "cell_type": "code",
   "execution_count": 6,
   "id": "e53aa32b-f827-44a3-bba3-3927279c3615",
   "metadata": {},
   "outputs": [],
   "source": [
    "adjacency_matrix = np.array([[0, 1, 1, 1],\n",
    "                             [1, 0, 1, 0],\n",
    "                             [1, 1, 0, 1],\n",
    "                             [1, 0, 1, 0]])"
   ]
  },
  {
   "cell_type": "markdown",
   "id": "0f0820c2-fda1-4f4b-9cbf-e520ac9fa465",
   "metadata": {},
   "source": [
    "## 创建无向图"
   ]
  },
  {
   "cell_type": "code",
   "execution_count": 8,
   "id": "52fd8065-1144-4886-afe3-840e57de0ee0",
   "metadata": {},
   "outputs": [],
   "source": [
    "undirected_G = nx.Graph(adjacency_matrix, nodetype=int)\n",
    "# 用邻接矩阵创建无向图\n",
    "\n",
    "# 构造节点映射\n",
    "mapping = {0: 'a', 1: 'b', 2: 'c', 3: 'd'}\n",
    "\n",
    "# 重命名节点\n",
    "undirected_G = nx.relabel_nodes(undirected_G, mapping)"
   ]
  },
  {
   "cell_type": "markdown",
   "id": "74501c72-2205-46cc-8ddb-8abe91e32e31",
   "metadata": {},
   "source": [
    "## 定义节点坐标"
   ]
  },
  {
   "cell_type": "code",
   "execution_count": 10,
   "id": "a62cc18d-eb71-4490-8dc0-2731ada91042",
   "metadata": {},
   "outputs": [],
   "source": [
    "pos = {'a':[0, 0], \n",
    "       'b':[1, 0],\n",
    "       'c':[1, 1],\n",
    "       'd':[0, 1]}"
   ]
  },
  {
   "cell_type": "markdown",
   "id": "9ba47ad7-2bd9-4660-b4af-7d395276aad1",
   "metadata": {},
   "source": [
    "## 可视化"
   ]
  },
  {
   "cell_type": "code",
   "execution_count": 12,
   "id": "ced4448e-0ef3-496a-b3d5-9ed907c7c713",
   "metadata": {},
   "outputs": [
    {
     "data": {
      "image/png": "[encoded data removed]",
      "text/plain": [
       "<Figure size 600x600 with 1 Axes>"
      ]
     },
     "metadata": {},
     "output_type": "display_data"
    }
   ],
   "source": [
    "plt.figure(figsize = (6,6))\n",
    "nx.draw_networkx(undirected_G, pos = pos, node_size = 188, with_labels=True)"
   ]
  },
  {
   "cell_type": "markdown",
   "id": "32a7f1da-9503-4634-ae7b-ec982967cc9b",
   "metadata": {},
   "source": [
    "## 再算邻接矩阵"
   ]
  },
  {
   "cell_type": "code",
   "execution_count": 14,
   "id": "52210193-96bb-4b37-b0fa-13c8dd17ecad",
   "metadata": {},
   "outputs": [],
   "source": [
    "A = nx.adjacency_matrix(undirected_G).toarray()"
   ]
  },
  {
   "cell_type": "code",
   "execution_count": 34,
   "id": "322f29bd-ef53-42e9-8a3a-f57f7c49ea3e",
   "metadata": {},
   "outputs": [
    {
     "data": {
      "text/plain": [
       "array([[3, 1, 2, 1],\n",
       "       [1, 2, 1, 2],\n",
       "       [2, 1, 3, 1],\n",
       "       [1, 2, 1, 2]])"
      ]
     },
     "execution_count": 34,
     "metadata": {},
     "output_type": "execute_result"
    }
   ],
   "source": [
    "A @ A"
   ]
  },
  {
   "cell_type": "markdown",
   "id": "00754bae-aec2-4974-9138-6c61f8d48de5",
   "metadata": {},
   "source": [
    "## 度矩阵"
   ]
  },
  {
   "cell_type": "code",
   "execution_count": 16,
   "id": "5eb9727b-346e-4b0f-81fa-a2c819df30be",
   "metadata": {},
   "outputs": [
    {
     "data": {
      "text/plain": [
       "array([[1.],\n",
       "       [1.],\n",
       "       [1.],\n",
       "       [1.]])"
      ]
     },
     "execution_count": 16,
     "metadata": {},
     "output_type": "execute_result"
    }
   ],
   "source": [
    "All_1s = np.ones((4,1))\n",
    "All_1s"
   ]
  },
  {
   "cell_type": "code",
   "execution_count": 17,
   "id": "266ddc6a-820b-4e18-86be-1193822b44df",
   "metadata": {},
   "outputs": [
    {
     "data": {
      "text/plain": [
       "array([[3., 2., 3., 2.]])"
      ]
     },
     "execution_count": 17,
     "metadata": {},
     "output_type": "execute_result"
    }
   ],
   "source": [
    "All_1s.T @ A"
   ]
  },
  {
   "cell_type": "code",
   "execution_count": 18,
   "id": "f35a7c40-462f-4d6d-8bef-e195d099575d",
   "metadata": {},
   "outputs": [
    {
     "data": {
      "text/plain": [
       "array([[3.],\n",
       "       [2.],\n",
       "       [3.],\n",
       "       [2.]])"
      ]
     },
     "execution_count": 18,
     "metadata": {},
     "output_type": "execute_result"
    }
   ],
   "source": [
    "A @ All_1s"
   ]
  },
  {
   "cell_type": "code",
   "execution_count": 19,
   "id": "7c1ad524-c42a-4df9-a09c-536934ef2624",
   "metadata": {},
   "outputs": [
    {
     "data": {
      "text/plain": [
       "array([[3, 0, 0, 0],\n",
       "       [0, 2, 0, 0],\n",
       "       [0, 0, 3, 0],\n",
       "       [0, 0, 0, 2]])"
      ]
     },
     "execution_count": 19,
     "metadata": {},
     "output_type": "execute_result"
    }
   ],
   "source": [
    "nodes = list(undirected_G.nodes())\n",
    "degrees = [undirected_G.degree(n) for n in nodes]\n",
    "\n",
    "# 构造度矩阵\n",
    "D = np.diag(degrees)\n",
    "D"
   ]
  },
  {
   "cell_type": "code",
   "execution_count": 20,
   "id": "78baccae-2e82-49b4-ac6f-1cbf37987a5a",
   "metadata": {},
   "outputs": [
    {
     "data": {
      "text/plain": [
       "array([[3, 0, 0, 0],\n",
       "       [0, 2, 0, 0],\n",
       "       [0, 0, 3, 0],\n",
       "       [0, 0, 0, 2]])"
      ]
     },
     "execution_count": 20,
     "metadata": {},
     "output_type": "execute_result"
    }
   ],
   "source": [
    "D = np.diag(A.sum(axis = 0))\n",
    "D"
   ]
  },
  {
   "cell_type": "code",
   "execution_count": 21,
   "id": "f100a8bf-e7bf-4eaa-9c6d-2a7a4a8d0a60",
   "metadata": {},
   "outputs": [
    {
     "data": {
      "text/plain": [
       "array([[3, 0, 0, 0],\n",
       "       [0, 2, 0, 0],\n",
       "       [0, 0, 3, 0],\n",
       "       [0, 0, 0, 2]])"
      ]
     },
     "execution_count": 21,
     "metadata": {},
     "output_type": "execute_result"
    }
   ],
   "source": [
    "D = np.diag(A.sum(axis = 1))\n",
    "D"
   ]
  },
  {
   "cell_type": "markdown",
   "id": "836f80e5-d652-483f-9cb6-49abfd4f95cc",
   "metadata": {},
   "source": [
    "作者\t**生姜DrGinger**  \n",
    "脚本\t**生姜DrGinger**  \n",
    "视频\t**崔崔CuiCui**  \n",
    "开源资源\t[**GitHub**](https://github.com/Visualize-ML)  \n",
    "平台\t[**油管**](https://www.youtube.com/@DrGinger_Jiang)\t\t\n",
    "\t\t[**iris小课堂**](https://space.bilibili.com/3546865719052873)\t\t\n",
    "\t\t[**生姜DrGinger**](https://space.bilibili.com/513194466)  "
   ]
  }
 ],
 "metadata": {
  "kernelspec": {
   "display_name": "Python [conda env:base] *",
   "language": "python",
   "name": "conda-base-py"
  },
  "language_info": {
   "codemirror_mode": {
    "name": "ipython",
    "version": 3
   },
   "file_extension": ".py",
   "mimetype": "text/x-python",
   "name": "python",
   "nbconvert_exporter": "python",
   "pygments_lexer": "ipython3",
   "version": "3.12.7"
  }
 },
 "nbformat": 4,
 "nbformat_minor": 5
}
